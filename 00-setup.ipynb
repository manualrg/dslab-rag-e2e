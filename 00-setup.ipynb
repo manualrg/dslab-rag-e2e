{
 "cells": [
  {
   "cell_type": "markdown",
   "id": "0e9a1b53",
   "metadata": {},
   "source": [
    "# Setup\n",
    "\n",
    "Check that everything is ok!"
   ]
  },
  {
   "cell_type": "code",
   "execution_count": 9,
   "id": "d80ab1d5",
   "metadata": {},
   "outputs": [
    {
     "name": "stdout",
     "output_type": "stream",
     "text": [
      "The autoreload extension is already loaded. To reload it, use:\n",
      "  %reload_ext autoreload\n"
     ]
    }
   ],
   "source": [
    "%load_ext autoreload\n",
    "%autoreload 2"
   ]
  },
  {
   "cell_type": "code",
   "execution_count": 10,
   "id": "4049cf09",
   "metadata": {},
   "outputs": [],
   "source": [
    "import os\n",
    "from dotenv import load_dotenv\n",
    "from openai import OpenAI\n",
    "from mistralai import Mistral\n",
    "from qdrant_client import QdrantClient"
   ]
  },
  {
   "cell_type": "code",
   "execution_count": 11,
   "id": "dc6ee03b",
   "metadata": {},
   "outputs": [
    {
     "data": {
      "text/plain": [
       "WindowsPath('c:/Users/manua/Documents/repos/dslabs/dslab-rag-e2e/data')"
      ]
     },
     "execution_count": 11,
     "metadata": {},
     "output_type": "execute_result"
    }
   ],
   "source": [
    "from src import utils\n",
    "\n",
    "utils.path_data  # check imports from src\n"
   ]
  },
  {
   "cell_type": "code",
   "execution_count": 12,
   "id": "5bc38739",
   "metadata": {},
   "outputs": [
    {
     "name": "stdout",
     "output_type": "stream",
     "text": [
      "sys.version='3.10.18 (main, Aug  6 2025, 22:52:47) [MSC v.1944 64 bit (AMD64)]'\n",
      "numpy.__version__='2.2.6'\n",
      "pydantic.__version__='2.11.7'\n",
      "onnxruntime.__version__='1.22.1'\n"
     ]
    }
   ],
   "source": [
    "import sys\n",
    "import numpy\n",
    "import onnxruntime\n",
    "import pydantic\n",
    "\n",
    "print(f\"{sys.version=}\")\n",
    "print(f\"{numpy.__version__=}\")\n",
    "print(f\"{pydantic.__version__=}\")\n",
    "print(f\"{onnxruntime.__version__=}\")"
   ]
  },
  {
   "cell_type": "markdown",
   "id": "2502002d",
   "metadata": {},
   "source": [
    "# Environment variables"
   ]
  },
  {
   "cell_type": "code",
   "execution_count": 15,
   "id": "c8f0793c",
   "metadata": {},
   "outputs": [],
   "source": [
    "load_dotenv()\n",
    "\n",
    "OPENAI_API_KEY = os.environ['OPENAI_API_KEY']\n",
    "QDRANT_API_KEY = os.environ['QDRANT_API_KEY']\n",
    "MISTRAL_API_KEY = os.environ[\"MISTRAL_API_KEY\"]\n"
   ]
  },
  {
   "cell_type": "markdown",
   "id": "ab356a06",
   "metadata": {},
   "source": [
    "# OpenAI"
   ]
  },
  {
   "cell_type": "code",
   "execution_count": 16,
   "id": "c148e905",
   "metadata": {},
   "outputs": [
    {
     "name": "stdout",
     "output_type": "stream",
     "text": [
      "1536\n"
     ]
    }
   ],
   "source": [
    "client_openai = OpenAI(\n",
    "    api_key=OPENAI_API_KEY\n",
    ")\n",
    "\n",
    "response = client_openai.embeddings.create(\n",
    "    input=\"Your text string goes here\",\n",
    "    model=\"text-embedding-3-small\"\n",
    ")\n",
    "\n",
    "print(len(response.data[0].embedding))"
   ]
  },
  {
   "cell_type": "code",
   "execution_count": null,
   "id": "95c68b8e",
   "metadata": {},
   "outputs": [],
   "source": [
    "response = client_openai.responses.create(\n",
    "    model=\"gpt-4.1-mini-2025-04-14\",\n",
    "    input=\"Tell me a joke about devops\"\n",
    ")\n",
    "\n",
    "print(response.output_text)"
   ]
  },
  {
   "cell_type": "markdown",
   "id": "ca518ebe",
   "metadata": {},
   "source": [
    "# Vector DB"
   ]
  },
  {
   "cell_type": "code",
   "execution_count": null,
   "id": "695a1f32",
   "metadata": {},
   "outputs": [],
   "source": [
    "qdrant_client = QdrantClient(\n",
    "    url=\"https://e0634f57-b3c9-4193-8355-cf7e48c8e247.europe-west3-0.gcp.cloud.qdrant.io\", \n",
    "    api_key=QDRANT_API_KEY,\n",
    ")\n",
    "\n",
    "print(qdrant_client.get_collections())\n",
    "\n"
   ]
  },
  {
   "cell_type": "markdown",
   "id": "3b869488",
   "metadata": {},
   "source": [
    "# MistralAI"
   ]
  },
  {
   "cell_type": "code",
   "execution_count": 20,
   "id": "9359ca63",
   "metadata": {},
   "outputs": [
    {
     "ename": "AttributeError",
     "evalue": "'Chat' object has no attribute 'complete'",
     "output_type": "error",
     "traceback": [
      "\u001b[1;31m---------------------------------------------------------------------------\u001b[0m",
      "\u001b[1;31mAttributeError\u001b[0m                            Traceback (most recent call last)",
      "Cell \u001b[1;32mIn[20], line 6\u001b[0m\n\u001b[0;32m      1\u001b[0m client_ix  \u001b[38;5;241m=\u001b[39m OpenAI(\n\u001b[0;32m      2\u001b[0m     api_key\u001b[38;5;241m=\u001b[39mMISTRAL_API_KEY\n\u001b[0;32m      3\u001b[0m )\n\u001b[1;32m----> 6\u001b[0m chat_response  \u001b[38;5;241m=\u001b[39m \u001b[43mclient_ix\u001b[49m\u001b[38;5;241;43m.\u001b[39;49m\u001b[43mchat\u001b[49m\u001b[38;5;241;43m.\u001b[39;49m\u001b[43mcomplete\u001b[49m(\n\u001b[0;32m      7\u001b[0m     model \u001b[38;5;241m=\u001b[39m \u001b[38;5;124m\"\u001b[39m\u001b[38;5;124mmistral-medium-2505\u001b[39m\u001b[38;5;124m\"\u001b[39m,\n\u001b[0;32m      8\u001b[0m     messages \u001b[38;5;241m=\u001b[39m [\n\u001b[0;32m      9\u001b[0m         {\n\u001b[0;32m     10\u001b[0m             \u001b[38;5;124m\"\u001b[39m\u001b[38;5;124mrole\u001b[39m\u001b[38;5;124m\"\u001b[39m: \u001b[38;5;124m\"\u001b[39m\u001b[38;5;124muser\u001b[39m\u001b[38;5;124m\"\u001b[39m,\n\u001b[0;32m     11\u001b[0m             \u001b[38;5;124m\"\u001b[39m\u001b[38;5;124mcontent\u001b[39m\u001b[38;5;124m\"\u001b[39m: \u001b[38;5;124m\"\u001b[39m\u001b[38;5;124mTell me a joke about devops\u001b[39m\u001b[38;5;124m\"\u001b[39m,\n\u001b[0;32m     12\u001b[0m         },\n\u001b[0;32m     13\u001b[0m     ]\n\u001b[0;32m     14\u001b[0m )\n\u001b[0;32m     16\u001b[0m \u001b[38;5;28mprint\u001b[39m(chat_response\u001b[38;5;241m.\u001b[39mchoices[\u001b[38;5;241m0\u001b[39m]\u001b[38;5;241m.\u001b[39mmessage\u001b[38;5;241m.\u001b[39mcontent)\n",
      "\u001b[1;31mAttributeError\u001b[0m: 'Chat' object has no attribute 'complete'"
     ]
    }
   ],
   "source": [
    "client_ix  = OpenAI(\n",
    "    api_key=MISTRAL_API_KEY\n",
    ")\n"
   ]
  },
  {
   "cell_type": "code",
   "execution_count": null,
   "id": "473f25de",
   "metadata": {},
   "outputs": [],
   "source": []
  },
  {
   "cell_type": "code",
   "execution_count": null,
   "id": "0e9fd096",
   "metadata": {},
   "outputs": [],
   "source": [
    "client_mistral = Mistral(api_key=MISTRAL_API_KEY)"
   ]
  },
  {
   "cell_type": "code",
   "execution_count": null,
   "id": "f64e9afa",
   "metadata": {},
   "outputs": [],
   "source": [
    "client_mistral.models.list()"
   ]
  },
  {
   "cell_type": "code",
   "execution_count": null,
   "id": "4c519573",
   "metadata": {},
   "outputs": [],
   "source": [
    "chat_response = client_mistral.chat.complete(\n",
    "    model = \"mistral-medium-2505\",\n",
    "    messages = [\n",
    "        {\n",
    "            \"role\": \"user\",\n",
    "            \"content\": \"Tell me a joke about devops\",\n",
    "        },\n",
    "    ]\n",
    ")\n",
    "\n",
    "print(chat_response.choices[0].message.content)"
   ]
  },
  {
   "cell_type": "markdown",
   "id": "be6838d8",
   "metadata": {},
   "source": [
    "# Conf"
   ]
  },
  {
   "cell_type": "code",
   "execution_count": 6,
   "id": "c60aa317",
   "metadata": {},
   "outputs": [
    {
     "data": {
      "text/plain": [
       "Settings(llm_workhorse='gpt-4.1-mini-2025-04-14', llm_flagship='gpt-4.1-2025-04-14', embeddings='text-embedding-3-small', embeddings_dim=1536, vdb_index='space', retrieve_k=3, name_dense='dense', name_sparse='sparse', model_sparse='Qdrant/bm25')"
      ]
     },
     "execution_count": 6,
     "metadata": {},
     "output_type": "execute_result"
    }
   ],
   "source": [
    "from src import conf\n",
    "conf_settings = conf.load(file=\"settings.yaml\")\n",
    "conf_settings"
   ]
  },
  {
   "cell_type": "code",
   "execution_count": null,
   "id": "e92f87b4",
   "metadata": {},
   "outputs": [],
   "source": [
    "conf_settings.llm_workhorse"
   ]
  },
  {
   "cell_type": "code",
   "execution_count": null,
   "id": "7dec7a6a",
   "metadata": {},
   "outputs": [],
   "source": [
    "conf_infra = conf.load(file=\"infra.yaml\")\n",
    "conf_infra"
   ]
  },
  {
   "cell_type": "markdown",
   "id": "94830ce4",
   "metadata": {},
   "source": [
    "# Initialize the project\n",
    "\n",
    "Run once and comment"
   ]
  },
  {
   "cell_type": "code",
   "execution_count": null,
   "id": "26fc26a5",
   "metadata": {},
   "outputs": [],
   "source": [
    "# utils.create_folders()"
   ]
  }
 ],
 "metadata": {
  "kernelspec": {
   "display_name": "dslab-rag-e2e",
   "language": "python",
   "name": "python3"
  },
  "language_info": {
   "codemirror_mode": {
    "name": "ipython",
    "version": 3
   },
   "file_extension": ".py",
   "mimetype": "text/x-python",
   "name": "python",
   "nbconvert_exporter": "python",
   "pygments_lexer": "ipython3",
   "version": "3.10.18"
  }
 },
 "nbformat": 4,
 "nbformat_minor": 5
}
