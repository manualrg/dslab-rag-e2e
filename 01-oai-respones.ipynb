{
 "cells": [
  {
   "cell_type": "markdown",
   "id": "3a80179e",
   "metadata": {},
   "source": [
    "# Create a RAG with Responses API\n",
    "\n",
    "TO EXECUTE, YOU NEED TO FILL INPUT DATA\n",
    "\n",
    "![oai-responses](docs/oai-responses.png)\n",
    "\n",
    "* [OpenAI Responses API](https://platform.openai.com/docs/api-reference/responses)\n",
    "* [Azure OpenAI Responses API](https://learn.microsoft.com/en-us/azure/ai-foundry/openai/how-to/responses?tabs=python-key)\n",
    "* [Vertex AI RAG Engine overview](https://cloud.google.com/vertex-ai/generative-ai/docs/rag-engine/rag-overview?_gl=1*1gh4852*_up*MQ..&gclid=CjwKCAjw2vTFBhAuEiwAFaScwheDO8BoxS9t35aQYzYpVChMuVZr8xP7S7bEUNvDPrXD7bD8gZOPKxoC_Z0QAvD_BwE&gclsrc=aw.ds)\n",
    "\n",
    "\n",
    "https://platform.openai.com/docs/guides/retrieval"
   ]
  },
  {
   "cell_type": "code",
   "execution_count": 2,
   "id": "048ab727",
   "metadata": {},
   "outputs": [],
   "source": [
    "%load_ext autoreload\n",
    "%autoreload 2"
   ]
  },
  {
   "cell_type": "code",
   "execution_count": 3,
   "id": "bba54eca",
   "metadata": {},
   "outputs": [],
   "source": [
    "import os\n",
    "from pathlib import Path\n",
    "from dotenv import load_dotenv\n",
    "from openai import OpenAI\n",
    "from src import utils, conf"
   ]
  },
  {
   "cell_type": "markdown",
   "id": "cc10d594",
   "metadata": {},
   "source": [
    "# Params"
   ]
  },
  {
   "cell_type": "code",
   "execution_count": 4,
   "id": "b8eb5797",
   "metadata": {},
   "outputs": [],
   "source": [
    "settings = conf.load(file=\"settings.yaml\")\n",
    "INDEX = settings.vdb_index\n",
    "LLM = settings.llm_workhorse\n",
    "RETRIEVE_K = 3"
   ]
  },
  {
   "cell_type": "markdown",
   "id": "1c2cf4c6",
   "metadata": {},
   "source": [
    "# Environment Variables"
   ]
  },
  {
   "cell_type": "code",
   "execution_count": 5,
   "id": "6676a352",
   "metadata": {},
   "outputs": [],
   "source": [
    "load_dotenv()\n",
    "\n",
    "OPENAI_API_KEY = os.environ[\"OPENAI_API_KEY\"]"
   ]
  },
  {
   "cell_type": "markdown",
   "id": "6077a74e",
   "metadata": {},
   "source": [
    "# Clients"
   ]
  },
  {
   "cell_type": "code",
   "execution_count": 6,
   "id": "92ad2b3a",
   "metadata": {},
   "outputs": [],
   "source": [
    "client_openai = OpenAI(\n",
    "    api_key=OPENAI_API_KEY\n",
    ")"
   ]
  },
  {
   "cell_type": "markdown",
   "id": "4c6b98c0",
   "metadata": {},
   "source": [
    "# Upload Data"
   ]
  },
  {
   "cell_type": "code",
   "execution_count": 7,
   "id": "9eaa7a66",
   "metadata": {},
   "outputs": [
    {
     "data": {
      "text/plain": [
       "WindowsPath('c:/Users/manua/Documents/repos/dslabs/dslab-rag-e2e/data/raw')"
      ]
     },
     "execution_count": 7,
     "metadata": {},
     "output_type": "execute_result"
    }
   ],
   "source": [
    "utils.path_data_raw"
   ]
  },
  {
   "cell_type": "code",
   "execution_count": 8,
   "id": "3a484190",
   "metadata": {},
   "outputs": [
    {
     "name": "stdout",
     "output_type": "stream",
     "text": [
      "pdf_files=[WindowsPath('c:/Users/manuelalberto.romero/Documents/repos/dslabs/dslab-rag-e2e/data/raw/3I_ATLAS, NAUKAS.pdf'), WindowsPath('c:/Users/manuelalberto.romero/Documents/repos/dslabs/dslab-rag-e2e/data/raw/Divulgacion Planetaria Althera.pdf'), WindowsPath('c:/Users/manuelalberto.romero/Documents/repos/dslabs/dslab-rag-e2e/data/raw/OMUAMUA. NAUKAS.pdf')]\n"
     ]
    }
   ],
   "source": [
    "# Identify every .pdf from data/raw/\n",
    "pdf_files = [f for f in utils.path_data_raw.glob(\"*.pdf\")]\n",
    "print(f\"{pdf_files=}\")"
   ]
  },
  {
   "cell_type": "code",
   "execution_count": null,
   "id": "723594e0",
   "metadata": {},
   "outputs": [
    {
     "name": "stdout",
     "output_type": "stream",
     "text": [
      "File: file-Cmfz2yXxTEdSC4kmbejzoR alredy added\n"
     ]
    }
   ],
   "source": [
    "file_path = utils.path_data_raw / \"Divulgacion Planetaria Althera.pdf\"\n",
    "id_file = 'file-Cmfz2yXxTEdSC4kmbejzoR'  # add file id once created from cell output print on the first run\n",
    "\n",
    "lst_oai_files = [x.id for x in client_openai.files.list()]\n",
    "\n",
    "if id_file not in lst_oai_files:\n",
    "    response_file = client_openai.files.create(\n",
    "        file=open(file_path, 'rb'),\n",
    "        purpose=\"assistants\",\n",
    "        expires_after={\n",
    "            \"anchor\": \"created_at\",\n",
    "            \"seconds\": 2592000   # 30d\n",
    "        })\n",
    "    print(f\"Added file: {response_file.id=}\")\n",
    "else:\n",
    "    print(f\"File: {id_file} alredy added\")"
   ]
  },
  {
   "cell_type": "markdown",
   "id": "cd0eba3e",
   "metadata": {},
   "source": [
    "# Index"
   ]
  },
  {
   "cell_type": "code",
   "execution_count": null,
   "id": "95918a72",
   "metadata": {},
   "outputs": [
    {
     "name": "stdout",
     "output_type": "stream",
     "text": [
      "VDB: vs_68c439e9f4ec81919fb796b283bf1da3 alredy exists\n"
     ]
    }
   ],
   "source": [
    "id_vdb = \"vs_68c439e9f4ec81919fb796b283bf1da3\"   # add vector store id once created from cell output print on the first run\n",
    "\n",
    "lst_oai_vdb =[x.id for x in client_openai.vector_stores.list()]\n",
    "\n",
    "if id_vdb not in lst_oai_vdb:\n",
    "    response_attach = client_openai.vector_stores.create(\n",
    "        name=INDEX,\n",
    "        file_ids=[response_file.id],\n",
    "        expires_after={\n",
    "            \"anchor\": \"last_active_at\",\n",
    "            \"days\": 30\n",
    "            }\n",
    "    )\n",
    "    print(f\"Created VDB: {response_attach.id=}\")\n",
    "else:\n",
    "    print(f\"VDB: {id_vdb} alredy exists\")\n",
    "\n"
   ]
  },
  {
   "cell_type": "code",
   "execution_count": 19,
   "id": "0d22c461",
   "metadata": {},
   "outputs": [],
   "source": [
    "# max_chunk_size_tokens of 800 and chunk_overlap_tokens of 400.\n",
    "vector_store_files = client_openai.vector_stores.files.list(\n",
    "  vector_store_id=id_vdb\n",
    ")\n",
    "\n",
    "lst_indexed_files = [x.id for x in vector_store_files.data]\n",
    "if id_file not in lst_indexed_files:\n",
    "    client_openai.vector_stores.files.create(\n",
    "        vector_store_id=id_vdb,\n",
    "        file_id=id_file\n",
    "    )\n",
    "    print(f\"Indexed file: {id_file=} in VDB: {id_vdb=}\")\n"
   ]
  },
  {
   "cell_type": "markdown",
   "id": "ce72e4d9",
   "metadata": {},
   "source": [
    "# Query"
   ]
  },
  {
   "cell_type": "code",
   "execution_count": 20,
   "id": "ea29a2c8",
   "metadata": {},
   "outputs": [],
   "source": [
    "query = \"¿A qué distancia de la Tierra está el sistema Althéra?\"\n",
    "res_search = client_openai.vector_stores.search(\n",
    "    vector_store_id=id_vdb,\n",
    "    query=query,\n",
    "    max_num_results=3\n",
    ")"
   ]
  },
  {
   "cell_type": "code",
   "execution_count": 18,
   "id": "66f83dd7",
   "metadata": {},
   "outputs": [
    {
     "name": "stdout",
     "output_type": "stream",
     "text": [
      "2550 of character of content from Divulgacion Planetaria Althera.pdf with a relevant score of 0.9878389379686081\n",
      "2292 of character of content from Divulgacion Planetaria Althera.pdf with a relevant score of 0.8624259655500602\n",
      "2602 of character of content from Divulgacion Planetaria Althera.pdf with a relevant score of 0.8129702299754368\n"
     ]
    }
   ],
   "source": [
    "for result in res_search.data:\n",
    "    print(str(len(result.content[0].text)) + ' of character of content from ' + result.filename + ' with a relevant score of ' + str(result.score))"
   ]
  },
  {
   "cell_type": "code",
   "execution_count": 22,
   "id": "ff902037",
   "metadata": {},
   "outputs": [
    {
     "data": {
      "text/plain": [
       "'1.4 Importancia científica y proyección futura \\n\\nEl descubrimiento de Althéra revolucionó la astrobiología y la física orbital por tres \\nrazones clave: \\n\\n1. Dinámica circumbinaria estable — demostró que los planetas pueden \\nmantener órbitas estables y climas equilibrados alrededor de dos soles, \\ndesafiando modelos anteriores. \\n\\n2. Química atmosférica compleja — Aurelia III presenta una mezcla de gases \\nque, en equilibrio fotoquímico, sugieren procesos biológicos o geoquímicos \\nactivos. \\n\\n3. Proximidad relativa — su cercanía permite observaciones directas en la \\npróxima década con telescopios como el Habitable Worlds Observatory \\n(HWO) y misiones de espectrometría directa de superficie como Starshot \\nSpectra. \\n\\nEn 2036, la Unión Astronómica Internacional otorgó a este hallazgo el Premio \\nMessier de Descubrimiento Astronómico y estableció el Programa Althéra, un \\nplan coordinado de investigación que combina observaciones remotas, simulaciones \\nclimáticas y diseño de futuras sondas interestelares. \\n\\n2. Conoce a Althéra \\n\\n2.1 Localización en la galaxia \\n\\nEl sistema binario Althéra (HD 4579 AB) se encuentra en el brazo de Orión de la Vía \\nLáctea, a una distancia de 42,7 años luz de la Tierra. Su posición aparente en el cielo \\nse localiza próxima a la nebulosa Barnard’s Loop, en la constelación de Orión, lo que \\nlo hace visible con telescopios de aficionado de alta calidad como un débil punto de luz \\ndorado. Gracias a su relativa cercanía, las señales luminosas provenientes de Althéra \\nllegan con una atenuación mínima, permitiendo obtener espectros muy detallados \\nincluso de sus planetas menores. \\n\\n2.2 Disposición y dinámica de un sistema binario \\n\\nAlthéra está compuesto por dos estrellas principales: \\n\\n• Althéra A (HD 4579 A), una enana amarilla-blanca de tipo F7V, más masiva y \\nluminosa que el Sol. \\n\\n\\n\\nDivulgación Planetaria: 2025-07 \\n \\n\\nP á g i n a  3 | 15 \\n\\n \\n\\n• Althéra B (HD 4579 B), una enana naranja de tipo K2V, algo más fría y longeva. \\n\\nAmbas estrellas orbitan alrededor de un centro de masa común en un periodo de 83 \\ndías, con una separación media de 0,42 UA (Unidades Astronómicas). La interacción \\ngravitatoria entre ellas crea un campo de fuerzas complejo que condiciona la \\nestabilidad de los planetas circumbinarios. \\n\\nA diferencia de los sistemas planetarios con una única estrella, en Althéra la zona \\nhabitable se desplaza hacia órbitas más amplias para evitar los efectos térmicos \\nextremos que se producirían en regiones cercanas a cualquiera de las dos estrellas. \\n\\n \\n\\n2.3 Singularidades astronómicas'"
      ]
     },
     "execution_count": 22,
     "metadata": {},
     "output_type": "execute_result"
    }
   ],
   "source": [
    "res_search.data[0].content[0].text"
   ]
  },
  {
   "cell_type": "markdown",
   "id": "70e99853",
   "metadata": {},
   "source": [
    "# RAG"
   ]
  },
  {
   "cell_type": "code",
   "execution_count": 26,
   "id": "96f6a3d3",
   "metadata": {},
   "outputs": [
    {
     "name": "stdout",
     "output_type": "stream",
     "text": [
      "Files used: {'Divulgacion Planetaria Althera.pdf'}\n",
      "Response:\n",
      "El sistema binario Althéra (HD 4579 AB) se encuentra a una distancia de aproximadamente 42,7 años luz de la Tierra. Está ubicado en el brazo de Orión de la Vía Láctea, cerca de la nebulosa Barnard’s Loop, en la constelación de Orión.\n"
     ]
    }
   ],
   "source": [
    "query = \"¿A qué distancia de la Tierra está el sistema Althéra?\"\n",
    "\n",
    "res_rag = client_openai.responses.create(\n",
    "    input= query,\n",
    "    model=LLM,\n",
    "    tools=[{\n",
    "        \"type\": \"file_search\",\n",
    "        \"vector_store_ids\": [id_vdb],\n",
    "    }]\n",
    ")\n",
    "\n",
    "# Extract annotations from the response\n",
    "annotations = res_rag.output[1].content[0].annotations\n",
    "    \n",
    "# Get top-k retrieved filenames\n",
    "retrieved_files = set([result.filename for result in annotations])\n",
    "\n",
    "print(f'Files used: {retrieved_files}')\n",
    "print('Response:')\n",
    "print(res_rag.output[1].content[0].text) # 0 being the filesearch call"
   ]
  },
  {
   "cell_type": "code",
   "execution_count": 20,
   "id": "6edb0846",
   "metadata": {},
   "outputs": [
    {
     "data": {
      "text/plain": [
       "AnnotationFileCitation(file_id='file-EyjaMAEtuh7L6TyJMHXgK3', filename='Divulgacion Planetaria Althera.pdf', index=395, type='file_citation')"
      ]
     },
     "execution_count": 20,
     "metadata": {},
     "output_type": "execute_result"
    }
   ],
   "source": [
    "annotations[0]"
   ]
  },
  {
   "cell_type": "code",
   "execution_count": 21,
   "id": "7632652e",
   "metadata": {},
   "outputs": [
    {
     "data": {
      "text/plain": [
       "16298"
      ]
     },
     "execution_count": 21,
     "metadata": {},
     "output_type": "execute_result"
    }
   ],
   "source": [
    "res_rag.usage.total_tokens"
   ]
  },
  {
   "cell_type": "code",
   "execution_count": 22,
   "id": "d40b18c5",
   "metadata": {},
   "outputs": [
    {
     "data": {
      "text/plain": [
       "ResponseFileSearchToolCall(id='fs_68c33b4bb2c48195bee704818b9c6351095f36b665015d33', queries=['distancia del sistema Althéra a la Tierra', 'Althéra distancia Tierra', '¿A qué distancia de la Tierra está el sistema Althéra?'], status='completed', type='file_search_call', results=None)"
      ]
     },
     "execution_count": 22,
     "metadata": {},
     "output_type": "execute_result"
    }
   ],
   "source": [
    "res_rag.output[0]  # ResponseFileSearchToolCall"
   ]
  },
  {
   "cell_type": "code",
   "execution_count": 23,
   "id": "9e6a8def",
   "metadata": {},
   "outputs": [
    {
     "data": {
      "text/plain": [
       "ResponseOutputMessage(id='msg_68c33b4dcfd48195a505febd8fca6a01095f36b665015d33', content=[ResponseOutputText(annotations=[AnnotationFileCitation(file_id='file-EyjaMAEtuh7L6TyJMHXgK3', filename='Divulgacion Planetaria Althera.pdf', index=395, type='file_citation')], text=\"El sistema binario Althéra está situado a una distancia de aproximadamente 42,7 años luz de la Tierra. Se encuentra en el brazo de Orión de la Vía Láctea, próximo a la nebulosa Barnard's Loop en la constelación de Orión. Esta relativa cercanía permite realizar observaciones detalladas con telescopios avanzados y ha hecho posible estudiar con detalle sus planetas y características astronómicas.\", type='output_text', logprobs=[])], role='assistant', status='completed', type='message')"
      ]
     },
     "execution_count": 23,
     "metadata": {},
     "output_type": "execute_result"
    }
   ],
   "source": [
    "res_rag.output[1]  # ResponseOutputMessage"
   ]
  },
  {
   "cell_type": "code",
   "execution_count": null,
   "id": "b401634a",
   "metadata": {},
   "outputs": [],
   "source": []
  }
 ],
 "metadata": {
  "kernelspec": {
   "display_name": "dslab-rag-e2e",
   "language": "python",
   "name": "python3"
  },
  "language_info": {
   "codemirror_mode": {
    "name": "ipython",
    "version": 3
   },
   "file_extension": ".py",
   "mimetype": "text/x-python",
   "name": "python",
   "nbconvert_exporter": "python",
   "pygments_lexer": "ipython3",
   "version": "3.10.18"
  }
 },
 "nbformat": 4,
 "nbformat_minor": 5
}
