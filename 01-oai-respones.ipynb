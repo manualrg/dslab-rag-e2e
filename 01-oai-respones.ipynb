{
 "cells": [
  {
   "cell_type": "markdown",
   "id": "3a80179e",
   "metadata": {},
   "source": [
    "# Create a RAG with Responses API\n",
    "\n",
    "* [OpenAI Responses API](https://platform.openai.com/docs/api-reference/responses)\n",
    "* [Azure OpenAI Responses API](https://learn.microsoft.com/en-us/azure/ai-foundry/openai/how-to/responses?tabs=python-key)\n",
    "* [Vertex AI RAG Engine overview](https://cloud.google.com/vertex-ai/generative-ai/docs/rag-engine/rag-overview?_gl=1*1gh4852*_up*MQ..&gclid=CjwKCAjw2vTFBhAuEiwAFaScwheDO8BoxS9t35aQYzYpVChMuVZr8xP7S7bEUNvDPrXD7bD8gZOPKxoC_Z0QAvD_BwE&gclsrc=aw.ds)"
   ]
  },
  {
   "cell_type": "code",
   "execution_count": null,
   "id": "048ab727",
   "metadata": {},
   "outputs": [],
   "source": [
    "%load_ext autoreload\n",
    "%autoreload 2"
   ]
  },
  {
   "cell_type": "code",
   "execution_count": 15,
   "id": "bba54eca",
   "metadata": {},
   "outputs": [],
   "source": [
    "import os\n",
    "from pathlib import Path\n",
    "from dotenv import load_dotenv\n",
    "from openai import OpenAI\n",
    "from src import utils, conf"
   ]
  },
  {
   "cell_type": "markdown",
   "id": "cc10d594",
   "metadata": {},
   "source": [
    "# Params"
   ]
  },
  {
   "cell_type": "code",
   "execution_count": null,
   "id": "b8eb5797",
   "metadata": {},
   "outputs": [],
   "source": [
    "settings = conf.load(file=\"settings.yaml\")\n",
    "INDEX =\"space\"\n",
    "LLM = \"gpt-4.1-mini-2025-04-14\"  # 1M token context, better than gpt-4o in structured output\n",
    "RETRIEVE_K = 3"
   ]
  },
  {
   "cell_type": "markdown",
   "id": "1c2cf4c6",
   "metadata": {},
   "source": [
    "# Environment Variables"
   ]
  },
  {
   "cell_type": "code",
   "execution_count": 17,
   "id": "6676a352",
   "metadata": {},
   "outputs": [],
   "source": [
    "load_dotenv()\n",
    "\n",
    "OPENAI_API_KEY = os.environ[\"OPENAI_API_KEY\"]"
   ]
  },
  {
   "cell_type": "markdown",
   "id": "6077a74e",
   "metadata": {},
   "source": [
    "# Clients"
   ]
  },
  {
   "cell_type": "code",
   "execution_count": 18,
   "id": "92ad2b3a",
   "metadata": {},
   "outputs": [],
   "source": [
    "client_openai = OpenAI(\n",
    "    api_key=OPENAI_API_KEY\n",
    ")"
   ]
  },
  {
   "cell_type": "markdown",
   "id": "4c6b98c0",
   "metadata": {},
   "source": [
    "# Upload Data"
   ]
  },
  {
   "cell_type": "code",
   "execution_count": 19,
   "id": "3a484190",
   "metadata": {},
   "outputs": [
    {
     "name": "stdout",
     "output_type": "stream",
     "text": [
      "pdf_files=[WindowsPath('c:/Users/manua/Documents/repos/dslabs/dslab-rag-e2e/data/raw/3I_ATLAS, NAUKAS.pdf'), WindowsPath('c:/Users/manua/Documents/repos/dslabs/dslab-rag-e2e/data/raw/Divulgacion Planetaria Althera.pdf'), WindowsPath('c:/Users/manua/Documents/repos/dslabs/dslab-rag-e2e/data/raw/OMUAMUA. NAUKAS.pdf')]\n"
     ]
    }
   ],
   "source": [
    "# Identify every .pdf from data/raw/\n",
    "pdf_files = [f for f in utils.path_data_raw.glob(\"*.pdf\")]\n",
    "print(f\"{pdf_files=}\")"
   ]
  },
  {
   "cell_type": "code",
   "execution_count": null,
   "id": "723594e0",
   "metadata": {},
   "outputs": [],
   "source": [
    "file_path = utils.path_data_raw / \"Divulgacion Planetaria Althera.pdf\"\n",
    "id_file = 'file-F5KwBtf7a6juA5LDgoQ1Nf'  # add file id once created from cell output print\n",
    "\n",
    "lst_oai_files = [x.id for x in client_openai.files.list()]\n",
    "\n",
    "if id_file not in lst_oai_files:\n",
    "    response_file = client_openai.files.create(\n",
    "        file=open(file_path, 'rb'),\n",
    "        purpose=\"assistants\",\n",
    "        expires_after={\n",
    "            \"anchor\": \"created_at\",\n",
    "            \"seconds\": 2592000   # 30d\n",
    "        })\n",
    "    print(f\"Added file: {response_file.id=}\")"
   ]
  },
  {
   "cell_type": "markdown",
   "id": "cd0eba3e",
   "metadata": {},
   "source": [
    "# Index"
   ]
  },
  {
   "cell_type": "code",
   "execution_count": null,
   "id": "95918a72",
   "metadata": {},
   "outputs": [],
   "source": [
    "id_vdb = \"vs_68bd8ba217fc8191813ca8ee1a846fc3\"   # add vector store id once created from cell output print\n",
    "\n",
    "lst_oai_vdb =[x.id for x in client_openai.vector_stores.list()]\n",
    "\n",
    "if id_vdb not in lst_oai_vdb:\n",
    "    response_attach = client_openai.vector_stores.create(\n",
    "        name=INDEX,\n",
    "        file_ids=[response_file.id],\n",
    "        expires_after={\n",
    "            \"anchor\": \"last_active_at\",\n",
    "            \"days\": 30\n",
    "            }\n",
    "    )\n",
    "    print(f\"Created VDB: {response_attach.id=}\")\n",
    "\n",
    "    # max_chunk_size_tokens of 800 and chunk_overlap_tokens of 400."
   ]
  },
  {
   "cell_type": "code",
   "execution_count": 69,
   "id": "0d22c461",
   "metadata": {},
   "outputs": [],
   "source": [
    "vector_store_files = client_openai.vector_stores.files.list(\n",
    "  vector_store_id=id_vdb\n",
    ")\n",
    "\n",
    "lst_indexed_files = [x.id for x in vector_store_files.data]\n",
    "if id_file not in lst_indexed_files:\n",
    "    client_openai.vector_stores.files.create(\n",
    "        vector_store_id=id_vdb,\n",
    "        file_id=id_file\n",
    "    )\n",
    "    print(f\"Indexed file: {id_file=} in VDB: {id_vdb=}\")\n"
   ]
  },
  {
   "cell_type": "markdown",
   "id": "ce72e4d9",
   "metadata": {},
   "source": [
    "# Query"
   ]
  },
  {
   "cell_type": "code",
   "execution_count": 52,
   "id": "ea29a2c8",
   "metadata": {},
   "outputs": [],
   "source": [
    "query = \"¿A qué distancia de la Tierra está el sistema Althéra?\"\n",
    "res_search = client_openai.vector_stores.search(\n",
    "    vector_store_id=id_vdb,\n",
    "    query=query,\n",
    "    max_num_results=3\n",
    ")"
   ]
  },
  {
   "cell_type": "code",
   "execution_count": 53,
   "id": "66f83dd7",
   "metadata": {},
   "outputs": [
    {
     "name": "stdout",
     "output_type": "stream",
     "text": [
      "2550 of character of content from Divulgacion Planetaria Althera.pdf with a relevant score of 0.9877970374838512\n",
      "2292 of character of content from Divulgacion Planetaria Althera.pdf with a relevant score of 0.8637451964347038\n",
      "2602 of character of content from Divulgacion Planetaria Althera.pdf with a relevant score of 0.815508833450933\n"
     ]
    }
   ],
   "source": [
    "for result in res_search.data:\n",
    "    print(str(len(result.content[0].text)) + ' of character of content from ' + result.filename + ' with a relevant score of ' + str(result.score))"
   ]
  },
  {
   "cell_type": "markdown",
   "id": "70e99853",
   "metadata": {},
   "source": [
    "# RAG"
   ]
  },
  {
   "cell_type": "code",
   "execution_count": 55,
   "id": "96f6a3d3",
   "metadata": {},
   "outputs": [
    {
     "name": "stdout",
     "output_type": "stream",
     "text": [
      "Files used: {'Divulgacion Planetaria Althera.pdf'}\n",
      "Response:\n",
      "El sistema binario Althéra (HD 4579 AB) está situado en la constelación de Orión, a una distancia de 42,7 años luz de la Tierra. Esta proximidad relativa permite realizar observaciones detalladas del sistema y sus planetas circumbinarios con telescopios avanzados actuales y futuros.\n",
      "\n",
      "Esta información viene especificada claramente en la fuente que me proporcionaste, indicando la distancia exacta desde la Tierra al sistema Althéra como 42,7 años luz.\n"
     ]
    }
   ],
   "source": [
    "query = \"¿A qué distancia de la Tierra está el sistema Althéra?\"\n",
    "\n",
    "res_rag = client_openai.responses.create(\n",
    "    input= query,\n",
    "    model=LLM,\n",
    "    tools=[{\n",
    "        \"type\": \"file_search\",\n",
    "        \"vector_store_ids\": [id_vdb],\n",
    "    }]\n",
    ")\n",
    "\n",
    "# Extract annotations from the response\n",
    "annotations = res_rag.output[1].content[0].annotations\n",
    "    \n",
    "# Get top-k retrieved filenames\n",
    "retrieved_files = set([result.filename for result in annotations])\n",
    "\n",
    "print(f'Files used: {retrieved_files}')\n",
    "print('Response:')\n",
    "print(res_rag.output[1].content[0].text) # 0 being the filesearch call"
   ]
  },
  {
   "cell_type": "code",
   "execution_count": 60,
   "id": "6edb0846",
   "metadata": {},
   "outputs": [
    {
     "data": {
      "text/plain": [
       "AnnotationFileCitation(file_id='file-F5KwBtf7a6juA5LDgoQ1Nf', filename='Divulgacion Planetaria Althera.pdf', index=451, type='file_citation')"
      ]
     },
     "execution_count": 60,
     "metadata": {},
     "output_type": "execute_result"
    }
   ],
   "source": [
    "annotations[0]"
   ]
  },
  {
   "cell_type": "code",
   "execution_count": 65,
   "id": "7632652e",
   "metadata": {},
   "outputs": [
    {
     "data": {
      "text/plain": [
       "16270"
      ]
     },
     "execution_count": 65,
     "metadata": {},
     "output_type": "execute_result"
    }
   ],
   "source": [
    "res_rag.usage.total_tokens"
   ]
  },
  {
   "cell_type": "code",
   "execution_count": null,
   "id": "d40b18c5",
   "metadata": {},
   "outputs": [
    {
     "data": {
      "text/plain": [
       "ResponseFileSearchToolCall(id='fs_68bda5772d588193ace214430854f1b20bb18c5991161cdc', queries=['distancia del sistema Althéra a la Tierra', 'Althéra'], status='completed', type='file_search_call', results=None)"
      ]
     },
     "execution_count": 62,
     "metadata": {},
     "output_type": "execute_result"
    }
   ],
   "source": [
    "res_rag.output[0]  # ResponseFileSearchToolCall"
   ]
  },
  {
   "cell_type": "code",
   "execution_count": null,
   "id": "9e6a8def",
   "metadata": {},
   "outputs": [
    {
     "data": {
      "text/plain": [
       "ResponseOutputMessage(id='msg_68bda5798140819392edd6355bd1ec420bb18c5991161cdc', content=[ResponseOutputText(annotations=[AnnotationFileCitation(file_id='file-F5KwBtf7a6juA5LDgoQ1Nf', filename='Divulgacion Planetaria Althera.pdf', index=451, type='file_citation')], text='El sistema binario Althéra (HD 4579 AB) está situado en la constelación de Orión, a una distancia de 42,7 años luz de la Tierra. Esta proximidad relativa permite realizar observaciones detalladas del sistema y sus planetas circumbinarios con telescopios avanzados actuales y futuros.\\n\\nEsta información viene especificada claramente en la fuente que me proporcionaste, indicando la distancia exacta desde la Tierra al sistema Althéra como 42,7 años luz.', type='output_text', logprobs=[])], role='assistant', status='completed', type='message')"
      ]
     },
     "execution_count": 63,
     "metadata": {},
     "output_type": "execute_result"
    }
   ],
   "source": [
    "res_rag.output[1]  # ResponseOutputMessage"
   ]
  },
  {
   "cell_type": "code",
   "execution_count": null,
   "id": "b401634a",
   "metadata": {},
   "outputs": [],
   "source": []
  }
 ],
 "metadata": {
  "kernelspec": {
   "display_name": "dslab-rag-e2e",
   "language": "python",
   "name": "python3"
  },
  "language_info": {
   "codemirror_mode": {
    "name": "ipython",
    "version": 3
   },
   "file_extension": ".py",
   "mimetype": "text/x-python",
   "name": "python",
   "nbconvert_exporter": "python",
   "pygments_lexer": "ipython3",
   "version": "3.10.18"
  }
 },
 "nbformat": 4,
 "nbformat_minor": 5
}
