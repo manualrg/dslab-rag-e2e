{
 "cells": [
  {
   "cell_type": "markdown",
   "id": "8df6dc35",
   "metadata": {},
   "source": [
    "# Implement a basic RAG by using LCEL"
   ]
  },
  {
   "cell_type": "code",
   "execution_count": 8,
   "id": "048ab727",
   "metadata": {},
   "outputs": [
    {
     "name": "stdout",
     "output_type": "stream",
     "text": [
      "The autoreload extension is already loaded. To reload it, use:\n",
      "  %reload_ext autoreload\n"
     ]
    }
   ],
   "source": [
    "%load_ext autoreload\n",
    "%autoreload 2"
   ]
  },
  {
   "cell_type": "code",
   "execution_count": 9,
   "id": "bba54eca",
   "metadata": {},
   "outputs": [],
   "source": [
    "import os\n",
    "from pathlib import Path\n",
    "from dotenv import load_dotenv\n",
    "\n",
    "import uuid\n",
    "from langchain.schema import Document\n",
    "from langchain_openai import OpenAIEmbeddings, ChatOpenAI\n",
    "from langchain_qdrant import QdrantVectorStore\n",
    "from qdrant_client import QdrantClient\n",
    "from qdrant_client.http.models import Distance, VectorParams\n",
    "from langchain_core.runnables import RunnablePassthrough\n",
    "\n",
    "from src import utils, conf"
   ]
  },
  {
   "cell_type": "markdown",
   "id": "cc10d594",
   "metadata": {},
   "source": [
    "# Params"
   ]
  },
  {
   "cell_type": "code",
   "execution_count": 10,
   "id": "b8eb5797",
   "metadata": {},
   "outputs": [],
   "source": [
    "conf_settings = conf.load(file=\"settings.yaml\")\n",
    "\n",
    "LLM_WORKHORSE = conf_settings.llm_workhorse\n",
    "LLM_FLAGSHIP = conf_settings.llm_flagship\n",
    "EMBEDDINGS = conf_settings.embeddings\n",
    "EMB_DIM = conf_settings.embeddings_dim"
   ]
  },
  {
   "cell_type": "code",
   "execution_count": 11,
   "id": "87f954a5",
   "metadata": {},
   "outputs": [],
   "source": [
    "conf_infra = conf.load(file=\"infra.yaml\")\n",
    "\n",
    "VDB_URL = conf_infra.vdb_url"
   ]
  },
  {
   "cell_type": "markdown",
   "id": "1c2cf4c6",
   "metadata": {},
   "source": [
    "# Environment Variables"
   ]
  },
  {
   "cell_type": "code",
   "execution_count": 12,
   "id": "d76475a0",
   "metadata": {},
   "outputs": [],
   "source": [
    "load_dotenv()\n",
    "\n",
    "OPENAI_API_KEY = os.environ[\"OPENAI_API_KEY\"]\n",
    "QDRANT_API_KEY = os.environ[\"QDRANT_API_KEY\"]"
   ]
  },
  {
   "cell_type": "code",
   "execution_count": 13,
   "id": "8f345e48",
   "metadata": {},
   "outputs": [],
   "source": [
    "embeddings = OpenAIEmbeddings(\n",
    "    api_key=OPENAI_API_KEY,\n",
    "    model=EMBEDDINGS\n",
    "    )\n",
    "\n",
    "try:\n",
    "    embeddings.embed_query(\"abc\")\n",
    "except Exception as err:\n",
    "    print(err)\n",
    "\n",
    "llm = ChatOpenAI(\n",
    "    api_key=OPENAI_API_KEY,\n",
    "    model=LLM_WORKHORSE,\n",
    "    )\n",
    "\n",
    "try:\n",
    "    llm.invoke(\"tell me a joke about devops\")\n",
    "except Exception as err:\n",
    "    print(err)\n"
   ]
  },
  {
   "cell_type": "code",
   "execution_count": 14,
   "id": "173717d4",
   "metadata": {},
   "outputs": [],
   "source": [
    "client_qdrant = QdrantClient(\n",
    "    api_key=QDRANT_API_KEY,\n",
    "    url=VDB_URL\n",
    "    )\n",
    "\n",
    "try:\n",
    "    client_qdrant.get_collections()\n",
    "except Exception as err:\n",
    "    print(err)\n"
   ]
  },
  {
   "cell_type": "markdown",
   "id": "ba0a57e3",
   "metadata": {},
   "source": [
    "## Ingestion Pipeline"
   ]
  },
  {
   "cell_type": "code",
   "execution_count": 15,
   "id": "86a86bc3",
   "metadata": {},
   "outputs": [
    {
     "data": {
      "text/plain": [
       "['2690cf82-ebfd-48bc-bd52-c61a595a212a',\n",
       " '0e8f454e-3ebf-434b-a7cf-26489695bcd0']"
      ]
     },
     "execution_count": 15,
     "metadata": {},
     "output_type": "execute_result"
    }
   ],
   "source": [
    "docs = [\n",
    "    Document(\n",
    "        page_content=\"John J. Hopfield and Geoffrey Hinton received the Nobel Prize in Physics in 2024 for their groundbreaking work on artificial neural networks, a foundation of modern AI. Hopfield developed an associative memory model in the 1980s that allows networks to store and reconstruct patterns. Building on this, Hinton developed the Boltzmann machine, which uses statistical physics principles to recognize and classify data. These pioneering contributions are essential for today's machine learning technologies, enhancing applications from medical imaging to material science.\",\n",
    "        metadata={\"source\": \"wikipedia\", \"topic\": \"Physics\"}\n",
    "    ),\n",
    "    Document(\n",
    "        page_content=\"In Chemistry, David Baker, Demis Hassabis, and John Jumper were honored win Nobel Prize in 2024 for their breakthroughs in protein structure prediction. Baker’s work in computational protein design enables the creation of novel proteins, while Hassabis and Jumper, known for their work with DeepMind's AlphaFold, developed an AI that accurately predicts protein structures—a long-standing challenge in biology. This advancement could lead to transformative applications in drug development and synthetic biology.\",\n",
    "        metadata={\"source\": \"wikipedia\", \"topic\": \"Chemistry\"}\n",
    "    ),\n",
    "]\n",
    "\n",
    "\n",
    "# #############################################\n",
    "if client_qdrant.collection_exists(\"tutorial\"):\n",
    "    client_qdrant.delete_collection(\"tutorial\")\n",
    "# #############################################\n",
    "\n",
    "client_qdrant.create_collection(\n",
    "    collection_name=\"tutorial\",\n",
    "    vectors_config=VectorParams(\n",
    "        size=EMB_DIM,\n",
    "        distance=Distance.COSINE),\n",
    ")\n",
    "\n",
    "# This example is wrong:\n",
    "# # https://qdrant.tech/documentation/frameworks/langchain/#using-an-existing-collection\n",
    "# embedding instead of embeddings\n",
    "# https://python.langchain.com/api_reference/_modules/langchain_qdrant/qdrant.html#QdrantVectorStore.from_existing_collection\n",
    "\n",
    "vector_store = QdrantVectorStore.from_existing_collection(\n",
    "        embedding=embeddings,\n",
    "        collection_name=\"tutorial\",\n",
    "        api_key=QDRANT_API_KEY,\n",
    "        url=VDB_URL\n",
    "    )\n",
    "# uuids = [str(uuid.uuid4()) for _ in range(len(docs))]\n",
    "\n",
    "uuids = [\n",
    "    '2690cf82-ebfd-48bc-bd52-c61a595a212a',\n",
    "    '0e8f454e-3ebf-434b-a7cf-26489695bcd0'\n",
    "    ]\n",
    "\n",
    "\n",
    "vector_store.add_documents(documents=docs, ids=uuids)  # Add only once!"
   ]
  },
  {
   "cell_type": "code",
   "execution_count": 25,
   "id": "3bff8400",
   "metadata": {},
   "outputs": [
    {
     "data": {
      "text/plain": [
       "[Document(metadata={'source': 'wikipedia', 'topic': 'Physics', '_id': '2690cf82-ebfd-48bc-bd52-c61a595a212a', '_collection_name': 'tutorial'}, page_content=\"John J. Hopfield and Geoffrey Hinton received the Nobel Prize in Physics in 2024 for their groundbreaking work on artificial neural networks, a foundation of modern AI. Hopfield developed an associative memory model in the 1980s that allows networks to store and reconstruct patterns. Building on this, Hinton developed the Boltzmann machine, which uses statistical physics principles to recognize and classify data. These pioneering contributions are essential for today's machine learning technologies, enhancing applications from medical imaging to material science.\")]"
      ]
     },
     "execution_count": 25,
     "metadata": {},
     "output_type": "execute_result"
    }
   ],
   "source": [
    "vector_store.similarity_search(\n",
    "    \"Nobel Price Physics\",\n",
    "    k=1,\n",
    ")\n"
   ]
  },
  {
   "cell_type": "code",
   "execution_count": 17,
   "id": "e4e218d2",
   "metadata": {},
   "outputs": [
    {
     "data": {
      "text/plain": [
       "[(Document(metadata={'source': 'wikipedia', 'topic': 'Physics', '_id': '2690cf82-ebfd-48bc-bd52-c61a595a212a', '_collection_name': 'tutorial'}, page_content=\"John J. Hopfield and Geoffrey Hinton received the Nobel Prize in Physics in 2024 for their groundbreaking work on artificial neural networks, a foundation of modern AI. Hopfield developed an associative memory model in the 1980s that allows networks to store and reconstruct patterns. Building on this, Hinton developed the Boltzmann machine, which uses statistical physics principles to recognize and classify data. These pioneering contributions are essential for today's machine learning technologies, enhancing applications from medical imaging to material science.\"),\n",
       "  0.41678888)]"
      ]
     },
     "execution_count": 17,
     "metadata": {},
     "output_type": "execute_result"
    }
   ],
   "source": [
    "vector_store.similarity_search_with_score(\n",
    "    \"Nobel Price Physics\",\n",
    "    k=1,\n",
    ")\n"
   ]
  },
  {
   "cell_type": "code",
   "execution_count": 18,
   "id": "76ce2356",
   "metadata": {},
   "outputs": [
    {
     "data": {
      "text/plain": [
       "[Document(metadata={'source': 'wikipedia', 'topic': 'Physics', '_id': '2690cf82-ebfd-48bc-bd52-c61a595a212a', '_collection_name': 'tutorial'}, page_content=\"John J. Hopfield and Geoffrey Hinton received the Nobel Prize in Physics in 2024 for their groundbreaking work on artificial neural networks, a foundation of modern AI. Hopfield developed an associative memory model in the 1980s that allows networks to store and reconstruct patterns. Building on this, Hinton developed the Boltzmann machine, which uses statistical physics principles to recognize and classify data. These pioneering contributions are essential for today's machine learning technologies, enhancing applications from medical imaging to material science.\"),\n",
       " Document(metadata={'source': 'wikipedia', 'topic': 'Chemistry', '_id': '0e8f454e-3ebf-434b-a7cf-26489695bcd0', '_collection_name': 'tutorial'}, page_content=\"In Chemistry, David Baker, Demis Hassabis, and John Jumper were honored win Nobel Prize in 2024 for their breakthroughs in protein structure prediction. Baker’s work in computational protein design enables the creation of novel proteins, while Hassabis and Jumper, known for their work with DeepMind's AlphaFold, developed an AI that accurately predicts protein structures—a long-standing challenge in biology. This advancement could lead to transformative applications in drug development and synthetic biology.\")]"
      ]
     },
     "execution_count": 18,
     "metadata": {},
     "output_type": "execute_result"
    }
   ],
   "source": [
    "retriever = vector_store.as_retriever(k=1)\n",
    "\n",
    "retriever.invoke(\"Nobel Price Physics\")"
   ]
  },
  {
   "cell_type": "markdown",
   "id": "6908576b",
   "metadata": {},
   "source": [
    "# Query Pipeline"
   ]
  },
  {
   "cell_type": "code",
   "execution_count": 19,
   "id": "a60fe747",
   "metadata": {},
   "outputs": [
    {
     "data": {
      "text/plain": [
       "[HumanMessage(content=\"Answer the question based only on the following context:\\n```\\n['context1', 'context2']\\n```\\n\\nQuestion: my_question\\n\", additional_kwargs={}, response_metadata={})]"
      ]
     },
     "execution_count": 19,
     "metadata": {},
     "output_type": "execute_result"
    }
   ],
   "source": [
    "from langchain_core.prompts import ChatPromptTemplate\n",
    "\n",
    "prompt_template = \"\"\"Answer the question based only on the following context:\n",
    "```\n",
    "{context}\n",
    "```\n",
    "\n",
    "Question: {question}\n",
    "\"\"\"\n",
    "prompt = ChatPromptTemplate.from_template(prompt_template)\n",
    "\n",
    "prompt.invoke(input=\n",
    "    {\n",
    "        \"context\": [\"context1\", \"context2\"],\n",
    "        \"question\": \"my_question\"\n",
    "    }\n",
    ").to_messages()"
   ]
  },
  {
   "cell_type": "code",
   "execution_count": 26,
   "id": "05e376b4",
   "metadata": {},
   "outputs": [
    {
     "data": {
      "text/plain": [
       "AIMessage(content='John J. Hopfield and Geoffrey Hinton won the Nobel Prize in Physics in 2024 for their groundbreaking work on artificial neural networks.', additional_kwargs={'refusal': None}, response_metadata={'token_usage': {'completion_tokens': 28, 'prompt_tokens': 332, 'total_tokens': 360, 'completion_tokens_details': {'accepted_prediction_tokens': 0, 'audio_tokens': 0, 'reasoning_tokens': 0, 'rejected_prediction_tokens': 0}, 'prompt_tokens_details': {'audio_tokens': 0, 'cached_tokens': 0}}, 'model_name': 'gpt-4.1-mini-2025-04-14', 'system_fingerprint': 'fp_6d7dcc9a98', 'id': 'chatcmpl-CF1KHkglAmEUpcrfSsuEkI06iwcIw', 'service_tier': 'default', 'finish_reason': 'stop', 'logprobs': None}, id='run--72f065a3-a25b-49ca-a42a-1855c82ab946-0', usage_metadata={'input_tokens': 332, 'output_tokens': 28, 'total_tokens': 360, 'input_token_details': {'audio': 0, 'cache_read': 0}, 'output_token_details': {'audio': 0, 'reasoning': 0}})"
      ]
     },
     "execution_count": 26,
     "metadata": {},
     "output_type": "execute_result"
    }
   ],
   "source": [
    "chain_rag = (\n",
    "    {\"context\": retriever, \"question\": RunnablePassthrough()}\n",
    "    | prompt\n",
    "    | llm\n",
    ")\n",
    "\n",
    "chain_rag.invoke(\"How won the Physics Nobel price in 2024?\")"
   ]
  },
  {
   "cell_type": "markdown",
   "id": "b468384b",
   "metadata": {},
   "source": [
    "# Improve your RAG"
   ]
  },
  {
   "cell_type": "markdown",
   "id": "2b0e9505",
   "metadata": {},
   "source": [
    "## Parse output"
   ]
  },
  {
   "cell_type": "code",
   "execution_count": 21,
   "id": "8b8a1244",
   "metadata": {},
   "outputs": [
    {
     "data": {
      "text/plain": [
       "'John J. Hopfield and Geoffrey Hinton won the Physics Nobel Prize in 2024.'"
      ]
     },
     "execution_count": 21,
     "metadata": {},
     "output_type": "execute_result"
    }
   ],
   "source": [
    "from langchain_core.output_parsers import StrOutputParser\n",
    "\n",
    "chain_rag = (\n",
    "    {\"context\": retriever, \"question\": RunnablePassthrough()}\n",
    "    | prompt\n",
    "    | llm\n",
    "    | StrOutputParser()\n",
    ")\n",
    "\n",
    "chain_rag.invoke(\"Who won the Physics Nobel price in 2024?\")"
   ]
  },
  {
   "cell_type": "markdown",
   "id": "f5cddaa5",
   "metadata": {},
   "source": [
    "## Format context"
   ]
  },
  {
   "cell_type": "code",
   "execution_count": 22,
   "id": "ef45fde1",
   "metadata": {},
   "outputs": [
    {
     "name": "stdout",
     "output_type": "stream",
     "text": [
      "In Chemistry, David Baker, Demis Hassabis, and John Jumper were honored win Nobel Prize in 2024 for their breakthroughs in protein structure prediction. Baker’s work in computational protein design enables the creation of novel proteins, while Hassabis and Jumper, known for their work with DeepMind's AlphaFold, developed an AI that accurately predicts protein structures—a long-standing challenge in biology. This advancement could lead to transformative applications in drug development and synthetic biology.\n",
      "\n",
      "John J. Hopfield and Geoffrey Hinton received the Nobel Prize in Physics in 2024 for their groundbreaking work on artificial neural networks, a foundation of modern AI. Hopfield developed an associative memory model in the 1980s that allows networks to store and reconstruct patterns. Building on this, Hinton developed the Boltzmann machine, which uses statistical physics principles to recognize and classify data. These pioneering contributions are essential for today's machine learning technologies, enhancing applications from medical imaging to material science.\n"
     ]
    }
   ],
   "source": [
    "from langchain_core.runnables import RunnableLambda\n",
    "\n",
    "\n",
    "def format_docs(docs):\n",
    "    return \"\\n\\n\".join([d.page_content for d in docs])\n",
    "\n",
    "print((retriever | RunnableLambda(format_docs)).invoke(\"Who won the Physics Nobel price in 2024?\"))"
   ]
  },
  {
   "cell_type": "markdown",
   "id": "fce430e2",
   "metadata": {},
   "source": [
    "# Prepare your RAG for evaluation: Keep Context"
   ]
  },
  {
   "cell_type": "code",
   "execution_count": 23,
   "id": "8fa52658",
   "metadata": {},
   "outputs": [
    {
     "data": {
      "text/plain": [
       "{'context': \"In Chemistry, David Baker, Demis Hassabis, and John Jumper were honored win Nobel Prize in 2024 for their breakthroughs in protein structure prediction. Baker’s work in computational protein design enables the creation of novel proteins, while Hassabis and Jumper, known for their work with DeepMind's AlphaFold, developed an AI that accurately predicts protein structures—a long-standing challenge in biology. This advancement could lead to transformative applications in drug development and synthetic biology.\\n\\nJohn J. Hopfield and Geoffrey Hinton received the Nobel Prize in Physics in 2024 for their groundbreaking work on artificial neural networks, a foundation of modern AI. Hopfield developed an associative memory model in the 1980s that allows networks to store and reconstruct patterns. Building on this, Hinton developed the Boltzmann machine, which uses statistical physics principles to recognize and classify data. These pioneering contributions are essential for today's machine learning technologies, enhancing applications from medical imaging to material science.\",\n",
       " 'question': 'Who won the Chemistry Nobel price in 2024?',\n",
       " 'answer': 'David Baker, Demis Hassabis, and John Jumper won the Chemistry Nobel Prize in 2024.'}"
      ]
     },
     "execution_count": 23,
     "metadata": {},
     "output_type": "execute_result"
    }
   ],
   "source": [
    "chain_chat = ( prompt\n",
    "    | llm\n",
    "    | StrOutputParser()\n",
    ")\n",
    "\n",
    "chain_rag = (\n",
    "    {\"context\": retriever | RunnableLambda(format_docs),\n",
    "     \"question\": RunnablePassthrough()}\n",
    "    | RunnablePassthrough.assign(  # maintains the keys context and question and adds a new one: answer\n",
    "        answer=chain_chat  # passes context and question as input \n",
    "    )\n",
    ")\n",
    "\n",
    "chain_rag.invoke(\"Who won the Chemistry Nobel price in 2024?\")"
   ]
  },
  {
   "cell_type": "markdown",
   "id": "b3ccde54",
   "metadata": {},
   "source": [
    "https://python.langchain.com/docs/integrations/vectorstores/qdrant/#hybrid-vector-search\n",
    "https://python.langchain.com/api_reference/qdrant/qdrant/langchain_qdrant.qdrant.QdrantVectorStore.html"
   ]
  },
  {
   "cell_type": "code",
   "execution_count": null,
   "id": "67227c37",
   "metadata": {},
   "outputs": [],
   "source": []
  }
 ],
 "metadata": {
  "kernelspec": {
   "display_name": "dslab-rag-e2e",
   "language": "python",
   "name": "python3"
  },
  "language_info": {
   "codemirror_mode": {
    "name": "ipython",
    "version": 3
   },
   "file_extension": ".py",
   "mimetype": "text/x-python",
   "name": "python",
   "nbconvert_exporter": "python",
   "pygments_lexer": "ipython3",
   "version": "3.10.18"
  }
 },
 "nbformat": 4,
 "nbformat_minor": 5
}
