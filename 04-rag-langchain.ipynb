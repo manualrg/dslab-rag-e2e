{
 "cells": [
  {
   "cell_type": "markdown",
   "id": "8df6dc35",
   "metadata": {},
   "source": [
    "# Implement a basic RAG by using LCEL"
   ]
  },
  {
   "cell_type": "code",
   "execution_count": 71,
   "id": "048ab727",
   "metadata": {},
   "outputs": [
    {
     "name": "stdout",
     "output_type": "stream",
     "text": [
      "The autoreload extension is already loaded. To reload it, use:\n",
      "  %reload_ext autoreload\n"
     ]
    }
   ],
   "source": [
    "%load_ext autoreload\n",
    "%autoreload 2"
   ]
  },
  {
   "cell_type": "code",
   "execution_count": 72,
   "id": "bba54eca",
   "metadata": {},
   "outputs": [],
   "source": [
    "import os\n",
    "from pathlib import Path\n",
    "from dotenv import load_dotenv\n",
    "\n",
    "import uuid\n",
    "from langchain.schema import Document\n",
    "from langchain_openai import OpenAIEmbeddings, ChatOpenAI\n",
    "from langchain_qdrant import QdrantVectorStore\n",
    "from qdrant_client import QdrantClient\n",
    "from qdrant_client.http.models import Distance, VectorParams\n",
    "from langchain_core.runnables import RunnablePassthrough\n",
    "\n",
    "from src import utils, conf"
   ]
  },
  {
   "cell_type": "markdown",
   "id": "cc10d594",
   "metadata": {},
   "source": [
    "# Params"
   ]
  },
  {
   "cell_type": "code",
   "execution_count": 73,
   "id": "b8eb5797",
   "metadata": {},
   "outputs": [],
   "source": [
    "conf_settings = conf.load(file=\"settings.yaml\")\n",
    "\n",
    "LLM_WORKHORSE = conf_settings.llm_workhorse\n",
    "LLM_FLAGSHIP = conf_settings.llm_flagship\n",
    "EMBEDDINGS = conf_settings.embeddings\n",
    "EMB_DIM = conf_settings.embeddings_dim"
   ]
  },
  {
   "cell_type": "code",
   "execution_count": 74,
   "id": "87f954a5",
   "metadata": {},
   "outputs": [],
   "source": [
    "conf_infra = conf.load(file=\"infra.yaml\")\n",
    "\n",
    "VDB_URL = conf_infra.vdb_url"
   ]
  },
  {
   "cell_type": "markdown",
   "id": "1c2cf4c6",
   "metadata": {},
   "source": [
    "# Environment Variables"
   ]
  },
  {
   "cell_type": "code",
   "execution_count": 75,
   "id": "d76475a0",
   "metadata": {},
   "outputs": [],
   "source": [
    "load_dotenv()\n",
    "\n",
    "OPENAI_API_KEY = os.environ[\"OPENAI_API_KEY\"]\n",
    "QDRANT_API_KEY = os.environ[\"QDRANT_API_KEY\"]"
   ]
  },
  {
   "cell_type": "code",
   "execution_count": 76,
   "id": "8f345e48",
   "metadata": {},
   "outputs": [],
   "source": [
    "embeddings = OpenAIEmbeddings(model=EMBEDDINGS)\n",
    "\n",
    "llm = ChatOpenAI(\n",
    "    model=LLM_WORKHORSE,\n",
    "    )\n"
   ]
  },
  {
   "cell_type": "markdown",
   "id": "ba0a57e3",
   "metadata": {},
   "source": [
    "## Ingestion Pipeline"
   ]
  },
  {
   "cell_type": "code",
   "execution_count": 77,
   "id": "86a86bc3",
   "metadata": {},
   "outputs": [
    {
     "data": {
      "text/plain": [
       "['2690cf82-ebfd-48bc-bd52-c61a595a212a',\n",
       " '0e8f454e-3ebf-434b-a7cf-26489695bcd0']"
      ]
     },
     "execution_count": 77,
     "metadata": {},
     "output_type": "execute_result"
    }
   ],
   "source": [
    "docs = [\n",
    "    Document(\n",
    "        page_content=\"John J. Hopfield and Geoffrey Hinton received the Nobel Prize in Physics in 2024 for their groundbreaking work on artificial neural networks, a foundation of modern AI. Hopfield developed an associative memory model in the 1980s that allows networks to store and reconstruct patterns. Building on this, Hinton developed the Boltzmann machine, which uses statistical physics principles to recognize and classify data. These pioneering contributions are essential for today's machine learning technologies, enhancing applications from medical imaging to material science.\",\n",
    "        metadata={\"source\": \"wikipedia\", \"topic\": \"Physics\"}\n",
    "    ),\n",
    "    Document(\n",
    "        page_content=\"In Chemistry, David Baker, Demis Hassabis, and John Jumper were honored win Nobel Prize in 2024 for their breakthroughs in protein structure prediction. Baker’s work in computational protein design enables the creation of novel proteins, while Hassabis and Jumper, known for their work with DeepMind's AlphaFold, developed an AI that accurately predicts protein structures—a long-standing challenge in biology. This advancement could lead to transformative applications in drug development and synthetic biology.\",\n",
    "        metadata={\"source\": \"wikipedia\", \"topic\": \"Chemistry\"}\n",
    "    ),\n",
    "]\n",
    "\n",
    "client_qdrant = QdrantClient(\n",
    "    api_key=QDRANT_API_KEY,\n",
    "    url=VDB_URL\n",
    "\n",
    "    )\n",
    "\n",
    "if not client_qdrant.collection_exists(\"tutorial\"):\n",
    "    client_qdrant.create_collection(\n",
    "        collection_name=\"tutorial\",\n",
    "        vectors_config=VectorParams(\n",
    "            size=EMB_DIM,\n",
    "            distance=Distance.COSINE),\n",
    "    )\n",
    "\n",
    "\n",
    "vector_store = QdrantVectorStore(\n",
    "    client=client_qdrant,\n",
    "    collection_name=\"tutorial\",\n",
    "    embedding=embeddings,\n",
    ")\n",
    "\n",
    "uuids = [str(uuid.uuid4()) for _ in range(len(docs))]\n",
    "\n",
    "vector_store.add_documents(documents=docs, ids=uuids)"
   ]
  },
  {
   "cell_type": "code",
   "execution_count": 78,
   "id": "0bc98b49",
   "metadata": {},
   "outputs": [
    {
     "data": {
      "text/plain": [
       "[Document(metadata={'source': 'wikipedia', 'topic': 'Physics'}, page_content=\"John J. Hopfield and Geoffrey Hinton received the Nobel Prize in Physics in 2024 for their groundbreaking work on artificial neural networks, a foundation of modern AI. Hopfield developed an associative memory model in the 1980s that allows networks to store and reconstruct patterns. Building on this, Hinton developed the Boltzmann machine, which uses statistical physics principles to recognize and classify data. These pioneering contributions are essential for today's machine learning technologies, enhancing applications from medical imaging to material science.\"),\n",
       " Document(metadata={'source': 'wikipedia', 'topic': 'Chemistry'}, page_content=\"In Chemistry, David Baker, Demis Hassabis, and John Jumper were honored win Nobel Prize in 2024 for their breakthroughs in protein structure prediction. Baker’s work in computational protein design enables the creation of novel proteins, while Hassabis and Jumper, known for their work with DeepMind's AlphaFold, developed an AI that accurately predicts protein structures—a long-standing challenge in biology. This advancement could lead to transformative applications in drug development and synthetic biology.\")]"
      ]
     },
     "execution_count": 78,
     "metadata": {},
     "output_type": "execute_result"
    }
   ],
   "source": [
    "docs"
   ]
  },
  {
   "cell_type": "code",
   "execution_count": 79,
   "id": "b4c4276e",
   "metadata": {},
   "outputs": [
    {
     "data": {
      "text/plain": [
       "['2690cf82-ebfd-48bc-bd52-c61a595a212a',\n",
       " '0e8f454e-3ebf-434b-a7cf-26489695bcd0']"
      ]
     },
     "execution_count": 79,
     "metadata": {},
     "output_type": "execute_result"
    }
   ],
   "source": [
    "uuids"
   ]
  },
  {
   "cell_type": "code",
   "execution_count": 80,
   "id": "3bff8400",
   "metadata": {},
   "outputs": [
    {
     "data": {
      "text/plain": [
       "[Document(metadata={'source': 'wikipedia', 'topic': 'Physics', '_id': '7392ed9d-1200-42eb-9e3b-f4110dec955f', '_collection_name': 'tutorial'}, page_content=\"John J. Hopfield and Geoffrey Hinton received the Nobel Prize in Physics in 2024 for their groundbreaking work on artificial neural networks, a foundation of modern AI. Hopfield developed an associative memory model in the 1980s that allows networks to store and reconstruct patterns. Building on this, Hinton developed the Boltzmann machine, which uses statistical physics principles to recognize and classify data. These pioneering contributions are essential for today's machine learning technologies, enhancing applications from medical imaging to material science.\")]"
      ]
     },
     "execution_count": 80,
     "metadata": {},
     "output_type": "execute_result"
    }
   ],
   "source": [
    "vector_store.similarity_search(\n",
    "    \"Nobel Price Physics\",\n",
    "    k=1,\n",
    ")\n"
   ]
  },
  {
   "cell_type": "code",
   "execution_count": 81,
   "id": "e4e218d2",
   "metadata": {},
   "outputs": [
    {
     "data": {
      "text/plain": [
       "[(Document(metadata={'source': 'wikipedia', 'topic': 'Physics', '_id': '7392ed9d-1200-42eb-9e3b-f4110dec955f', '_collection_name': 'tutorial'}, page_content=\"John J. Hopfield and Geoffrey Hinton received the Nobel Prize in Physics in 2024 for their groundbreaking work on artificial neural networks, a foundation of modern AI. Hopfield developed an associative memory model in the 1980s that allows networks to store and reconstruct patterns. Building on this, Hinton developed the Boltzmann machine, which uses statistical physics principles to recognize and classify data. These pioneering contributions are essential for today's machine learning technologies, enhancing applications from medical imaging to material science.\"),\n",
       "  0.41683024)]"
      ]
     },
     "execution_count": 81,
     "metadata": {},
     "output_type": "execute_result"
    }
   ],
   "source": [
    "vector_store.similarity_search_with_score(\n",
    "    \"Nobel Price Physics\",\n",
    "    k=1,\n",
    ")\n"
   ]
  },
  {
   "cell_type": "code",
   "execution_count": 82,
   "id": "76ce2356",
   "metadata": {},
   "outputs": [
    {
     "data": {
      "text/plain": [
       "[Document(metadata={'source': 'wikipedia', 'topic': 'Physics', '_id': '7392ed9d-1200-42eb-9e3b-f4110dec955f', '_collection_name': 'tutorial'}, page_content=\"John J. Hopfield and Geoffrey Hinton received the Nobel Prize in Physics in 2024 for their groundbreaking work on artificial neural networks, a foundation of modern AI. Hopfield developed an associative memory model in the 1980s that allows networks to store and reconstruct patterns. Building on this, Hinton developed the Boltzmann machine, which uses statistical physics principles to recognize and classify data. These pioneering contributions are essential for today's machine learning technologies, enhancing applications from medical imaging to material science.\"),\n",
       " Document(metadata={'source': 'wikipedia', 'topic': 'Physics', '_id': '2690cf82-ebfd-48bc-bd52-c61a595a212a', '_collection_name': 'tutorial'}, page_content=\"John J. Hopfield and Geoffrey Hinton received the Nobel Prize in Physics in 2024 for their groundbreaking work on artificial neural networks, a foundation of modern AI. Hopfield developed an associative memory model in the 1980s that allows networks to store and reconstruct patterns. Building on this, Hinton developed the Boltzmann machine, which uses statistical physics principles to recognize and classify data. These pioneering contributions are essential for today's machine learning technologies, enhancing applications from medical imaging to material science.\"),\n",
       " Document(metadata={'source': 'wikipedia', 'topic': 'Chemistry', '_id': '0e8f454e-3ebf-434b-a7cf-26489695bcd0', '_collection_name': 'tutorial'}, page_content=\"In Chemistry, David Baker, Demis Hassabis, and John Jumper were honored win Nobel Prize in 2024 for their breakthroughs in protein structure prediction. Baker’s work in computational protein design enables the creation of novel proteins, while Hassabis and Jumper, known for their work with DeepMind's AlphaFold, developed an AI that accurately predicts protein structures—a long-standing challenge in biology. This advancement could lead to transformative applications in drug development and synthetic biology.\"),\n",
       " Document(metadata={'source': 'wikipedia', 'topic': 'Chemistry', '_id': '6198f6cc-c721-48bd-95a3-46a360e98a4c', '_collection_name': 'tutorial'}, page_content=\"In Chemistry, David Baker, Demis Hassabis, and John Jumper were honored win Nobel Prize in 2024 for their breakthroughs in protein structure prediction. Baker’s work in computational protein design enables the creation of novel proteins, while Hassabis and Jumper, known for their work with DeepMind's AlphaFold, developed an AI that accurately predicts protein structures—a long-standing challenge in biology. This advancement could lead to transformative applications in drug development and synthetic biology.\")]"
      ]
     },
     "execution_count": 82,
     "metadata": {},
     "output_type": "execute_result"
    }
   ],
   "source": [
    "retriever = vector_store.as_retriever(k=1)\n",
    "\n",
    "retriever.invoke(\"Nobel Price Physics\")"
   ]
  },
  {
   "cell_type": "markdown",
   "id": "6908576b",
   "metadata": {},
   "source": [
    "# Query Pipeline"
   ]
  },
  {
   "cell_type": "code",
   "execution_count": 83,
   "id": "a60fe747",
   "metadata": {},
   "outputs": [
    {
     "data": {
      "text/plain": [
       "[HumanMessage(content=\"Answer the question based only on the following context:\\n```\\n['context1', 'context2']\\n```\\n\\nQuestion: my_question\\n\", additional_kwargs={}, response_metadata={})]"
      ]
     },
     "execution_count": 83,
     "metadata": {},
     "output_type": "execute_result"
    }
   ],
   "source": [
    "from langchain_core.prompts import ChatPromptTemplate\n",
    "\n",
    "prompt_template = \"\"\"Answer the question based only on the following context:\n",
    "```\n",
    "{context}\n",
    "```\n",
    "\n",
    "Question: {question}\n",
    "\"\"\"\n",
    "prompt = ChatPromptTemplate.from_template(prompt_template)\n",
    "\n",
    "prompt.invoke(input=\n",
    "    {\n",
    "        \"context\": [\"context1\", \"context2\"],\n",
    "        \"question\": \"my_question\"\n",
    "    }\n",
    ").to_messages()"
   ]
  },
  {
   "cell_type": "code",
   "execution_count": 84,
   "id": "05e376b4",
   "metadata": {},
   "outputs": [
    {
     "data": {
      "text/plain": [
       "AIMessage(content='John J. Hopfield and Geoffrey Hinton won the 2024 Nobel Prize in Physics for their work on artificial neural networks.', additional_kwargs={'refusal': None}, response_metadata={'token_usage': {'completion_tokens': 163, 'prompt_tokens': 632, 'total_tokens': 795, 'completion_tokens_details': {'accepted_prediction_tokens': 0, 'audio_tokens': 0, 'reasoning_tokens': 128, 'rejected_prediction_tokens': 0}, 'prompt_tokens_details': {'audio_tokens': 0, 'cached_tokens': 0}}, 'model_name': 'gpt-5-mini-2025-08-07', 'system_fingerprint': None, 'id': 'chatcmpl-CDfBrn2b994pcLzdiNAgTRPrvKmaD', 'service_tier': 'default', 'finish_reason': 'stop', 'logprobs': None}, id='run--96051084-90df-4165-8b95-de4e9874698b-0', usage_metadata={'input_tokens': 632, 'output_tokens': 163, 'total_tokens': 795, 'input_token_details': {'audio': 0, 'cache_read': 0}, 'output_token_details': {'audio': 0, 'reasoning': 128}})"
      ]
     },
     "execution_count": 84,
     "metadata": {},
     "output_type": "execute_result"
    }
   ],
   "source": [
    "chain_rag = (\n",
    "    {\"context\": retriever, \"question\": RunnablePassthrough()}\n",
    "    | prompt\n",
    "    | llm\n",
    ")\n",
    "\n",
    "chain_rag.invoke(\"How won the Physics Nobel price in 2024?\")"
   ]
  },
  {
   "cell_type": "markdown",
   "id": "b468384b",
   "metadata": {},
   "source": [
    "# Improve your RAG"
   ]
  },
  {
   "cell_type": "markdown",
   "id": "2b0e9505",
   "metadata": {},
   "source": [
    "## Parse output"
   ]
  },
  {
   "cell_type": "code",
   "execution_count": 85,
   "id": "8b8a1244",
   "metadata": {},
   "outputs": [
    {
     "data": {
      "text/plain": [
       "'John J. Hopfield and Geoffrey Hinton.'"
      ]
     },
     "execution_count": 85,
     "metadata": {},
     "output_type": "execute_result"
    }
   ],
   "source": [
    "from langchain_core.output_parsers import StrOutputParser\n",
    "\n",
    "chain_rag = (\n",
    "    {\"context\": retriever, \"question\": RunnablePassthrough()}\n",
    "    | prompt\n",
    "    | llm\n",
    "    | StrOutputParser()\n",
    ")\n",
    "\n",
    "chain_rag.invoke(\"Who won the Physics Nobel price in 2024?\")"
   ]
  },
  {
   "cell_type": "markdown",
   "id": "f5cddaa5",
   "metadata": {},
   "source": [
    "## Format context"
   ]
  },
  {
   "cell_type": "code",
   "execution_count": 86,
   "id": "ef45fde1",
   "metadata": {},
   "outputs": [
    {
     "name": "stdout",
     "output_type": "stream",
     "text": [
      "In Chemistry, David Baker, Demis Hassabis, and John Jumper were honored win Nobel Prize in 2024 for their breakthroughs in protein structure prediction. Baker’s work in computational protein design enables the creation of novel proteins, while Hassabis and Jumper, known for their work with DeepMind's AlphaFold, developed an AI that accurately predicts protein structures—a long-standing challenge in biology. This advancement could lead to transformative applications in drug development and synthetic biology.\n",
      "\n",
      "In Chemistry, David Baker, Demis Hassabis, and John Jumper were honored win Nobel Prize in 2024 for their breakthroughs in protein structure prediction. Baker’s work in computational protein design enables the creation of novel proteins, while Hassabis and Jumper, known for their work with DeepMind's AlphaFold, developed an AI that accurately predicts protein structures—a long-standing challenge in biology. This advancement could lead to transformative applications in drug development and synthetic biology.\n",
      "\n",
      "John J. Hopfield and Geoffrey Hinton received the Nobel Prize in Physics in 2024 for their groundbreaking work on artificial neural networks, a foundation of modern AI. Hopfield developed an associative memory model in the 1980s that allows networks to store and reconstruct patterns. Building on this, Hinton developed the Boltzmann machine, which uses statistical physics principles to recognize and classify data. These pioneering contributions are essential for today's machine learning technologies, enhancing applications from medical imaging to material science.\n",
      "\n",
      "John J. Hopfield and Geoffrey Hinton received the Nobel Prize in Physics in 2024 for their groundbreaking work on artificial neural networks, a foundation of modern AI. Hopfield developed an associative memory model in the 1980s that allows networks to store and reconstruct patterns. Building on this, Hinton developed the Boltzmann machine, which uses statistical physics principles to recognize and classify data. These pioneering contributions are essential for today's machine learning technologies, enhancing applications from medical imaging to material science.\n"
     ]
    }
   ],
   "source": [
    "from langchain_core.runnables import RunnableLambda\n",
    "\n",
    "\n",
    "def format_docs(docs):\n",
    "    return \"\\n\\n\".join([d.page_content for d in docs])\n",
    "\n",
    "print((retriever | RunnableLambda(format_docs)).invoke(\"Who won the Physics Nobel price in 2024?\"))"
   ]
  },
  {
   "cell_type": "markdown",
   "id": "fce430e2",
   "metadata": {},
   "source": [
    "# Prepare your RAG for evaluation with structured outputs"
   ]
  },
  {
   "cell_type": "code",
   "execution_count": 87,
   "id": "8fa52658",
   "metadata": {},
   "outputs": [
    {
     "data": {
      "text/plain": [
       "{'context': \"In Chemistry, David Baker, Demis Hassabis, and John Jumper were honored win Nobel Prize in 2024 for their breakthroughs in protein structure prediction. Baker’s work in computational protein design enables the creation of novel proteins, while Hassabis and Jumper, known for their work with DeepMind's AlphaFold, developed an AI that accurately predicts protein structures—a long-standing challenge in biology. This advancement could lead to transformative applications in drug development and synthetic biology.\\n\\nIn Chemistry, David Baker, Demis Hassabis, and John Jumper were honored win Nobel Prize in 2024 for their breakthroughs in protein structure prediction. Baker’s work in computational protein design enables the creation of novel proteins, while Hassabis and Jumper, known for their work with DeepMind's AlphaFold, developed an AI that accurately predicts protein structures—a long-standing challenge in biology. This advancement could lead to transformative applications in drug development and synthetic biology.\\n\\nJohn J. Hopfield and Geoffrey Hinton received the Nobel Prize in Physics in 2024 for their groundbreaking work on artificial neural networks, a foundation of modern AI. Hopfield developed an associative memory model in the 1980s that allows networks to store and reconstruct patterns. Building on this, Hinton developed the Boltzmann machine, which uses statistical physics principles to recognize and classify data. These pioneering contributions are essential for today's machine learning technologies, enhancing applications from medical imaging to material science.\\n\\nJohn J. Hopfield and Geoffrey Hinton received the Nobel Prize in Physics in 2024 for their groundbreaking work on artificial neural networks, a foundation of modern AI. Hopfield developed an associative memory model in the 1980s that allows networks to store and reconstruct patterns. Building on this, Hinton developed the Boltzmann machine, which uses statistical physics principles to recognize and classify data. These pioneering contributions are essential for today's machine learning technologies, enhancing applications from medical imaging to material science.\",\n",
       " 'question': 'Who won the Chemistry Nobel price in 2024?',\n",
       " 'answer': 'David Baker, Demis Hassabis, and John Jumper.'}"
      ]
     },
     "execution_count": 87,
     "metadata": {},
     "output_type": "execute_result"
    }
   ],
   "source": [
    "chain_chat = ( prompt\n",
    "    | llm\n",
    "    | StrOutputParser()\n",
    ")\n",
    "\n",
    "chain_rag = (\n",
    "    {\"context\": retriever | format_docs, \"question\": RunnablePassthrough()}\n",
    "    | RunnablePassthrough.assign(  # maintains the keys context and question and adds a new one: answer\n",
    "        answer=chain_chat  # passes context and question as input \n",
    "    )\n",
    ")\n",
    "\n",
    "chain_rag.invoke(\"Who won the Chemistry Nobel price in 2024?\")"
   ]
  },
  {
   "cell_type": "markdown",
   "id": "b3ccde54",
   "metadata": {},
   "source": [
    "https://python.langchain.com/docs/integrations/vectorstores/qdrant/#hybrid-vector-search\n",
    "https://python.langchain.com/api_reference/qdrant/qdrant/langchain_qdrant.qdrant.QdrantVectorStore.html"
   ]
  },
  {
   "cell_type": "code",
   "execution_count": null,
   "id": "67227c37",
   "metadata": {},
   "outputs": [],
   "source": []
  }
 ],
 "metadata": {
  "kernelspec": {
   "display_name": "dslab-rag-e2e",
   "language": "python",
   "name": "python3"
  },
  "language_info": {
   "codemirror_mode": {
    "name": "ipython",
    "version": 3
   },
   "file_extension": ".py",
   "mimetype": "text/x-python",
   "name": "python",
   "nbconvert_exporter": "python",
   "pygments_lexer": "ipython3",
   "version": "3.10.18"
  }
 },
 "nbformat": 4,
 "nbformat_minor": 5
}
