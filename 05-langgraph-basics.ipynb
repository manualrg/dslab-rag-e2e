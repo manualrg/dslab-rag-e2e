{
 "cells": [
  {
   "cell_type": "markdown",
   "id": "3a80179e",
   "metadata": {},
   "source": [
    "# Langgraph\n",
    "\n",
    "Framework to build iagen applications based on graphs with an explicit control and a very low degree of abstractions.  \n",
    "It is complementary to langchain, that provides a lot of abstractions layers to switch over the underlying infrastructure  \n",
    "Why Langgraph is needed over Langchain?  \n",
    "Chains are a usefull tool, but it happens to be a little cumbersome in some aspects:\n",
    "* No state definition\n",
    "* Hard to code and debug a complex flow\n",
    "* Developing and Agent does not fit well into chains\n",
    "\n",
    "![agent](docs/agent-sutton-and-berto.png)"
   ]
  },
  {
   "cell_type": "code",
   "execution_count": 1,
   "id": "048ab727",
   "metadata": {},
   "outputs": [],
   "source": [
    "%load_ext autoreload\n",
    "%autoreload 2"
   ]
  },
  {
   "cell_type": "code",
   "execution_count": 2,
   "id": "bba54eca",
   "metadata": {},
   "outputs": [],
   "source": [
    "import os\n",
    "from pathlib import Path\n",
    "from dotenv import load_dotenv\n",
    "\n",
    "\n",
    "from typing import TypedDict\n",
    "from langgraph.graph import StateGraph"
   ]
  },
  {
   "cell_type": "markdown",
   "id": "cc10d594",
   "metadata": {},
   "source": [
    "# Params"
   ]
  },
  {
   "cell_type": "code",
   "execution_count": 15,
   "id": "b8eb5797",
   "metadata": {},
   "outputs": [],
   "source": [
    "PARAMS1 = 1"
   ]
  },
  {
   "cell_type": "markdown",
   "id": "1c2cf4c6",
   "metadata": {},
   "source": [
    "# Environment Variables"
   ]
  },
  {
   "cell_type": "code",
   "execution_count": null,
   "id": "d76475a0",
   "metadata": {},
   "outputs": [],
   "source": [
    "load_dotenv()\n",
    "\n",
    "OPENAI_API_KEY = os.environ[\"OPENAI_API_KEY\"]"
   ]
  },
  {
   "cell_type": "markdown",
   "id": "6077a74e",
   "metadata": {},
   "source": [
    "# Clients"
   ]
  },
  {
   "cell_type": "code",
   "execution_count": null,
   "id": "92ad2b3a",
   "metadata": {},
   "outputs": [],
   "source": []
  },
  {
   "cell_type": "markdown",
   "id": "f7363e05",
   "metadata": {},
   "source": [
    "\n",
    " # Core primitives in LangGraph\n",
    "\n",
    "* **State**\n",
    "  A dictionary-like object (often a `TypedDict` or Pydantic model) that represents the app’s memory at any given time.\n",
    "\n",
    "  * Keys = pieces of information (plan, result, messages, etc.)\n",
    "  * Must be **mergeable** when multiple branches update it.\n",
    "\n",
    "* **Nodes**\n",
    "  Functions (sync or async) that take `state` as input and return updates to it.\n",
    "\n",
    "  * Best practice: keep them deterministic and side-effect free.\n",
    "  * Nodes are the “steps” of your workflow.\n",
    "  * Can add information to the step by adding a key or can append data to a existing key, by defining a proper reducer function\n",
    "\n",
    "* **Edges**\n",
    "  The links between nodes, telling the graph where to go next.\n",
    "\n",
    "  * **Deterministic edges**: always go from A → B.\n",
    "  * **Conditional edges**: decide based on runtime state.\n",
    "  * **Subgraphs**: reusable mini-graphs nested inside larger ones.\n",
    "\n",
    "* **Channels**\n",
    "  Mechanism for controlling which part of `state` a node can **read** or **write**. Prevents accidental overwrites.\n",
    "\n",
    "* **Runners**\n",
    "  How you actually *execute* the graph:\n",
    "\n",
    "  * `invoke` → run synchronously on one input.\n",
    "  * `batch` → run on many inputs at once.\n",
    "  * `stream` → run synchronously and stream intermediate events.\n",
    "  * `a- ` → run asynchronously\n",
    "\n",
    "\n",
    "# Compilation vs Execution\n",
    "\n",
    "* You **define** the graph (add nodes, edges, entry point).\n",
    "* Then you call `.compile()` to check everything, freeze topology, and create an **App**.\n",
    "* The App is what you actually **run** with `invoke`, `batch`, or `astream`.\n",
    "\n",
    "Think of it like writing source code → compiling → running the binary. \n",
    "\n",
    "graph.compile() also validates the graph\n"
   ]
  },
  {
   "cell_type": "markdown",
   "id": "4aa09839",
   "metadata": {},
   "source": [
    "## The State\n",
    "\n",
    "It is usually a TypedDict or Pydantic data model (like dictionary) that allows to explicitly\n",
    "set types over inputs, validation rules and so on\n",
    "\n",
    "\n",
    "```python\n",
    "class Person(TypedDict):\n",
    "    name: str\n",
    "    age: int"
   ]
  },
  {
   "cell_type": "code",
   "execution_count": 35,
   "id": "a7267e85",
   "metadata": {},
   "outputs": [
    {
     "data": {
      "text/plain": [
       "{'a': 1, 'b': 2}"
      ]
     },
     "execution_count": 35,
     "metadata": {},
     "output_type": "execute_result"
    }
   ],
   "source": [
    "class Foo(TypedDict,\n",
    "          total=False  # make keys optional\n",
    "          ):\n",
    "    a: int\n",
    "    b: int\n",
    "\n",
    "\n",
    "Foo(a=1, b=2)"
   ]
  },
  {
   "cell_type": "code",
   "execution_count": 37,
   "id": "feedfce4",
   "metadata": {},
   "outputs": [
    {
     "data": {
      "text/plain": [
       "Bar(a=1, b=2)"
      ]
     },
     "execution_count": 37,
     "metadata": {},
     "output_type": "execute_result"
    }
   ],
   "source": [
    "from pydantic import BaseModel\n",
    "\n",
    "class Bar(BaseModel):\n",
    "    a: int\n",
    "    b: int\n",
    "\n",
    "\n",
    "Bar(a=1, b=2)"
   ]
  },
  {
   "cell_type": "code",
   "execution_count": 40,
   "id": "cd4271ae",
   "metadata": {},
   "outputs": [
    {
     "name": "stdout",
     "output_type": "stream",
     "text": [
      "1 validation error for Bar\n",
      "b\n",
      "  Field required [type=missing, input_value={'a': 1}, input_type=dict]\n",
      "    For further information visit https://errors.pydantic.dev/2.11/v/missing\n"
     ]
    }
   ],
   "source": [
    "from pydantic_core import ValidationError\n",
    "try:\n",
    "    Bar(a=1)\n",
    "except ValidationError as err:\n",
    "    print(err)"
   ]
  },
  {
   "cell_type": "code",
   "execution_count": null,
   "id": "920c1164",
   "metadata": {},
   "outputs": [
    {
     "name": "stdout",
     "output_type": "stream",
     "text": [
      "1 validation error for Bar\n",
      "b\n",
      "  Input should be a valid integer, unable to parse string as an integer [type=int_parsing, input_value='a', input_type=str]\n",
      "    For further information visit https://errors.pydantic.dev/2.11/v/int_parsing\n"
     ]
    }
   ],
   "source": [
    "try:\n",
    "    Bar(a=1, b=\"a\")\n",
    "except ValidationError as err:\n",
    "    print(err)"
   ]
  },
  {
   "cell_type": "markdown",
   "id": "f70a3c5a",
   "metadata": {},
   "source": [
    "## Linear Graph"
   ]
  },
  {
   "cell_type": "code",
   "execution_count": 93,
   "id": "77f14b85",
   "metadata": {},
   "outputs": [
    {
     "name": "stdout",
     "output_type": "stream",
     "text": [
      "1) invoke: {'plan': 'Do X then Y', 'result': 'Executed plan: Do X then Y'}\n"
     ]
    }
   ],
   "source": [
    "class State(TypedDict, total=False):\n",
    "    plan: str\n",
    "    result: str\n",
    "\n",
    "def plan_node(state: State) -> dict:\n",
    "    # Node returns only the keys it writes = safer \"scoped writes\"\n",
    "    return {\"plan\": \"Do X then Y\"}\n",
    "\n",
    "def act_node(state: State) -> dict:\n",
    "    return {\"result\": f\"Executed plan: {state['plan']}\"}\n",
    "\n",
    "g = StateGraph(State)\n",
    "g.add_node(\"plan\", plan_node)\n",
    "g.add_node(\"act\", act_node)\n",
    "\n",
    "g.set_entry_point(\"plan\")\n",
    "g.add_edge(\"plan\", \"act\")            # deterministic edge\n",
    "\n",
    "app = g.compile()\n",
    "\n",
    "print(\"1) invoke:\", app.invoke({}))\n",
    "# -> {'plan': 'Do X then Y', 'result': 'Executed plan: Do X then Y'}\n"
   ]
  },
  {
   "cell_type": "code",
   "execution_count": 94,
   "id": "1b509fbd",
   "metadata": {},
   "outputs": [
    {
     "data": {
      "image/png": "[encoded data removed]",
      "text/plain": [
       "<langgraph.graph.state.CompiledStateGraph object at 0x000001740FCF45E0>"
      ]
     },
     "execution_count": 94,
     "metadata": {},
     "output_type": "execute_result"
    }
   ],
   "source": [
    "app"
   ]
  },
  {
   "cell_type": "markdown",
   "id": "424bb853",
   "metadata": {},
   "source": [
    "# Add an input"
   ]
  },
  {
   "cell_type": "markdown",
   "id": "62bd97fd",
   "metadata": {},
   "source": [
    "```python\n",
    "class State(TypedDict, total=False):\n",
    "    # ...  # add an input key\n",
    "    plan: str\n",
    "    result: str\n",
    "\n",
    "def plan_node(state: State) -> dict:\n",
    "    # get the input\n",
    "\n",
    "    return {\"plan\": f\"Do {} then Y\"}   # place the input here\n",
    "\n",
    "def act_node(state: State) -> dict:\n",
    "    return {\"result\": f\"Executed plan: {state['plan']}\"}\n",
    "\n",
    "g = StateGraph(State)\n",
    "g.add_node(\"plan\", plan_node)\n",
    "g.add_node(\"act\", act_node)\n",
    "\n",
    "g.set_entry_point(\"plan\")\n",
    "g.add_edge(\"plan\", \"act\") \n",
    "\n",
    "app = g.compile()\n",
    "\n",
    "print(\"1) invoke:\", app.invoke(\n",
    "    {}  # modifiy this to pass input key\n",
    "    )\n",
    ")"
   ]
  },
  {
   "cell_type": "markdown",
   "id": "8f595b80",
   "metadata": {},
   "source": [
    "# Branching\n",
    "\n",
    "**Scoped Reads/Writes (a pragmatic “channels” pattern)**\n",
    "\n",
    "While LangGraph’s merge/reducer system keeps state safe, a simple discipline also helps:\n",
    "\n",
    "* Read only what you need from state.\n",
    "* Write only the keys you own (return a dict with just those keys)"
   ]
  },
  {
   "cell_type": "code",
   "execution_count": 99,
   "id": "743ec173",
   "metadata": {},
   "outputs": [
    {
     "data": {
      "image/png": "[encoded data removed]",
      "text/plain": [
       "<langgraph.graph.state.CompiledStateGraph object at 0x000001740FF6B640>"
      ]
     },
     "execution_count": 99,
     "metadata": {},
     "output_type": "execute_result"
    }
   ],
   "source": [
    "from typing import Annotated, Any\n",
    "from typing_extensions import TypedDict\n",
    "from langgraph.graph import StateGraph, START, END\n",
    "\n",
    "class State(TypedDict):\n",
    "    # The operator.add reducer fn makes this append-only\n",
    "    input: str\n",
    "    a: str\n",
    "    b: str\n",
    "    c: str\n",
    "    out: str\n",
    "\n",
    "def a(state: State):\n",
    "    # read input, count number of characters with len\n",
    "    return {\"a\": ...}\n",
    "\n",
    "def b(state: State):\n",
    "    # read a, compute the square\n",
    "    return {...: ...}\n",
    "\n",
    "def c(state: State):\n",
    "    # read a, compute the cube\n",
    "    return {...: ...}\n",
    "\n",
    "def d(state: State):\n",
    "    # read b, and c and add them up\n",
    "\n",
    "    return  {...: ...}\n",
    "\n",
    "builder = StateGraph(State)\n",
    "builder.add_node(a)\n",
    "builder.add_node(b)\n",
    "builder.add_node(c)\n",
    "builder.add_node(d)\n",
    "\n",
    "\n",
    "builder.add_edge(START, \"a\")\n",
    "builder.add_edge(\"a\", \"b\")\n",
    "builder.add_edge(\"a\", \"c\")\n",
    "builder.add_edge(\"b\", \"d\")\n",
    "builder.add_edge(\"c\", \"d\")\n",
    "builder.add_edge(\"d\", END)\n",
    "graph = builder.compile()\n",
    "\n",
    "graph"
   ]
  },
  {
   "cell_type": "code",
   "execution_count": null,
   "id": "3c75afa8",
   "metadata": {},
   "outputs": [],
   "source": [
    "#graph.invoke({\"input\": \"Hello!\"})"
   ]
  },
  {
   "cell_type": "markdown",
   "id": "a55e1086",
   "metadata": {},
   "source": [
    "# Conditional Edge"
   ]
  },
  {
   "cell_type": "code",
   "execution_count": null,
   "id": "683bdb26",
   "metadata": {},
   "outputs": [
    {
     "name": "stdout",
     "output_type": "stream",
     "text": [
      "2) conditional: {'input_code': 'Javascript', 'plan': 'Do X then Y', 'result': 'Executed plan: Do X then Y (reviewed)'}\n",
      "2) conditional: {'input_code': 'Python', 'plan': 'This code is Python', 'result': 'Executed plan: This code is Python'}\n"
     ]
    }
   ],
   "source": [
    "from langgraph.graph import END, START\n",
    "\n",
    "class State(TypedDict, total=False):\n",
    "    input_code: str\n",
    "    plan: str\n",
    "    result: str\n",
    "\n",
    "def plan_node(state: State) -> dict:\n",
    "    # IMPLEMENT ANY LOGING, TAKING DATA FROM STATE\n",
    "    # AND RETURN A DICTIONARY WITH THE NEXT STEP\n",
    "    if \"Python\" in state[\"input_code\"]:\n",
    "        return {\"plan\": \"This code is Python\"}\n",
    "    else:\n",
    "        return {\"plan\": \"Do X then Y\"}\n",
    "\n",
    "def act_node(state: State) -> dict:\n",
    "    return {\"result\": f\"Executed plan: {state['plan']}\"}\n",
    "\n",
    "def should_review(state: State) -> bool:\n",
    "    # Routing function: yield a set of stablished values and map them to any\n",
    "    # desired step\n",
    "    # Route to 'review' only if the plan contains 'Y'\n",
    "    flg_should_review = \"Y\" in state[\"plan\"] \n",
    "    return  flg_should_review\n",
    "\n",
    "def review_node(state: State) -> dict:\n",
    "    return {\"result\": state[\"result\"] + \" (reviewed)\"}\n",
    "\n",
    "g2 = StateGraph(State)\n",
    "# Add nodes\n",
    "g2.add_node(\"plan\", plan_node)\n",
    "g2.add_node(\"act\", act_node)\n",
    "g2.add_node(\"review\", review_node)\n",
    "\n",
    "\n",
    "# Link nodes\n",
    "g2.set_entry_point(\"plan\")\n",
    "g2.add_edge(\"plan\", \"act\")\n",
    "g2.add_conditional_edges(\"act\", should_review, {True: \"review\", False: END})\n",
    "app2 = g2.compile()\n",
    "\n",
    "print(\"2) conditional:\", app2.invoke({\"input_code\": \"Javascript\"}))\n",
    "print(\"2) conditional:\", app2.invoke({\"input_code\": \"Python\"}))\n",
    "# -> will include \" (reviewed)\" if condition is met, else stop at END\n"
   ]
  },
  {
   "cell_type": "code",
   "execution_count": 14,
   "id": "cca9d486",
   "metadata": {},
   "outputs": [
    {
     "data": {
      "image/png": "[encoded data removed]",
      "text/plain": [
       "<langgraph.graph.state.CompiledStateGraph object at 0x000001740B247C10>"
      ]
     },
     "execution_count": 14,
     "metadata": {},
     "output_type": "execute_result"
    }
   ],
   "source": [
    "app2"
   ]
  },
  {
   "cell_type": "code",
   "execution_count": 18,
   "id": "f52f2338",
   "metadata": {},
   "outputs": [
    {
     "data": {
      "image/png": "[encoded data removed]",
      "text/plain": [
       "<langgraph.graph.state.CompiledStateGraph object at 0x000001740B247D60>"
      ]
     },
     "execution_count": 18,
     "metadata": {},
     "output_type": "execute_result"
    }
   ],
   "source": [
    "g3 = StateGraph(State)\n",
    "# Add nodes\n",
    "g3.add_node(\"act\", act_node)\n",
    "g3.add_node(\"review\", review_node)\n",
    "\n",
    "\n",
    "# Link nodes\n",
    "g3.add_conditional_edges(START, should_review, {True: \"review\", False: \"act\"})\n",
    "g3.add_edge(\"review\", END)\n",
    "g3.add_edge(\"act\", END)\n",
    "\n",
    "app3 = g3.compile()\n",
    "app3\n"
   ]
  },
  {
   "cell_type": "markdown",
   "id": "ca9c89e8",
   "metadata": {},
   "source": [
    "\n",
    "# State merging\n",
    "\n",
    "When in the State there is a key that is a list (or any other sequence), we may want to append objects to it  \n",
    "In addition, we may want to update any State key that is not a list with a given logic defined in a convergent flow  \n",
    "If two branches in the graph both return updates to `state`, LangGraph merges them:  \n",
    "* Default: **last write wins**.\n",
    "* Better: define **reducers** to specify how values combine (e.g., append messages, keep shortest string, sum scores).\n",
    "  This makes concurrent flows safe.\n"
   ]
  },
  {
   "cell_type": "code",
   "execution_count": null,
   "id": "bf55d14a",
   "metadata": {},
   "outputs": [
    {
     "name": "stdout",
     "output_type": "stream",
     "text": [
      "4) merged messages: ['branch B did work']\n"
     ]
    }
   ],
   "source": [
    "class ChatState(TypedDict, total=False):\n",
    "    messages: list \n",
    "\n",
    "def branch_a(state: ChatState) -> dict:\n",
    "    return {\"messages\": [{\"role\": \"system\", \"content\": \"branch A did work\"}]}\n",
    "\n",
    "def branch_b(state: ChatState) -> dict:\n",
    "    return {\"messages\": [{\"role\": \"system\", \"content\": \"branch B did work\"}]}\n",
    "\n",
    "g4 = StateGraph(ChatState)  # can be any pydantic\n",
    "g4.add_node(\"a\", branch_a)\n",
    "g4.add_node(\"b\", branch_b)\n",
    "\n",
    "g4.set_entry_point(\"a\") \n",
    "g4.add_edge(\"a\", \"b\") \n",
    "g4.add_edge(\"b\", END)\n",
    "\n",
    "\n",
    "app4 = g4.compile()\n",
    "out4 = app4.invoke({})\n",
    "\n",
    "# B Overwrites messages\n",
    "print(\"4) merged messages:\", [m[\"content\"] for m in out4[\"messages\"]])\n"
   ]
  },
  {
   "cell_type": "code",
   "execution_count": null,
   "id": "b021d43d",
   "metadata": {},
   "outputs": [
    {
     "name": "stdout",
     "output_type": "stream",
     "text": [
      "4) merged messages: ['branch A did work', 'branch B did work']\n"
     ]
    }
   ],
   "source": [
    "# Desired outcome:\n",
    "# b appends to a\n",
    "\n",
    "class ChatState(TypedDict, total=False):\n",
    "    messages: list \n",
    "\n",
    "def branch_a(state: ChatState) -> dict:\n",
    "    return {\"messages\": [{\"role\": \"system\", \"content\": \"branch A did work\"}]}\n",
    "\n",
    "def branch_b(state: ChatState) -> dict:\n",
    "    # whe know that this node executes after and overwrites the wkey messages\n",
    "    # 1. Retrieve current key\n",
    "    messages = state[\"messages\"]  # List[{role: ... content: ...}]\n",
    "    # 2. New data\n",
    "    messages_new = {\"role\": \"system\", \"content\": \"branch B did work\"}\n",
    "    # 3. Implement an append logic\n",
    "    messages_upd = messages + [messages_new]\n",
    "\n",
    "    return {\"messages\": messages_upd}\n",
    "\n",
    "g4 = StateGraph(ChatState)  # can be any pydantic\n",
    "g4.add_node(\"a\", branch_a)\n",
    "g4.add_node(\"b\", branch_b)\n",
    "\n",
    "g4.set_entry_point(\"a\") \n",
    "g4.add_edge(\"a\", \"b\") \n",
    "g4.add_edge(\"b\", END)\n",
    "\n",
    "\n",
    "app4 = g4.compile()\n",
    "out4 = app4.invoke({})\n",
    "\n",
    "# B Overwrites messages\n",
    "print(\"4) merged messages:\", [m[\"content\"] for m in out4[\"messages\"]])"
   ]
  },
  {
   "cell_type": "markdown",
   "id": "82656aa8",
   "metadata": {},
   "source": [
    "### State update with reducing"
   ]
  },
  {
   "cell_type": "code",
   "execution_count": 45,
   "id": "b90d9d79",
   "metadata": {},
   "outputs": [
    {
     "data": {
      "text/plain": [
       "6"
      ]
     },
     "execution_count": 45,
     "metadata": {},
     "output_type": "execute_result"
    }
   ],
   "source": [
    "# Reduce function (In general)\n",
    "from functools import reduce\n",
    "\n",
    "reduce(lambda x, y: x + y, [1,2,3])"
   ]
  },
  {
   "cell_type": "code",
   "execution_count": 47,
   "id": "99f5de5b",
   "metadata": {},
   "outputs": [
    {
     "data": {
      "text/plain": [
       "'1-2-3'"
      ]
     },
     "execution_count": 47,
     "metadata": {},
     "output_type": "execute_result"
    }
   ],
   "source": [
    "reduce(lambda x, y: x + \"-\" + y, [\"1\", \"2\" ,\"3\"])  "
   ]
  },
  {
   "cell_type": "code",
   "execution_count": 62,
   "id": "f268c402",
   "metadata": {},
   "outputs": [
    {
     "data": {
      "text/plain": [
       "['Hello', 'World']"
      ]
     },
     "execution_count": 62,
     "metadata": {},
     "output_type": "execute_result"
    }
   ],
   "source": [
    "# Create your own reducer\n",
    "def reducer(a: list, b: int | str | None) -> list:\n",
    "    if b is not None:\n",
    "        return a + [b]\n",
    "    return a\n",
    "\n",
    "reducer(\n",
    "    [\"Hello\"], \"World\"\n",
    ")"
   ]
  },
  {
   "cell_type": "code",
   "execution_count": 100,
   "id": "507db23d",
   "metadata": {},
   "outputs": [
    {
     "name": "stdout",
     "output_type": "stream",
     "text": [
      "4) merged messages: ['branch A did work', 'branch B did work']\n"
     ]
    },
    {
     "data": {
      "image/png": "[encoded data removed]",
      "text/plain": [
       "<langgraph.graph.state.CompiledStateGraph object at 0x00000174103FF280>"
      ]
     },
     "execution_count": 100,
     "metadata": {},
     "output_type": "execute_result"
    }
   ],
   "source": [
    "from typing import Annotated\n",
    "\n",
    "\n",
    "class ChatState(TypedDict, total=False):\n",
    "    messages: Annotated[  # tells LG how to reduce the field\n",
    "        list,\n",
    "        reducer\n",
    "        ]  \n",
    "\n",
    "def branch_a(state: ChatState) -> dict:\n",
    "    return {\"messages\": {\"role\": \"system\", \"content\": \"branch A did work\"}}  # No list!\n",
    "\n",
    "def branch_b(state: ChatState) -> dict:\n",
    "    return {\"messages\": {\"role\": \"system\", \"content\": \"branch B did work\"}}\n",
    "\n",
    "g4 = StateGraph(ChatState) \n",
    "g4.add_node(\"a\", branch_a)\n",
    "g4.add_node(\"b\", branch_b)\n",
    "\n",
    "g4.set_entry_point(\"a\") \n",
    "g4.add_edge(\"a\", \"b\") \n",
    "g4.add_edge(\"b\", END)\n",
    "\n",
    "\n",
    "app4 = g4.compile()\n",
    "out4 = app4.invoke({})\n",
    "\n",
    "# B Overwrites messages\n",
    "print(\"4) merged messages:\", [m[\"content\"] for m in out4[\"messages\"]])\n",
    "app4"
   ]
  },
  {
   "cell_type": "markdown",
   "id": "2fe8f943",
   "metadata": {},
   "source": [
    "# Conversation History\n",
    "\n",
    "We can use the reduce strategy pattern to implement a convesation history in the graph\n",
    "\n",
    "In practice, this is the most notable usage \n",
    "\n",
    "first pass  \n",
    "`AIMessage(\"I am a helpfull assistant`  \n",
    "second pass  \n",
    "`HumanMessage(\"Tell me a joke about devops\")`   "
   ]
  },
  {
   "cell_type": "code",
   "execution_count": 87,
   "id": "b5601763",
   "metadata": {},
   "outputs": [
    {
     "data": {
      "text/plain": [
       "[AIMessage(content='I am a helpfull assistant', additional_kwargs={}, response_metadata={}, id='a66954b8-48be-4573-8cd4-00d2222ae90e'),\n",
       " HumanMessage(content='Tell me a joke about devops', additional_kwargs={}, response_metadata={}, id='a9601f5c-5faf-4854-91c1-c42f9e78142c')]"
      ]
     },
     "execution_count": 87,
     "metadata": {},
     "output_type": "execute_result"
    }
   ],
   "source": [
    "from langgraph.graph.message import add_messages\n",
    "from langchain_core.messages import AnyMessage, AIMessage, HumanMessage\n",
    "\n",
    "\n",
    "add_messages(\n",
    "    AIMessage(\"I am a helpfull assistant\"), HumanMessage(\"Tell me a joke about devops\")\n",
    ")"
   ]
  },
  {
   "cell_type": "code",
   "execution_count": null,
   "id": "469e0874",
   "metadata": {},
   "outputs": [
    {
     "name": "stdout",
     "output_type": "stream",
     "text": [
      "================================\u001b[1m System Message \u001b[0m================================\n",
      "\n",
      "You are a helpful assitant\n",
      "==================================\u001b[1m Ai Message \u001b[0m==================================\n",
      "\n",
      "Hello!\n",
      "==================================\u001b[1m Ai Message \u001b[0m==================================\n",
      "\n",
      "World!\n"
     ]
    }
   ],
   "source": [
    "class State(TypedDict, total=False):\n",
    "    messages: Annotated[list[AnyMessage], add_messages]  \n",
    "    msg_len: int  # no reducer strategy: What will happen?\n",
    "\n",
    "def node_a(state: State):\n",
    "    new_message = AIMessage(\"Hello!\")\n",
    "    return {\"messages\": new_message, \"msg_len\": len(new_message.content)}\n",
    "\n",
    "def node_b(state: State):\n",
    "    new_message = AIMessage(\"World!\")\n",
    "    return {\"messages\": new_message, \"msg_len\": len(new_message.content)}\n",
    "\n",
    "g5 = StateGraph(State)\n",
    "g5.add_node(node_a)\n",
    "g5.add_node(node_b)\n",
    "g5.set_entry_point(\"node_a\")\n",
    "g5.add_edge(\"node_a\", \"node_b\") \n",
    "app5 = g5.compile()\n",
    "out5 = app5.invoke(\n",
    "    {\"messages\": {\"role\": \"system\", \"content\": \"You are a helpful assitant\"}}  # Messages are automatically parsed with role key\n",
    "    )\n",
    "\n",
    "for message in out5[\"messages\"]:\n",
    "    message.pretty_print()"
   ]
  },
  {
   "cell_type": "code",
   "execution_count": null,
   "id": "61510642",
   "metadata": {},
   "outputs": [],
   "source": []
  }
 ],
 "metadata": {
  "kernelspec": {
   "display_name": "dslab-rag-e2e",
   "language": "python",
   "name": "python3"
  },
  "language_info": {
   "codemirror_mode": {
    "name": "ipython",
    "version": 3
   },
   "file_extension": ".py",
   "mimetype": "text/x-python",
   "name": "python",
   "nbconvert_exporter": "python",
   "pygments_lexer": "ipython3",
   "version": "3.10.9"
  }
 },
 "nbformat": 4,
 "nbformat_minor": 5
}
