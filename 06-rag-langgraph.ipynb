{
 "cells": [
  {
   "cell_type": "markdown",
   "id": "8df6dc35",
   "metadata": {},
   "source": [
    "# Implement a basic RAG by using LG"
   ]
  },
  {
   "cell_type": "code",
   "execution_count": 1,
   "id": "048ab727",
   "metadata": {},
   "outputs": [],
   "source": [
    "%load_ext autoreload\n",
    "%autoreload 2"
   ]
  },
  {
   "cell_type": "code",
   "execution_count": 2,
   "id": "bba54eca",
   "metadata": {},
   "outputs": [
    {
     "name": "stderr",
     "output_type": "stream",
     "text": [
      "c:\\Users\\manuelalberto.romero\\Documents\\repos\\dslabs\\dslab-rag-e2e\\.venv\\lib\\site-packages\\tqdm\\auto.py:21: TqdmWarning: IProgress not found. Please update jupyter and ipywidgets. See https://ipywidgets.readthedocs.io/en/stable/user_install.html\n",
      "  from .autonotebook import tqdm as notebook_tqdm\n"
     ]
    }
   ],
   "source": [
    "import os\n",
    "from pathlib import Path\n",
    "from dotenv import load_dotenv\n",
    "\n",
    "import uuid\n",
    "from langchain.schema import Document\n",
    "from langchain_openai import OpenAIEmbeddings, ChatOpenAI\n",
    "from langchain_qdrant import QdrantVectorStore\n",
    "from qdrant_client import QdrantClient\n",
    "from qdrant_client.http.models import Distance, VectorParams\n",
    "\n",
    "\n",
    "\n",
    "from src import utils, conf, sample_docs"
   ]
  },
  {
   "cell_type": "markdown",
   "id": "cc10d594",
   "metadata": {},
   "source": [
    "# Params"
   ]
  },
  {
   "cell_type": "code",
   "execution_count": 3,
   "id": "b8eb5797",
   "metadata": {},
   "outputs": [],
   "source": [
    "conf_settings = conf.load(file=\"settings.yaml\")\n",
    "\n",
    "LLM_WORKHORSE = conf_settings.llm_workhorse\n",
    "LLM_FLAGSHIP = conf_settings.llm_flagship\n",
    "EMBEDDINGS = conf_settings.embeddings\n",
    "EMB_DIM = conf_settings.embeddings_dim"
   ]
  },
  {
   "cell_type": "code",
   "execution_count": 4,
   "id": "87f954a5",
   "metadata": {},
   "outputs": [],
   "source": [
    "conf_infra = conf.load(file=\"infra.yaml\")\n",
    "\n",
    "VDB_URL = conf_infra.vdb_url"
   ]
  },
  {
   "cell_type": "markdown",
   "id": "1c2cf4c6",
   "metadata": {},
   "source": [
    "# Environment Variables"
   ]
  },
  {
   "cell_type": "code",
   "execution_count": 5,
   "id": "d76475a0",
   "metadata": {},
   "outputs": [],
   "source": [
    "load_dotenv()\n",
    "\n",
    "OPENAI_API_KEY = os.environ[\"OPENAI_API_KEY\"]\n",
    "QDRANT_API_KEY = os.environ[\"QDRANT_API_KEY\"]"
   ]
  },
  {
   "cell_type": "code",
   "execution_count": 6,
   "id": "8f345e48",
   "metadata": {},
   "outputs": [],
   "source": [
    "embeddings = OpenAIEmbeddings(\n",
    "    api_key=OPENAI_API_KEY,\n",
    "    model=EMBEDDINGS\n",
    "    )\n",
    "\n",
    "try:\n",
    "    embeddings.embed_query(\"abc\")\n",
    "except Exception as err:\n",
    "    print(err)\n",
    "\n",
    "llm = ChatOpenAI(\n",
    "    api_key=OPENAI_API_KEY,\n",
    "    model=LLM_WORKHORSE,\n",
    "    )\n",
    "\n",
    "try:\n",
    "    llm.invoke(\"tell me a joke about devops\")\n",
    "except Exception as err:\n",
    "    print(err)"
   ]
  },
  {
   "cell_type": "code",
   "execution_count": 7,
   "id": "6d6e6fa8",
   "metadata": {},
   "outputs": [],
   "source": [
    "client_qdrant = QdrantClient(\n",
    "    api_key=QDRANT_API_KEY,\n",
    "    url=VDB_URL\n",
    "    )\n",
    "\n",
    "try:\n",
    "    client_qdrant.get_collections()\n",
    "except Exception as err:\n",
    "    print(err)\n"
   ]
  },
  {
   "cell_type": "markdown",
   "id": "ba0a57e3",
   "metadata": {},
   "source": [
    "## Ingestion Pipeline"
   ]
  },
  {
   "cell_type": "code",
   "execution_count": 8,
   "id": "35e7eedb",
   "metadata": {},
   "outputs": [
    {
     "data": {
      "text/plain": [
       "CollectionInfo(status=<CollectionStatus.GREEN: 'green'>, optimizer_status=<OptimizersStatusOneOf.OK: 'ok'>, vectors_count=None, indexed_vectors_count=0, points_count=2, segments_count=2, config=CollectionConfig(params=CollectionParams(vectors=VectorParams(size=1536, distance=<Distance.COSINE: 'Cosine'>, hnsw_config=None, quantization_config=None, on_disk=None, datatype=None, multivector_config=None), shard_number=1, sharding_method=None, replication_factor=1, write_consistency_factor=1, read_fan_out_factor=None, on_disk_payload=True, sparse_vectors=None), hnsw_config=HnswConfig(m=16, ef_construct=100, full_scan_threshold=10000, max_indexing_threads=0, on_disk=False, payload_m=None), optimizer_config=OptimizersConfig(deleted_threshold=0.2, vacuum_min_vector_number=1000, default_segment_number=0, max_segment_size=None, memmap_threshold=None, indexing_threshold=10000, flush_interval_sec=5, max_optimization_threads=None), wal_config=WalConfig(wal_capacity_mb=32, wal_segments_ahead=0), quantization_config=None, strict_mode_config=StrictModeConfigOutput(enabled=True, max_query_limit=None, max_timeout=None, unindexed_filtering_retrieve=False, unindexed_filtering_update=False, search_max_hnsw_ef=None, search_allow_exact=None, search_max_oversampling=None, upsert_max_batchsize=None, max_collection_vector_size_bytes=None, read_rate_limit=None, write_rate_limit=None, max_collection_payload_size_bytes=None, max_points_count=None, filter_max_conditions=None, condition_max_size=None, multivector_config=None, sparse_config=None)), payload_schema={})"
      ]
     },
     "execution_count": 8,
     "metadata": {},
     "output_type": "execute_result"
    }
   ],
   "source": [
    "client_qdrant.get_collection(\"tutorial\")"
   ]
  },
  {
   "cell_type": "code",
   "execution_count": 9,
   "id": "86a86bc3",
   "metadata": {},
   "outputs": [],
   "source": [
    "if client_qdrant.collection_exists(\"tutorial\"):\n",
    "    vector_store = QdrantVectorStore.from_existing_collection(\n",
    "        embedding=embeddings,\n",
    "        collection_name=\"tutorial\",\n",
    "        url=VDB_URL,\n",
    "        api_key=QDRANT_API_KEY\n",
    "    )\n",
    "else:\n",
    "    print(\"run 04-rag-langchain!\")"
   ]
  },
  {
   "cell_type": "markdown",
   "id": "6908576b",
   "metadata": {},
   "source": [
    "# Query Pipeline"
   ]
  },
  {
   "cell_type": "code",
   "execution_count": 10,
   "id": "ab70f88d",
   "metadata": {},
   "outputs": [
    {
     "data": {
      "text/plain": [
       "[Document(metadata={'source': 'wikipedia', 'topic': 'Chemistry', '_id': '0e8f454e-3ebf-434b-a7cf-26489695bcd0', '_collection_name': 'tutorial'}, page_content=\"In Chemistry, David Baker, Demis Hassabis, and John Jumper were honored win Nobel Prize in 2024 for their breakthroughs in protein structure prediction. Baker’s work in computational protein design enables the creation of novel proteins, while Hassabis and Jumper, known for their work with DeepMind's AlphaFold, developed an AI that accurately predicts protein structures—a long-standing challenge in biology. This advancement could lead to transformative applications in drug development and synthetic biology.\"),\n",
       " Document(metadata={'source': 'wikipedia', 'topic': 'Physics', '_id': '2690cf82-ebfd-48bc-bd52-c61a595a212a', '_collection_name': 'tutorial'}, page_content=\"John J. Hopfield and Geoffrey Hinton received the Nobel Prize in Physics in 2024 for their groundbreaking work on artificial neural networks, a foundation of modern AI. Hopfield developed an associative memory model in the 1980s that allows networks to store and reconstruct patterns. Building on this, Hinton developed the Boltzmann machine, which uses statistical physics principles to recognize and classify data. These pioneering contributions are essential for today's machine learning technologies, enhancing applications from medical imaging to material science.\")]"
      ]
     },
     "execution_count": 10,
     "metadata": {},
     "output_type": "execute_result"
    }
   ],
   "source": [
    "retrieved_docs = vector_store.similarity_search(\"who won the 2024 Nobel in Chemistry?\")\n",
    "retrieved_docs"
   ]
  },
  {
   "cell_type": "code",
   "execution_count": 11,
   "id": "a60fe747",
   "metadata": {},
   "outputs": [],
   "source": [
    "from langchain_core.prompts import ChatPromptTemplate\n",
    "\n",
    "prompt_template = \"\"\"Answer the question based only on the following context:\n",
    "```\n",
    "{context}\n",
    "```\n",
    "\n",
    "Question: {question}\n",
    "\"\"\"\n",
    "prompt = ChatPromptTemplate.from_template(prompt_template)\n"
   ]
  },
  {
   "cell_type": "code",
   "execution_count": 12,
   "id": "67227c37",
   "metadata": {},
   "outputs": [
    {
     "data": {
      "image/png": "[encoded data removed]",
      "text/plain": [
       "<langgraph.graph.state.CompiledStateGraph object at 0x0000021BD3364A60>"
      ]
     },
     "execution_count": 12,
     "metadata": {},
     "output_type": "execute_result"
    }
   ],
   "source": [
    "from langchain_core.documents import Document\n",
    "from typing_extensions import List, TypedDict\n",
    "\n",
    "\n",
    "class State(TypedDict):\n",
    "    question: str\n",
    "    context: List[Document]\n",
    "    answer: str\n",
    "\n",
    "def format_docs(docs):\n",
    "    return \"\\n\\n\".join([d.page_content for d in docs])\n",
    "\n",
    "\n",
    "def retrieve(state: State):\n",
    "    retrieved_docs = vector_store.similarity_search(state[\"question\"])\n",
    "    return {\"context\": retrieved_docs}\n",
    "\n",
    "\n",
    "def generate(state: State):\n",
    "    docs_content = format_docs(state[\"context\"])\n",
    "    messages = prompt.invoke({\"question\": state[\"question\"], \"context\": docs_content})\n",
    "    response = llm.invoke(messages)\n",
    "    return {\"answer\": response.content}\n",
    "\n",
    "\n",
    "from langgraph.graph import START, StateGraph\n",
    "\n",
    "graph_builder = StateGraph(State).add_sequence([retrieve, generate])\n",
    "graph_builder.add_edge(START, \"retrieve\")\n",
    "graph = graph_builder.compile()\n",
    "graph"
   ]
  },
  {
   "cell_type": "code",
   "execution_count": 13,
   "id": "b5bf3c6a",
   "metadata": {},
   "outputs": [
    {
     "data": {
      "text/plain": [
       "{'question': 'who won the 2024 Nobel in Chemistry?',\n",
       " 'context': [Document(metadata={'source': 'wikipedia', 'topic': 'Chemistry', '_id': '0e8f454e-3ebf-434b-a7cf-26489695bcd0', '_collection_name': 'tutorial'}, page_content=\"In Chemistry, David Baker, Demis Hassabis, and John Jumper were honored win Nobel Prize in 2024 for their breakthroughs in protein structure prediction. Baker’s work in computational protein design enables the creation of novel proteins, while Hassabis and Jumper, known for their work with DeepMind's AlphaFold, developed an AI that accurately predicts protein structures—a long-standing challenge in biology. This advancement could lead to transformative applications in drug development and synthetic biology.\"),\n",
       "  Document(metadata={'source': 'wikipedia', 'topic': 'Physics', '_id': '2690cf82-ebfd-48bc-bd52-c61a595a212a', '_collection_name': 'tutorial'}, page_content=\"John J. Hopfield and Geoffrey Hinton received the Nobel Prize in Physics in 2024 for their groundbreaking work on artificial neural networks, a foundation of modern AI. Hopfield developed an associative memory model in the 1980s that allows networks to store and reconstruct patterns. Building on this, Hinton developed the Boltzmann machine, which uses statistical physics principles to recognize and classify data. These pioneering contributions are essential for today's machine learning technologies, enhancing applications from medical imaging to material science.\")],\n",
       " 'answer': 'David Baker, Demis Hassabis, and John Jumper won the 2024 Nobel Prize in Chemistry.'}"
      ]
     },
     "execution_count": 13,
     "metadata": {},
     "output_type": "execute_result"
    }
   ],
   "source": [
    "graph.invoke({\"question\": \"who won the 2024 Nobel in Chemistry?\"})"
   ]
  },
  {
   "cell_type": "markdown",
   "id": "6a187684",
   "metadata": {},
   "source": [
    "# Can we do better?"
   ]
  },
  {
   "cell_type": "markdown",
   "id": "4fafedd6",
   "metadata": {},
   "source": [
    "## Dynamic Source\n",
    "\n",
    "[Structured outputs](https://python.langchain.com/docs/concepts/structured_outputs/)"
   ]
  },
  {
   "cell_type": "code",
   "execution_count": 14,
   "id": "71c9ef75",
   "metadata": {},
   "outputs": [
    {
     "data": {
      "text/plain": [
       "Filter(do_filter=True, value='desperta_ferro')"
      ]
     },
     "execution_count": 14,
     "metadata": {},
     "output_type": "execute_result"
    }
   ],
   "source": [
    "from pydantic import BaseModel, Field\n",
    "from typing import Optional\n",
    "\n",
    "\n",
    "class Filter(BaseModel):\n",
    "    do_filter: bool = Field(\"Whether the user has specified any given source or not\")\n",
    "    value: Optional[str] = Field(\n",
    "        \"Infer from the query is the user intent is to get information only from a given source. Answer only with any of these values: `wikipedia`, `national_geographic`, `desperta_ferro`\")\n",
    "\n",
    "from langchain_core.output_parsers import PydanticOutputParser\n",
    "parser = PydanticOutputParser(pydantic_object=Filter)\n",
    "\n",
    "\n",
    "from langchain_core.prompts import ChatPromptTemplate\n",
    "\n",
    "prompt_template_filt = \"\"\"Your task is to analyze a question and determine whether the user want to retrieve the answer from a given source.\\\n",
    "Do NOT answer the question itself, only the source if it stated.\\\n",
    "You can provide an empty string if no source is requested by the user.\\\n",
    "Wrap the output in the following json format:\\n {format_instructions}\\\n",
    "Question: {question}\n",
    "\"\"\"\n",
    "prompt_filt = ChatPromptTemplate.from_template(prompt_template_filt)\n",
    "chain_filt = (prompt_filt.partial(format_instructions=parser.get_format_instructions()) \n",
    "         | llm \n",
    "         | parser\n",
    "         )\n",
    "\n",
    "resp = chain_filt.invoke(\"Según Desperta Ferro, existe el término reconquista?\")\n",
    "resp"
   ]
  },
  {
   "cell_type": "code",
   "execution_count": 15,
   "id": "83508a96",
   "metadata": {},
   "outputs": [
    {
     "data": {
      "image/png": "[encoded data removed]",
      "text/plain": [
       "<langgraph.graph.state.CompiledStateGraph object at 0x0000021BD327B220>"
      ]
     },
     "execution_count": 15,
     "metadata": {},
     "output_type": "execute_result"
    }
   ],
   "source": [
    "def source_filter(state: State):\n",
    "    q = state['question']\n",
    "    print(q)\n",
    "    resp = chain_filt.invoke(q)\n",
    "\n",
    "    if resp.do_filter:\n",
    "        value = resp.value\n",
    "        print(f\"Filter: {value=}\")\n",
    "        print( [doc.metadata for doc in state['context'] ])\n",
    "        docs_filt = [doc for doc in state['context'] if doc.metadata['source'] == value]\n",
    "        print(f\"Remaning docs: {len(docs_filt)=}\")\n",
    "    else:\n",
    "        docs_filt = state['context']\n",
    "\n",
    "    return {\"context\": docs_filt}\n",
    "\n",
    "\n",
    "graph_builder = StateGraph(State).add_sequence([retrieve, source_filter, generate])\n",
    "graph_builder.add_edge(START, \"retrieve\")\n",
    "graph = graph_builder.compile()\n",
    "graph\n",
    "\n",
    "    "
   ]
  },
  {
   "cell_type": "code",
   "execution_count": 16,
   "id": "4550cc42",
   "metadata": {},
   "outputs": [
    {
     "name": "stdout",
     "output_type": "stream",
     "text": [
      "According to wikipedia, who won the Chemistry Nobel Prize in 2024?\n",
      "Filter: value='wikipedia'\n",
      "[{'source': 'wikipedia', 'topic': 'Chemistry', '_id': '0e8f454e-3ebf-434b-a7cf-26489695bcd0', '_collection_name': 'tutorial'}, {'source': 'wikipedia', 'topic': 'Physics', '_id': '2690cf82-ebfd-48bc-bd52-c61a595a212a', '_collection_name': 'tutorial'}]\n",
      "Remaning docs: len(docs_filt)=2\n"
     ]
    },
    {
     "data": {
      "text/plain": [
       "{'question': 'According to wikipedia, who won the Chemistry Nobel Prize in 2024?',\n",
       " 'context': [Document(metadata={'source': 'wikipedia', 'topic': 'Chemistry', '_id': '0e8f454e-3ebf-434b-a7cf-26489695bcd0', '_collection_name': 'tutorial'}, page_content=\"In Chemistry, David Baker, Demis Hassabis, and John Jumper were honored win Nobel Prize in 2024 for their breakthroughs in protein structure prediction. Baker’s work in computational protein design enables the creation of novel proteins, while Hassabis and Jumper, known for their work with DeepMind's AlphaFold, developed an AI that accurately predicts protein structures—a long-standing challenge in biology. This advancement could lead to transformative applications in drug development and synthetic biology.\"),\n",
       "  Document(metadata={'source': 'wikipedia', 'topic': 'Physics', '_id': '2690cf82-ebfd-48bc-bd52-c61a595a212a', '_collection_name': 'tutorial'}, page_content=\"John J. Hopfield and Geoffrey Hinton received the Nobel Prize in Physics in 2024 for their groundbreaking work on artificial neural networks, a foundation of modern AI. Hopfield developed an associative memory model in the 1980s that allows networks to store and reconstruct patterns. Building on this, Hinton developed the Boltzmann machine, which uses statistical physics principles to recognize and classify data. These pioneering contributions are essential for today's machine learning technologies, enhancing applications from medical imaging to material science.\")],\n",
       " 'answer': 'According to the provided context, David Baker, Demis Hassabis, and John Jumper won the Nobel Prize in Chemistry in 2024.'}"
      ]
     },
     "execution_count": 16,
     "metadata": {},
     "output_type": "execute_result"
    }
   ],
   "source": [
    "graph.invoke({\"question\": \"According to wikipedia, who won the Chemistry Nobel Prize in 2024?\"})"
   ]
  },
  {
   "cell_type": "markdown",
   "id": "02669244",
   "metadata": {},
   "source": [
    "Ideas:\n",
    "* Enhance retrieval with native client and custom options (metadata filter)\n",
    "* Add post processing link the answer to images"
   ]
  },
  {
   "cell_type": "markdown",
   "id": "3d472ab7",
   "metadata": {},
   "source": [
    "## Self-reflective RAG\n",
    "\n",
    "We are going to implement a linear version of [Self-Reflective RAG with LangGraph](https://blog.langchain.com/agentic-rag-with-langgraph/)"
   ]
  },
  {
   "cell_type": "code",
   "execution_count": 17,
   "id": "db74c817",
   "metadata": {},
   "outputs": [
    {
     "data": {
      "text/plain": [
       "{'question': 'According to wikipedia, who won the Chemistry Nobel Prize in 2024?',\n",
       " 'context': [Document(metadata={'source': 'wikipedia', 'topic': 'Chemistry', '_id': '0e8f454e-3ebf-434b-a7cf-26489695bcd0', '_collection_name': 'tutorial', 'relevance_score': 3}, page_content=\"In Chemistry, David Baker, Demis Hassabis, and John Jumper were honored win Nobel Prize in 2024 for their breakthroughs in protein structure prediction. Baker’s work in computational protein design enables the creation of novel proteins, while Hassabis and Jumper, known for their work with DeepMind's AlphaFold, developed an AI that accurately predicts protein structures—a long-standing challenge in biology. This advancement could lead to transformative applications in drug development and synthetic biology.\"),\n",
       "  Document(metadata={'source': 'wikipedia', 'topic': 'Physics', '_id': '2690cf82-ebfd-48bc-bd52-c61a595a212a', '_collection_name': 'tutorial', 'relevance_score': 3}, page_content=\"John J. Hopfield and Geoffrey Hinton received the Nobel Prize in Physics in 2024 for their groundbreaking work on artificial neural networks, a foundation of modern AI. Hopfield developed an associative memory model in the 1980s that allows networks to store and reconstruct patterns. Building on this, Hinton developed the Boltzmann machine, which uses statistical physics principles to recognize and classify data. These pioneering contributions are essential for today's machine learning technologies, enhancing applications from medical imaging to material science.\")],\n",
       " 'answer': 'According to the provided context, the winners of the Chemistry Nobel Prize in 2024 are David Baker, Demis Hassabis, and John Jumper.'}"
      ]
     },
     "execution_count": 17,
     "metadata": {},
     "output_type": "execute_result"
    }
   ],
   "source": [
    "\n",
    "def critic_context_relevance(state: State):\n",
    "    contexts = state[\"context\"]\n",
    "    question = state[\"question\"]\n",
    "\n",
    "    for context in contexts:\n",
    "        # Use a critic LLM to sinthesize a relevancy score for each context individually\n",
    "        # Use prompting to only yield a value between 0 and 3 and in int format\n",
    "        context.metadata['relevance_score'] = 3\n",
    "\n",
    "    return {\"context\": contexts}\n",
    "\n",
    "\n",
    "\n",
    "graph_builder = StateGraph(State).add_sequence([retrieve, critic_context_relevance, generate])\n",
    "graph_builder.add_edge(START, \"retrieve\")\n",
    "graph = graph_builder.compile()\n",
    "graph.invoke({\"question\": \"According to wikipedia, who won the Chemistry Nobel Prize in 2024?\"})"
   ]
  },
  {
   "cell_type": "markdown",
   "id": "6490253f",
   "metadata": {},
   "source": [
    "## Other ideas:\n",
    "\n",
    "* Two stage retrieval (Documents +  Chunks)\n",
    "* Conversational Flow\n",
    "* Tool calling (Agents!)\n",
    "* Multi-retrievers\n"
   ]
  },
  {
   "cell_type": "markdown",
   "id": "8a9d66c1",
   "metadata": {},
   "source": []
  }
 ],
 "metadata": {
  "kernelspec": {
   "display_name": "dslab-rag-e2e",
   "language": "python",
   "name": "python3"
  },
  "language_info": {
   "codemirror_mode": {
    "name": "ipython",
    "version": 3
   },
   "file_extension": ".py",
   "mimetype": "text/x-python",
   "name": "python",
   "nbconvert_exporter": "python",
   "pygments_lexer": "ipython3",
   "version": "3.10.9"
  }
 },
 "nbformat": 4,
 "nbformat_minor": 5
}
