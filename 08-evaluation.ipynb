{
 "cells": [
  {
   "cell_type": "markdown",
   "id": "3a80179e",
   "metadata": {},
   "source": [
    "# LLM Aps Evaluation: RAGAS\n",
    "\n",
    "RAGAS is an evaluation Framework for LLM Apps like RAGs or agents.   \n",
    "It is open source and can integrate with several frameworks, both for datasets and LLMs\n",
    "\n",
    "The main use is to run a evaluation job over a dataset, both with tradicional metrics and LLM-based evaluation\n",
    "Other usages include:\n",
    "* Testing data generation (synthetic)\n",
    "\n",
    "\n",
    "\n",
    "# Metrics\n",
    "\n",
    "RAGAS has a set of pre-implemented metrics, both tradicional and llm-based\n",
    "\n",
    "![Metrics](https://docs.ragas.io/en/stable/_static/imgs/metrics_mindmap.png)\n",
    "\n",
    "\n",
    "## Tradicional metrics\n",
    "\n",
    "![rouge-img1](docs/rouge-img1.png)\n",
    "\n",
    "\n",
    "**ROUGE:**\n",
    "Used for text summarization\n",
    "Compute the number of n-grams matching between a Reference (True) and a generation (Predicted)\n",
    "\n",
    "![rouge-calc](docs/rouge-calc.png)\n",
    "\n",
    "\n",
    "**BLEU:**\n",
    "Used for text translation\n",
    "Average the precision across a range of n-gram sizes\n",
    "\n",
    "![bleu-calc](docs/bleu-calc.png)\n",
    "\n",
    "Source: [Generative AI with Large Language Models. Coursera](https://www.coursera.org/learn/generative-ai-with-llms/paidmedia?utm_medium=sem&utm_source=gg&utm_campaign=b2c_namer_generative-ai-with-llms_deeplearning-ai_ftcof_learn_px_dr_bau_gg_sem_pr-bd_us-ca_en_m_hyb_23-09_x&campaignid=20534248984&adgroupid=155736976280&device=c&keyword=generative%20ai%20with%20large%20language%20models%20certification&matchtype=b&network=g&devicemodel=&creativeid=673252278896&assetgroupid=&targetid=kwd-2259390252637&extensionid=&placement=&gad_source=1&gad_campaignid=20534248984&gbraid=0AAAAADdKX6ZnVEFBPECoYVPZTL9iwWfti&gclid=Cj0KCQjw5onGBhDeARIsAFK6QJYoCEgasLSEGmKD5aWLaAJK3l05AcCSclvrxIUlaKL16FbXmjXmy_4aAuFEEALw_wcB)\n",
    "\n",
    "## LLM-Based Evaluation\n",
    "\n",
    "Compare References and Generations by other LLM instructed to score given a precise task description and evaluation rubric\n",
    "\n",
    "![eval-pyramid](docs/eval-pyramid.png)"
   ]
  },
  {
   "cell_type": "markdown",
   "id": "65404cdf",
   "metadata": {},
   "source": [
    "1. RAG Correctness: [Answer correctness](hhttps://docs.ragas.io/en/stable/concepts/metrics/available_metrics/answer_correctness/)\n",
    "    * factuality (75%) + semantic similarity (25%)\n",
    "    * [0-1]\n",
    "2. Retrieval Recall: Are every GT facts gathered in Context?\n",
    "3. Retrieval Precision: [Context Relevance](https://docs.ragas.io/en/stable/concepts/metrics/available_metrics/nvidia_metrics/#context-relevance)\n",
    "\n",
    "4. Answer Faithfullness: [Faithfulness](https://docs.ragas.io/en/stable/concepts/metrics/available_metrics/faithfulness/)\n",
    "5. "
   ]
  },
  {
   "cell_type": "code",
   "execution_count": 100,
   "id": "048ab727",
   "metadata": {},
   "outputs": [],
   "source": [
    "%load_ext autoreload\n",
    "%autoreload 2"
   ]
  },
  {
   "cell_type": "code",
   "execution_count": 101,
   "id": "bba54eca",
   "metadata": {},
   "outputs": [],
   "source": [
    "import os\n",
    "from pathlib import Path\n",
    "from dotenv import load_dotenv\n",
    "from langchain_openai import ChatOpenAI\n",
    "\n",
    "import pandas as pd\n",
    "from ragas import evaluate, EvaluationDataset\n",
    "\n",
    "from src import conf, utils\n",
    "from rag import main as rag_builder"
   ]
  },
  {
   "cell_type": "markdown",
   "id": "cc10d594",
   "metadata": {},
   "source": [
    "# Params"
   ]
  },
  {
   "cell_type": "code",
   "execution_count": 102,
   "id": "b8eb5797",
   "metadata": {},
   "outputs": [],
   "source": [
    "conf_infra = conf.load(file=\"infra.yaml\")\n",
    "conf_settings = conf.load(file=\"settings.yaml\")\n",
    "\n",
    "LLM_EVAL = conf_settings.llm_workhorse  #!!!!\n",
    "EMBEDDINGS = conf_settings.embeddings\n",
    "INDEX_NAME = conf_settings.vdb_index\n",
    "RETRIEVE_K = conf_settings.retrieve_k\n",
    "LANGFUSE_HOST = conf_infra.llmops_url\n",
    "VDB_URL = conf_infra.vdb_url\n"
   ]
  },
  {
   "cell_type": "markdown",
   "id": "1c2cf4c6",
   "metadata": {},
   "source": [
    "# Environment Variables"
   ]
  },
  {
   "cell_type": "code",
   "execution_count": 103,
   "id": "d76475a0",
   "metadata": {},
   "outputs": [],
   "source": [
    "load_dotenv()\n",
    "\n",
    "OPENAI_API_KEY = os.environ[\"OPENAI_API_KEY\"]"
   ]
  },
  {
   "cell_type": "markdown",
   "id": "6077a74e",
   "metadata": {},
   "source": [
    "# Clients"
   ]
  },
  {
   "cell_type": "code",
   "execution_count": 104,
   "id": "92ad2b3a",
   "metadata": {},
   "outputs": [],
   "source": [
    "from openai import OpenAI\n",
    "\n",
    "client_openai = OpenAI(\n",
    "    api_key=OPENAI_API_KEY\n",
    ")\n",
    "\n",
    "llm = ChatOpenAI(\n",
    "    model=LLM_EVAL,\n",
    "    api_key=OPENAI_API_KEY\n",
    "    \n",
    "    )"
   ]
  },
  {
   "cell_type": "markdown",
   "id": "d80e934f",
   "metadata": {},
   "source": [
    "# Metrics"
   ]
  },
  {
   "cell_type": "markdown",
   "id": "311c3bc7",
   "metadata": {},
   "source": [
    "## Traditional: BLEU"
   ]
  },
  {
   "cell_type": "code",
   "execution_count": 105,
   "id": "6f0dd4e4",
   "metadata": {},
   "outputs": [
    {
     "data": {
      "text/plain": [
       "0.13718598426177148"
      ]
     },
     "execution_count": 105,
     "metadata": {},
     "output_type": "execute_result"
    }
   ],
   "source": [
    "from ragas import SingleTurnSample\n",
    "from ragas.metrics import BleuScore\n",
    "\n",
    "test_data = {\n",
    "    \"user_input\": \"summarise given text\\nThe company reported an 8% rise in Q3 2024, driven by strong performance in the Asian market. Sales in this region have significantly contributed to the overall growth. Analysts attribute this success to strategic marketing and product localization. The positive trend in the Asian market is expected to continue into the next quarter.\",\n",
    "    \"response\": \"The company experienced an 8% increase in Q3 2024, largely due to effective marketing strategies and product adaptation, with expectations of continued growth in the coming quarter.\",\n",
    "    \"reference\": \"The company reported an 8% growth in Q3 2024, primarily driven by strong sales in the Asian market, attributed to strategic marketing and localized products, with continued growth anticipated in the next quarter.\"\n",
    "}\n",
    "\n",
    "metric = BleuScore()  # requires sacrebleu\n",
    "test_data = SingleTurnSample(**test_data)\n",
    "metric.single_turn_score(test_data)"
   ]
  },
  {
   "cell_type": "code",
   "execution_count": 106,
   "id": "750c0f27",
   "metadata": {},
   "outputs": [
    {
     "data": {
      "text/plain": [
       "0.5000000000000001"
      ]
     },
     "execution_count": 106,
     "metadata": {},
     "output_type": "execute_result"
    }
   ],
   "source": [
    "test_data = SingleTurnSample(\n",
    "    user_input=\"Where is the Eiffel Tower located?\",\n",
    "    response=\"The Eiffel Tower is located in Paris.\",\n",
    "    reference=\"The Eiffel Tower is in Paris.\", \n",
    ")\n",
    "\n",
    "\n",
    "metric = BleuScore()  # requires sacrebleu\n",
    "metric.single_turn_score(test_data)"
   ]
  },
  {
   "cell_type": "markdown",
   "id": "76b3257c",
   "metadata": {},
   "source": [
    "## LLM Based"
   ]
  },
  {
   "cell_type": "markdown",
   "id": "afd975ca",
   "metadata": {},
   "source": [
    "### Response Relevancy and Answer Accuracy\n",
    "\n",
    "**Response Relevancy: Q vs A**\n",
    "1. Generate 3 artificial Qs based on the response (Q*s)\n",
    "2. cosine similarity between user_input and Q*s\n",
    "3. Average\n",
    "\n",
    "> higher is better\n",
    "\n",
    "**Answer Accuracy (NVIDIA): A vs GT**\n",
    "1. score 0 (OK), 2, 4(OK)\n",
    "2. template1: generated > reference \n",
    "3. template2: reference > generated \n",
    "4. Average and scale 0..1\n",
    "\n",
    "> higher is better\n",
    "\n",
    "\n",
    "Relenvant means correct?\n",
    "> Es la venenosa la cicuta?\n",
    "* Si\n",
    "* La cicuta contiene un alcalide llamado coniína y en concentrciones suficientemente altas es tóxica para el ser humano"
   ]
  },
  {
   "cell_type": "code",
   "execution_count": 107,
   "id": "de647724",
   "metadata": {},
   "outputs": [],
   "source": [
    "from ragas.llms import LangchainLLMWrapper\n",
    "from langchain_openai import OpenAIEmbeddings\n",
    "\n",
    "evaluator_llm = LangchainLLMWrapper(llm)\n",
    "evaluator_embeddings = OpenAIEmbeddings(\n",
    "    client=client_openai,\n",
    "    model=EMBEDDINGS\n",
    "    )\n",
    "\n",
    "\n",
    "sample = SingleTurnSample(\n",
    "    user_input=\"Where is the Eiffel Tower located?\",\n",
    "    response=\"The Eiffel Tower is located in Paris.\",\n",
    "    reference=\"The Eiffel Tower is located in Paris.\",\n",
    "    retrieved_contexts=[\"Paris is the capital of France.\"], \n",
    ")\n",
    "\n",
    "# Currently incompatible!\n",
    "# from ragas.embeddings import OpenAIEmbeddings\n",
    "# evaluator_embeddings = OpenAIEmbeddings(\n",
    "#     client=client_openai,\n",
    "#     model=EMBEDDINGS\n",
    "#     )\n",
    "\n",
    "embeddings = OpenAIEmbeddings(\n",
    "    model=EMBEDDINGS,\n",
    ")\n",
    "\n",
    "\n"
   ]
  },
  {
   "cell_type": "code",
   "execution_count": 108,
   "id": "a046ea38",
   "metadata": {},
   "outputs": [
    {
     "data": {
      "text/plain": [
       "np.float64(0.9999999999999994)"
      ]
     },
     "execution_count": 108,
     "metadata": {},
     "output_type": "execute_result"
    }
   ],
   "source": [
    "from ragas.metrics import ResponseRelevancy\n",
    "\n",
    "\n",
    "scorer = ResponseRelevancy(llm=evaluator_llm, embeddings=embeddings)\n",
    "await scorer.single_turn_ascore(sample)"
   ]
  },
  {
   "cell_type": "code",
   "execution_count": 109,
   "id": "0bc6c023",
   "metadata": {},
   "outputs": [
    {
     "data": {
      "text/plain": [
       "1.0"
      ]
     },
     "execution_count": 109,
     "metadata": {},
     "output_type": "execute_result"
    }
   ],
   "source": [
    "from ragas.metrics import AnswerAccuracy\n",
    "\n",
    "\n",
    "scorer = AnswerAccuracy(llm=evaluator_llm)\n",
    "await scorer.single_turn_ascore(sample)"
   ]
  },
  {
   "cell_type": "markdown",
   "id": "008adcae",
   "metadata": {},
   "source": [
    "## Context Recall: C vs GT\n",
    "\n",
    "Context Recall measures how many of the relevant documents (or pieces of information) were successfully retrieved\n",
    "\n",
    "1. split reference into claims\n",
    "2. compare claims with retrieved_context\n",
    "3. count claims backed up by the retrieved_context vs total claims\n",
    "\n",
    "> higer is better\n",
    "\n",
    "There is a `NonLLMContextRecall ` conterpart that compares `retrieved_contexts` vs `reference_contexts`"
   ]
  },
  {
   "cell_type": "code",
   "execution_count": 110,
   "id": "c4772d2d",
   "metadata": {},
   "outputs": [
    {
     "data": {
      "text/plain": [
       "1.0"
      ]
     },
     "execution_count": 110,
     "metadata": {},
     "output_type": "execute_result"
    }
   ],
   "source": [
    "from ragas.metrics import LLMContextRecall\n",
    "\n",
    "\n",
    "sample = SingleTurnSample(\n",
    "    user_input=\"Where is the Eiffel Tower located?\",\n",
    "    response=\"The Eiffel Tower is located in Paris.\",\n",
    "    reference=\"The Eiffel Tower is located in Paris.\",\n",
    "    retrieved_contexts=[\"Paris is the capital of France.\", \"the Eiffel Tower construction started in 1887 in Paris\"], \n",
    ")\n",
    "\n",
    "context_recall = LLMContextRecall(llm=evaluator_llm)\n",
    "await context_recall.single_turn_ascore(sample)"
   ]
  },
  {
   "cell_type": "markdown",
   "id": "831b2bf5",
   "metadata": {},
   "source": [
    "# Dataset Evaluation"
   ]
  },
  {
   "cell_type": "code",
   "execution_count": 111,
   "id": "5f89df6e",
   "metadata": {},
   "outputs": [
    {
     "data": {
      "text/html": [
       "<div>\n",
       "<style scoped>\n",
       "    .dataframe tbody tr th:only-of-type {\n",
       "        vertical-align: middle;\n",
       "    }\n",
       "\n",
       "    .dataframe tbody tr th {\n",
       "        vertical-align: top;\n",
       "    }\n",
       "\n",
       "    .dataframe thead th {\n",
       "        text-align: right;\n",
       "    }\n",
       "</style>\n",
       "<table border=\"1\" class=\"dataframe\">\n",
       "  <thead>\n",
       "    <tr style=\"text-align: right;\">\n",
       "      <th></th>\n",
       "      <th>Pregunta</th>\n",
       "      <th>Respuesta</th>\n",
       "      <th>Extracción literal</th>\n",
       "      <th>Sección/Subsección</th>\n",
       "      <th>Origen</th>\n",
       "      <th>Complejidad</th>\n",
       "    </tr>\n",
       "  </thead>\n",
       "  <tbody>\n",
       "    <tr>\n",
       "      <th>0</th>\n",
       "      <td>¿A qué distancia de la Tierra está el sistema ...</td>\n",
       "      <td>42,7 años luz</td>\n",
       "      <td>…a tan solo **42,7 años luz de la Tierra**…</td>\n",
       "      <td>1.3 Descubrimiento revolucionario…</td>\n",
       "      <td>párrafo</td>\n",
       "      <td>simple</td>\n",
       "    </tr>\n",
       "    <tr>\n",
       "      <th>1</th>\n",
       "      <td>¿Cuántas estrellas tiene el sistema Althéra?</td>\n",
       "      <td>Dos</td>\n",
       "      <td>…está compuesto por **dos estrellas principale...</td>\n",
       "      <td>2.2 Disposición y dinámica…</td>\n",
       "      <td>párrafo</td>\n",
       "      <td>simple</td>\n",
       "    </tr>\n",
       "    <tr>\n",
       "      <th>2</th>\n",
       "      <td>¿Cuál es el tipo espectral de Althéra A?</td>\n",
       "      <td>F7V</td>\n",
       "      <td>…Althéra A… una enana amarilla-blanca de tipo ...</td>\n",
       "      <td>3.1 Clasificación espectral…</td>\n",
       "      <td>párrafo</td>\n",
       "      <td>simple</td>\n",
       "    </tr>\n",
       "    <tr>\n",
       "      <th>3</th>\n",
       "      <td>¿Cuál es el tipo espectral de Althéra B?</td>\n",
       "      <td>K2V</td>\n",
       "      <td>…Althéra B… una enana naranja de tipo K2V…</td>\n",
       "      <td>3.1 Clasificación espectral…</td>\n",
       "      <td>párrafo</td>\n",
       "      <td>simple</td>\n",
       "    </tr>\n",
       "    <tr>\n",
       "      <th>4</th>\n",
       "      <td>¿Cuál es el periodo orbital mutuo de las dos e...</td>\n",
       "      <td>83 días</td>\n",
       "      <td>…en un periodo de **83 días**…</td>\n",
       "      <td>2.2 Disposición y dinámica…</td>\n",
       "      <td>párrafo</td>\n",
       "      <td>simple</td>\n",
       "    </tr>\n",
       "  </tbody>\n",
       "</table>\n",
       "</div>"
      ],
      "text/plain": [
       "                                            Pregunta      Respuesta  \\\n",
       "0  ¿A qué distancia de la Tierra está el sistema ...  42,7 años luz   \n",
       "1       ¿Cuántas estrellas tiene el sistema Althéra?            Dos   \n",
       "2           ¿Cuál es el tipo espectral de Althéra A?            F7V   \n",
       "3           ¿Cuál es el tipo espectral de Althéra B?            K2V   \n",
       "4  ¿Cuál es el periodo orbital mutuo de las dos e...        83 días   \n",
       "\n",
       "                                  Extracción literal  \\\n",
       "0        …a tan solo **42,7 años luz de la Tierra**…   \n",
       "1  …está compuesto por **dos estrellas principale...   \n",
       "2  …Althéra A… una enana amarilla-blanca de tipo ...   \n",
       "3         …Althéra B… una enana naranja de tipo K2V…   \n",
       "4                     …en un periodo de **83 días**…   \n",
       "\n",
       "                   Sección/Subsección   Origen Complejidad  \n",
       "0  1.3 Descubrimiento revolucionario…  párrafo      simple  \n",
       "1         2.2 Disposición y dinámica…  párrafo      simple  \n",
       "2        3.1 Clasificación espectral…  párrafo      simple  \n",
       "3        3.1 Clasificación espectral…  párrafo      simple  \n",
       "4         2.2 Disposición y dinámica…  párrafo      simple  "
      ]
     },
     "execution_count": 111,
     "metadata": {},
     "output_type": "execute_result"
    }
   ],
   "source": [
    "df_eval = pd.read_csv(utils.path_data_raw / \"dataset_qa.csv\")\n",
    "\n",
    "df_eval.head()"
   ]
  },
  {
   "cell_type": "code",
   "execution_count": 112,
   "id": "3fe52350",
   "metadata": {},
   "outputs": [
    {
     "data": {
      "image/png": "[encoded data removed]",
      "text/plain": [
       "<langgraph.graph.state.CompiledStateGraph object at 0x0000023B898C08E0>"
      ]
     },
     "execution_count": 112,
     "metadata": {},
     "output_type": "execute_result"
    }
   ],
   "source": [
    "rag_graph = rag_builder(\n",
    "            index_name=INDEX_NAME,\n",
    "        retrieve_k=RETRIEVE_K,\n",
    ")\n",
    "rag_graph"
   ]
  },
  {
   "cell_type": "code",
   "execution_count": 113,
   "id": "6b5029ba",
   "metadata": {},
   "outputs": [
    {
     "name": "stdout",
     "output_type": "stream",
     "text": [
      "Questions:\n",
      "[{'question': '¿Qué procesos podrían explicar el desequilibrio químico de Aurelia III sin necesidad de vida?'}, {'question': '¿Cuántas estrellas tiene el sistema Althéra?'}, {'question': '¿Cuál es el periodo orbital mutuo de las dos estrellas de Althera?'}, {'question': '¿Qué luna tiene órbita retrógrada e inestable?'}, {'question': '¿Qué cinturón de asteroides se encuentra entre Névalis II y Aurelia III?'}]\n",
      "------------------------------\n",
      "len(responses)=5\n",
      "responses[1]={'question': '¿Cuántas estrellas tiene el sistema Althéra?', 'context': [Document(metadata={'Header 1': '2. Conoce a Althéra', 'Header 2': 'Althéra está compuesto por dos estrellas principales :', '_id': 'de3a91a8-024a-4a21-b69b-5e996448f86b', '_collection_name': 'space'}, page_content='## Althéra está compuesto por dos estrellas principales :  \\n- Althéra A ( HD 4579 A ), una enana amarilla-blanca de tipo F7V, más masiva y luminosa que el Sol.  \\n- Althéra B ( HD 4579 B ), una enana naranja de tipo K2V, algo más fría y longeva.  \\nAmbas estrellas orbitan alrededor de un centro de masa común en un periodo de 83 días , con una separación media de 0,42 UA (Unidades Astronómicas). La interacción gravitatoria entre ellas crea un campo de fuerzas complejo que condiciona la estabilidad de los planetas circumbinarios.  \\nA diferencia de los sistemas planetarios con una única estrella, en Althéra la zona habitable se desplaza hacia órbitas más amplias para evitar los efectos térmicos extremos que se producirían en regiones cercanas a cualquiera de las dos estrellas.'), Document(metadata={'Header 1': '2. Conoce a Althéra', 'Header 2': '2.3 Singularidades astronómicas', '_id': '4d0b5fec-6010-4666-8c0b-e26e24b1b8ba', '_collection_name': 'space'}, page_content='## 2.3 Singularidades astronómicas  \\nLo que hace a Althéra excepcional frente a otros sistemas binarios conocidos es la estabilidad térmica en su zona habitable circumbinaria . Simulaciones realizadas con el Centro de Modelado Planetario de la NASA indican que Aurelia III recibe un flujo de radiación promedio similar al de la Tierra, pero con variaciones estacionales más complejas debido a los ciclos combinados de ambas estrellas.  \\nEntre sus rasgos distintivos:  \\n- Luminiscencia variable combinada: las diferencias de color y brillo entre Althéra A y B generan amaneceres y atardeceres dobles de tonalidades doradas y anaranjadas.\\n- Influencia gravitacional múltiple: la presencia de dos gigantes gaseosos exteriores, Zephyros IV y Krion V, ayuda a limpiar el espacio interior de objetos errantes, protegiendo a los planetas habitables de impactos masivos frecuentes.\\n- Cinturón de Arges activo: región rica en asteroides metálicos, con colisiones frecuentes que producen brillantes lluvias de meteoros observables desde Aurelia III.  \\nEn conjunto, Althéra constituye un laboratorio natural para estudiar cómo la vida -si existe o llegara a desarrollarse- podría adaptarse a condiciones lumínicas, gravitacionales y climáticas mucho más complejas que las de nuestro sistema solar.'), Document(metadata={'Header 1': '3. Los soles de Althéra', 'Header 2': '3.2 Masas, radios y luminosidades comparadas', '_id': '10ab7087-4b1f-4283-9240-07721a79251b', '_collection_name': 'space'}, page_content='## 3.2 Masas, radios y luminosidades comparadas  \\nEl sistema binario Althéra está formado por dos estrellas de características bien contrastadas: Althéra A , más masiva y luminosa, con 1,28 masas solares, un radio de 1,32 radios solares y una temperatura superficial de 6.350 K, y Althéra B , más pequeña y fría, con 0,82 masas solares, 0,74 radios solares y 4.950 K. Aunque la luminosidad de Althéra A (2,4 veces la del Sol) domina el aporte energético global, la  \\nFigure 1 Atardecer en Althera  \\n<!-- image -->  \\npresencia de Althéra B, con una luminosidad de 0,39 L ☉ , actúa como un regulador térmico que suaviza las variaciones extremas de temperatura en la zona habitable, contribuyendo a su estabilidad a largo plazo.  \\n| Parámetro               | Althéra A   | Althéra B   |\\n|-------------------------|-------------|-------------|\\n| Masa                    | 1,28M ☉     | 0,82M ☉     |\\n| Radio                   | 1,32 R ☉    | 0,74 R ☉    |\\n| Luminosidad             | 2,4 L ☉     | 0,39 L ☉    |\\n| Temperatura superficial | 6.350 K     | 4.950 K     |  \\nLa diferencia de luminosidad significa que, aunque Althéra A domina el aporte energético, Althéra B contribuye de manera significativa a la estabilidad térmica del sistema, suavizando las variaciones extremas en la zona habitable.')], 'answer': 'El sistema Althéra está compuesto por dos estrellas principales: Althéra A y Althéra B.'}\n"
     ]
    }
   ],
   "source": [
    "df_sample = df_eval.sample(5)\n",
    "\n",
    "questions = [{\"question\": x} for x in df_sample[\"Pregunta\"].tolist()]\n",
    "\n",
    "print(\"Questions:\")\n",
    "print(questions)\n",
    "\n",
    "print(\"-\"*30)\n",
    "responses = rag_graph.batch(questions)\n",
    "print(f\"{len(responses)=}\")\n",
    "print(f\"{responses[1]=}\")"
   ]
  },
  {
   "cell_type": "code",
   "execution_count": 114,
   "id": "743f064a",
   "metadata": {},
   "outputs": [
    {
     "data": {
      "text/html": [
       "<div>\n",
       "<style scoped>\n",
       "    .dataframe tbody tr th:only-of-type {\n",
       "        vertical-align: middle;\n",
       "    }\n",
       "\n",
       "    .dataframe tbody tr th {\n",
       "        vertical-align: top;\n",
       "    }\n",
       "\n",
       "    .dataframe thead th {\n",
       "        text-align: right;\n",
       "    }\n",
       "</style>\n",
       "<table border=\"1\" class=\"dataframe\">\n",
       "  <thead>\n",
       "    <tr style=\"text-align: right;\">\n",
       "      <th></th>\n",
       "      <th>user_input</th>\n",
       "      <th>response</th>\n",
       "      <th>reference</th>\n",
       "      <th>retrieved_contexts</th>\n",
       "    </tr>\n",
       "  </thead>\n",
       "  <tbody>\n",
       "    <tr>\n",
       "      <th>23</th>\n",
       "      <td>¿Qué procesos podrían explicar el desequilibri...</td>\n",
       "      <td>Según el contexto proporcionado, el desequilib...</td>\n",
       "      <td>Procesos abióticos complejos, incluida fotólis...</td>\n",
       "      <td>[## Adéndum: Debate científico sobre la habita...</td>\n",
       "    </tr>\n",
       "    <tr>\n",
       "      <th>1</th>\n",
       "      <td>¿Cuántas estrellas tiene el sistema Althéra?</td>\n",
       "      <td>El sistema Althéra está compuesto por dos estr...</td>\n",
       "      <td>Dos</td>\n",
       "      <td>[## Althéra está compuesto por dos estrellas p...</td>\n",
       "    </tr>\n",
       "    <tr>\n",
       "      <th>4</th>\n",
       "      <td>¿Cuál es el periodo orbital mutuo de las dos e...</td>\n",
       "      <td>El periodo orbital mutuo de las dos estrellas ...</td>\n",
       "      <td>83 días</td>\n",
       "      <td>[## Althéra está compuesto por dos estrellas p...</td>\n",
       "    </tr>\n",
       "    <tr>\n",
       "      <th>15</th>\n",
       "      <td>¿Qué luna tiene órbita retrógrada e inestable?</td>\n",
       "      <td>La luna que tiene órbita retrógrada e inestabl...</td>\n",
       "      <td>Calther</td>\n",
       "      <td>[## Luna destacada:  \\n- Calther: Satélite cap...</td>\n",
       "    </tr>\n",
       "    <tr>\n",
       "      <th>9</th>\n",
       "      <td>¿Qué cinturón de asteroides se encuentra entre...</td>\n",
       "      <td>El cinturón de asteroides que se encuentra jus...</td>\n",
       "      <td>Cinturón de Arges</td>\n",
       "      <td>[## 4.3 Cinturones de asteroides y discos de e...</td>\n",
       "    </tr>\n",
       "  </tbody>\n",
       "</table>\n",
       "</div>"
      ],
      "text/plain": [
       "                                           user_input  \\\n",
       "23  ¿Qué procesos podrían explicar el desequilibri...   \n",
       "1        ¿Cuántas estrellas tiene el sistema Althéra?   \n",
       "4   ¿Cuál es el periodo orbital mutuo de las dos e...   \n",
       "15     ¿Qué luna tiene órbita retrógrada e inestable?   \n",
       "9   ¿Qué cinturón de asteroides se encuentra entre...   \n",
       "\n",
       "                                             response  \\\n",
       "23  Según el contexto proporcionado, el desequilib...   \n",
       "1   El sistema Althéra está compuesto por dos estr...   \n",
       "4   El periodo orbital mutuo de las dos estrellas ...   \n",
       "15  La luna que tiene órbita retrógrada e inestabl...   \n",
       "9   El cinturón de asteroides que se encuentra jus...   \n",
       "\n",
       "                                            reference  \\\n",
       "23  Procesos abióticos complejos, incluida fotólis...   \n",
       "1                                                 Dos   \n",
       "4                                             83 días   \n",
       "15                                            Calther   \n",
       "9                                   Cinturón de Arges   \n",
       "\n",
       "                                   retrieved_contexts  \n",
       "23  [## Adéndum: Debate científico sobre la habita...  \n",
       "1   [## Althéra está compuesto por dos estrellas p...  \n",
       "4   [## Althéra está compuesto por dos estrellas p...  \n",
       "15  [## Luna destacada:  \\n- Calther: Satélite cap...  \n",
       "9   [## 4.3 Cinturones de asteroides y discos de e...  "
      ]
     },
     "execution_count": 114,
     "metadata": {},
     "output_type": "execute_result"
    }
   ],
   "source": [
    "retrieved_contexts = [[x.page_content for x in docs['context']] for docs in responses]\n",
    "answer = [x['answer'] for x in responses]\n",
    "\n",
    "df_sample_wans = df_sample.assign(\n",
    "    response=answer,\n",
    "    retrieved_contexts=retrieved_contexts\n",
    ").rename(columns={\n",
    "        \"Pregunta\": \"user_input\",\n",
    "        \"Respuesta\": \"reference\",\n",
    "    }\n",
    ")[[\"user_input\", \"response\", \"reference\", \"retrieved_contexts\"]]\n",
    "\n",
    "\n",
    "df_sample_wans\n",
    "\n"
   ]
  },
  {
   "cell_type": "code",
   "execution_count": 115,
   "id": "ba544ab3",
   "metadata": {},
   "outputs": [
    {
     "name": "stderr",
     "output_type": "stream",
     "text": [
      "Evaluating: 100%|██████████| 10/10 [00:02<00:00,  4.07it/s]\n"
     ]
    },
    {
     "data": {
      "text/plain": [
       "{'nv_accuracy': 0.9000, 'context_recall': 1.0000}"
      ]
     },
     "execution_count": 115,
     "metadata": {},
     "output_type": "execute_result"
    }
   ],
   "source": [
    "\n",
    "\n",
    "ds_ragas = EvaluationDataset.from_pandas(\n",
    "    df_sample_wans\n",
    ")\n",
    "\n",
    "metrics = [\n",
    "    AnswerAccuracy(llm=evaluator_llm), \n",
    "    LLMContextRecall(llm=evaluator_llm), \n",
    "\n",
    "]\n",
    "results = evaluate(dataset=ds_ragas, metrics=metrics)\n",
    "\n",
    "results"
   ]
  },
  {
   "cell_type": "code",
   "execution_count": 116,
   "id": "0c692e34",
   "metadata": {},
   "outputs": [
    {
     "data": {
      "text/html": [
       "<div>\n",
       "<style scoped>\n",
       "    .dataframe tbody tr th:only-of-type {\n",
       "        vertical-align: middle;\n",
       "    }\n",
       "\n",
       "    .dataframe tbody tr th {\n",
       "        vertical-align: top;\n",
       "    }\n",
       "\n",
       "    .dataframe thead th {\n",
       "        text-align: right;\n",
       "    }\n",
       "</style>\n",
       "<table border=\"1\" class=\"dataframe\">\n",
       "  <thead>\n",
       "    <tr style=\"text-align: right;\">\n",
       "      <th></th>\n",
       "      <th>user_input</th>\n",
       "      <th>retrieved_contexts</th>\n",
       "      <th>response</th>\n",
       "      <th>reference</th>\n",
       "      <th>nv_accuracy</th>\n",
       "      <th>context_recall</th>\n",
       "    </tr>\n",
       "  </thead>\n",
       "  <tbody>\n",
       "    <tr>\n",
       "      <th>0</th>\n",
       "      <td>¿Qué procesos podrían explicar el desequilibri...</td>\n",
       "      <td>[## Adéndum: Debate científico sobre la habita...</td>\n",
       "      <td>Según el contexto proporcionado, el desequilib...</td>\n",
       "      <td>Procesos abióticos complejos, incluida fotólis...</td>\n",
       "      <td>1.0</td>\n",
       "      <td>1.0</td>\n",
       "    </tr>\n",
       "    <tr>\n",
       "      <th>1</th>\n",
       "      <td>¿Cuántas estrellas tiene el sistema Althéra?</td>\n",
       "      <td>[## Althéra está compuesto por dos estrellas p...</td>\n",
       "      <td>El sistema Althéra está compuesto por dos estr...</td>\n",
       "      <td>Dos</td>\n",
       "      <td>1.0</td>\n",
       "      <td>1.0</td>\n",
       "    </tr>\n",
       "    <tr>\n",
       "      <th>2</th>\n",
       "      <td>¿Cuál es el periodo orbital mutuo de las dos e...</td>\n",
       "      <td>[## Althéra está compuesto por dos estrellas p...</td>\n",
       "      <td>El periodo orbital mutuo de las dos estrellas ...</td>\n",
       "      <td>83 días</td>\n",
       "      <td>1.0</td>\n",
       "      <td>1.0</td>\n",
       "    </tr>\n",
       "    <tr>\n",
       "      <th>3</th>\n",
       "      <td>¿Qué luna tiene órbita retrógrada e inestable?</td>\n",
       "      <td>[## Luna destacada:  \\n- Calther: Satélite cap...</td>\n",
       "      <td>La luna que tiene órbita retrógrada e inestabl...</td>\n",
       "      <td>Calther</td>\n",
       "      <td>0.5</td>\n",
       "      <td>1.0</td>\n",
       "    </tr>\n",
       "    <tr>\n",
       "      <th>4</th>\n",
       "      <td>¿Qué cinturón de asteroides se encuentra entre...</td>\n",
       "      <td>[## 4.3 Cinturones de asteroides y discos de e...</td>\n",
       "      <td>El cinturón de asteroides que se encuentra jus...</td>\n",
       "      <td>Cinturón de Arges</td>\n",
       "      <td>1.0</td>\n",
       "      <td>1.0</td>\n",
       "    </tr>\n",
       "  </tbody>\n",
       "</table>\n",
       "</div>"
      ],
      "text/plain": [
       "                                          user_input  \\\n",
       "0  ¿Qué procesos podrían explicar el desequilibri...   \n",
       "1       ¿Cuántas estrellas tiene el sistema Althéra?   \n",
       "2  ¿Cuál es el periodo orbital mutuo de las dos e...   \n",
       "3     ¿Qué luna tiene órbita retrógrada e inestable?   \n",
       "4  ¿Qué cinturón de asteroides se encuentra entre...   \n",
       "\n",
       "                                  retrieved_contexts  \\\n",
       "0  [## Adéndum: Debate científico sobre la habita...   \n",
       "1  [## Althéra está compuesto por dos estrellas p...   \n",
       "2  [## Althéra está compuesto por dos estrellas p...   \n",
       "3  [## Luna destacada:  \\n- Calther: Satélite cap...   \n",
       "4  [## 4.3 Cinturones de asteroides y discos de e...   \n",
       "\n",
       "                                            response  \\\n",
       "0  Según el contexto proporcionado, el desequilib...   \n",
       "1  El sistema Althéra está compuesto por dos estr...   \n",
       "2  El periodo orbital mutuo de las dos estrellas ...   \n",
       "3  La luna que tiene órbita retrógrada e inestabl...   \n",
       "4  El cinturón de asteroides que se encuentra jus...   \n",
       "\n",
       "                                           reference  nv_accuracy  \\\n",
       "0  Procesos abióticos complejos, incluida fotólis...          1.0   \n",
       "1                                                Dos          1.0   \n",
       "2                                            83 días          1.0   \n",
       "3                                            Calther          0.5   \n",
       "4                                  Cinturón de Arges          1.0   \n",
       "\n",
       "   context_recall  \n",
       "0             1.0  \n",
       "1             1.0  \n",
       "2             1.0  \n",
       "3             1.0  \n",
       "4             1.0  "
      ]
     },
     "execution_count": 116,
     "metadata": {},
     "output_type": "execute_result"
    }
   ],
   "source": [
    "results.to_pandas()"
   ]
  },
  {
   "cell_type": "code",
   "execution_count": 117,
   "id": "5e654735",
   "metadata": {},
   "outputs": [],
   "source": [
    "df_results = results.to_pandas()\n",
    "\n",
    "df_results.to_csv(utils.path_data_processed / \"dataset_eval_k3.csv\")"
   ]
  },
  {
   "cell_type": "markdown",
   "id": "6865bdaa",
   "metadata": {},
   "source": [
    "**Exercise:**\n",
    "\n",
    "1. Add tracing\n",
    "2. Investigate how to generate synthetic Qs"
   ]
  },
  {
   "cell_type": "markdown",
   "id": "85ea0046",
   "metadata": {},
   "source": []
  }
 ],
 "metadata": {
  "kernelspec": {
   "display_name": "dslab-rag-e2e",
   "language": "python",
   "name": "python3"
  },
  "language_info": {
   "codemirror_mode": {
    "name": "ipython",
    "version": 3
   },
   "file_extension": ".py",
   "mimetype": "text/x-python",
   "name": "python",
   "nbconvert_exporter": "python",
   "pygments_lexer": "ipython3",
   "version": "3.10.9"
  }
 },
 "nbformat": 4,
 "nbformat_minor": 5
}
