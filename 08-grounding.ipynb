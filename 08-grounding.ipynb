{
 "cells": [
  {
   "cell_type": "markdown",
   "id": "3a80179e",
   "metadata": {},
   "source": [
    "# Grounding\n",
    "\n",
    "In order to provide truthful and transperent answers we may desire to:\n",
    "+ Filter specific pieces of  data used in generation\n",
    "* Reference the sources of theses pieces of data\n",
    "* Among filtered pieces of data, select exaclty the facts lead the generation\n",
    "\n",
    "The whole process is called grounding and is an advanced technique that will impact in RAGs performance and UX\n",
    "\n",
    "Pros:\n",
    "* Adds a reraking effect as relevant chunks are filterd\n",
    "* Add a CoT effect as the LLM has to reason to find relevant pieces of data before generation\n",
    "* Add trasnparency and build trust to the user\n",
    "\n",
    "Cons\n",
    "* Increased token consumption and latency\n",
    "* Increased complexity of the RAG\n",
    "\n",
    "![grounding](docs/grounding.png)\n",
    "\n",
    "\n"
   ]
  },
  {
   "cell_type": "code",
   "execution_count": 132,
   "id": "048ab727",
   "metadata": {},
   "outputs": [
    {
     "name": "stdout",
     "output_type": "stream",
     "text": [
      "The autoreload extension is already loaded. To reload it, use:\n",
      "  %reload_ext autoreload\n"
     ]
    }
   ],
   "source": [
    "%load_ext autoreload\n",
    "%autoreload 2"
   ]
  },
  {
   "cell_type": "code",
   "execution_count": 133,
   "id": "bba54eca",
   "metadata": {},
   "outputs": [],
   "source": [
    "import os\n",
    "from typing import List, TypedDict\n",
    "from dotenv import load_dotenv\n",
    "\n",
    "from langchain.schema import Document\n",
    "from langchain_openai import OpenAIEmbeddings, ChatOpenAI\n",
    "from langchain_qdrant import QdrantVectorStore\n",
    "from langchain_core.prompts import ChatPromptTemplate\n",
    "\n",
    "from src import utils, conf"
   ]
  },
  {
   "cell_type": "markdown",
   "id": "cc10d594",
   "metadata": {},
   "source": [
    "# Params"
   ]
  },
  {
   "cell_type": "code",
   "execution_count": 134,
   "id": "b8eb5797",
   "metadata": {},
   "outputs": [],
   "source": [
    "conf_settings = conf.load(file=\"settings.yaml\")\n",
    "conf_infra = conf.load(file=\"infra.yaml\")    \n",
    "\n",
    "LLM_WORKHORSE = conf_settings.llm_workhorse\n",
    "LLM_FLAGSHIP = conf_settings.llm_flagship\n",
    "EMBEDDINGS = conf_settings.embeddings\n",
    "VDB_URL = conf_infra.vdb_url\n",
    "INDEX_NAME = conf_settings.vdb_index\n"
   ]
  },
  {
   "cell_type": "markdown",
   "id": "1c2cf4c6",
   "metadata": {},
   "source": [
    "# Environment Variables"
   ]
  },
  {
   "cell_type": "code",
   "execution_count": 135,
   "id": "d76475a0",
   "metadata": {},
   "outputs": [],
   "source": [
    "load_dotenv()\n",
    "OPENAI_API_KEY = os.getenv(\"OPENAI_API_KEY\")\n",
    "QDRANT_API_KEY = os.getenv(\"QDRANT_API_KEY\")"
   ]
  },
  {
   "cell_type": "markdown",
   "id": "6077a74e",
   "metadata": {},
   "source": [
    "# Clients"
   ]
  },
  {
   "cell_type": "code",
   "execution_count": 136,
   "id": "92ad2b3a",
   "metadata": {},
   "outputs": [
    {
     "name": "stderr",
     "output_type": "stream",
     "text": [
      "C:\\Users\\manuelalberto.romero\\AppData\\Local\\Temp\\ipykernel_39300\\4146529736.py:6: RuntimeWarning: coroutine 'VectorStore.asimilarity_search' was never awaited\n",
      "  _ = llm.invoke(\"tell me a joke about devops\")\n",
      "RuntimeWarning: Enable tracemalloc to get the object allocation traceback\n"
     ]
    }
   ],
   "source": [
    "llm = ChatOpenAI(\n",
    "    api_key=OPENAI_API_KEY,\n",
    "    model=LLM_WORKHORSE,\n",
    "    )\n",
    "try:\n",
    "    _ = llm.invoke(\"tell me a joke about devops\")\n",
    "except Exception as err:\n",
    "    print(err)\n",
    "    \n",
    "embeddings = OpenAIEmbeddings(api_key=OPENAI_API_KEY, model=EMBEDDINGS)\n",
    "try:\n",
    "    _ = embeddings.embed_query(\"healthcheck\")\n",
    "\n",
    "except Exception as err:\n",
    "    print(err)\n",
    "\n",
    "\n",
    "\n",
    "vector_store = QdrantVectorStore.from_existing_collection(\n",
    "    embedding=embeddings,\n",
    "    collection_name=INDEX_NAME,\n",
    "    url=VDB_URL,\n",
    "    api_key=QDRANT_API_KEY,\n",
    ")\n",
    "try:\n",
    "    _ = vector_store.asimilarity_search(\"healthcheck\")\n",
    "except Exception as err:\n",
    "    print(err)\n"
   ]
  },
  {
   "cell_type": "code",
   "execution_count": 137,
   "id": "00a8bfdf",
   "metadata": {},
   "outputs": [],
   "source": [
    "llm = ChatOpenAI(\n",
    "    api_key=OPENAI_API_KEY,\n",
    "    model=LLM_WORKHORSE,\n",
    "    )\n",
    "\n"
   ]
  },
  {
   "cell_type": "markdown",
   "id": "0e968c21",
   "metadata": {},
   "source": [
    "# Context Example"
   ]
  },
  {
   "cell_type": "code",
   "execution_count": 138,
   "id": "c2c66bf6",
   "metadata": {},
   "outputs": [],
   "source": [
    "doc1 = Document(\n",
    "    page_content=\"\"\"\n",
    "## 1.1 Primeras observaciones y sospechas iniciales\n",
    "\n",
    "El sistema binario Althéra ( HD 4579 AB ) fue detectado por primera vez en el año 2032 durante una campaña de observación del Observatorio Espacial James Webb , dirigida por la astrofísica chilena Dra. Mariela Estay . La misión principal era estudiar la composición atmosférica de exoplanetas candidatos a la habitabilidad, pero un patrón anómalo en el flujo luminoso proveniente de la constelación de Orión llamó la atención del equipo. El análisis de curvas de luz reveló oscilaciones periódicas dobles, un indicio claro de la presencia de dos estrellas en órbita mutua y varios cuerpos orbitando de forma circumbinaria.\n",
    "\"\"\",\n",
    "    metadata={\"source\": \"Divulgacion-Planetaria\"}\n",
    ")\n",
    "\n",
    "\n",
    "doc2 = Document(\n",
    "    page_content=\"\"\"\n",
    "Oumuamua se convirtió en 2017 en el primer objeto interestelar conocido que pasaba por el sistema solar. En un primer momento no mostró ninguna actividad cometaria, aunque, luego, analizando los cambios de su trayectoria, se comprobó que había expulsado algo de material. Pese a todo, la naturaleza de ‘Oumuamua ha sido motivo de controversia desde su descubrimiento. Lo más lógico es que los cuerpos interestelares como 1I/‘Oumuamua se hayan formado lejos del pozo gravitatorio de sus estrellas, lo que facilita que escapen al espacio interestelar.\n",
    "\"\"\",\n",
    "    metadata={\"source\": \"Blog Naukas\"}\n",
    ")\n",
    "\n",
    "doc3 = Document(\n",
    "    page_content=\"\"\"\n",
    "No obstante, desde 2019 no habíamos vuelto a detectar ningún otro visitante interestelar y no teníamos más objetos que comparar. Afortunadamente, la espera ha terminado y ya conocemos un tercer objeto interestelar: 3I/ATLAS. Descubierto el 1 de julio por un telescopio robótico de la red ATLAS (Asteroid Terrestrial-impact Last Alert System) situado en Río Hurtado (Chile), se denominó originalmente A11pl3Z, siendo bautizado 3I/ATLAS o C/2025 N1 (ATLAS) hace tan solo dos días.\n",
    "\"\"\",\n",
    "    metadata={\"source\": \"Blog Nukas\"}\n",
    ")\n",
    "\n",
    "contexts = [doc1, doc2, doc3]\n",
    "\n",
    "\n"
   ]
  },
  {
   "cell_type": "markdown",
   "id": "36552259",
   "metadata": {},
   "source": [
    "# Cite documents"
   ]
  },
  {
   "cell_type": "code",
   "execution_count": 139,
   "id": "0c251434",
   "metadata": {},
   "outputs": [],
   "source": [
    "from pydantic import BaseModel, Field\n",
    "\n",
    "\n",
    "\n",
    "\n",
    "class CitedAnswer(BaseModel):\n",
    "    \"\"\"Responde la pregunta del usuario basado solo en el `contexto` dado y cita las fuentes empleadas en la respuesta\"\"\"\n",
    "\n",
    "    answer: str = Field(\n",
    "        ...,\n",
    "        description=\"Respuesta concisa y veraz a la pregunta del usuario, basada solo en el `contexto` proporcionado.\",\n",
    "    )\n",
    "    citations: List[int] = Field(\n",
    "        ...,\n",
    "        description=\"Los Id como enteros del `contexto` ESPECIFICO  empleado en la respuesta.\",\n",
    "    )\n",
    "\n",
    "prompt_template = \"\"\"Responde basandote unicamente en el `contexto` proporcionado a continuación :\n",
    "```\n",
    "{context}\n",
    "```\n",
    "pregunta: {question}\n",
    "\"\"\"\n",
    "prompt = ChatPromptTemplate.from_template(prompt_template)\n",
    "\n",
    "\n",
    "llm_structured = llm.with_structured_output(CitedAnswer)\n",
    "\n",
    "\n",
    "\n",
    "\n",
    "question= \"El asteroide Ouamua puede venir del sistema Althera?\"\n",
    "chain_grounding = prompt | llm_structured\n",
    "resp = chain_grounding.invoke({\"question\": question, \"context\": contexts})\n",
    "\n"
   ]
  },
  {
   "cell_type": "code",
   "execution_count": 140,
   "id": "b08854aa",
   "metadata": {},
   "outputs": [
    {
     "data": {
      "text/plain": [
       "\"No hay información en el contexto proporcionado que establezca una relación entre el asteroide interestelar 'Oumuamua y el sistema binario Althéra. 'Oumuamua es descrito como un objeto interestelar que probablemente se formó lejos del pozo gravitatorio de sus estrellas y escapó al espacio interestelar, pero no se indica que provenga del sistema Althéra.\""
      ]
     },
     "execution_count": 140,
     "metadata": {},
     "output_type": "execute_result"
    }
   ],
   "source": [
    "resp.answer"
   ]
  },
  {
   "cell_type": "code",
   "execution_count": 141,
   "id": "9251eafc",
   "metadata": {},
   "outputs": [
    {
     "data": {
      "text/plain": [
       "[0, 1]"
      ]
     },
     "execution_count": 141,
     "metadata": {},
     "output_type": "execute_result"
    }
   ],
   "source": [
    "resp.citations"
   ]
  },
  {
   "cell_type": "markdown",
   "id": "6e0952b0",
   "metadata": {},
   "source": [
    "# Cite snippets"
   ]
  },
  {
   "cell_type": "code",
   "execution_count": 142,
   "id": "c1f2293c",
   "metadata": {},
   "outputs": [],
   "source": [
    "class Citation(BaseModel):\n",
    "    \"\"\"Cita que recoge la `fuente` y el literal (VERBATIM) sobre la que construye una respuesta\"\"\"\n",
    "    source_id: int = Field(\n",
    "        ...,\n",
    "        description=\"Los Id como enteros del `contexto` ESPECIFICO  empleado en la respuesta.\",\n",
    "    )\n",
    "    verbatim: str = Field(\n",
    "        ...,\n",
    "        description=\"La `cita` textual (VERBATIM) relevante de la fuente específica sobre la que se construye la respuesta, recogida de la manera lo más breve posible y ciñéndose a hechos muy concretos y altamente relevantes\",\n",
    "    )\n",
    "    \n",
    "\n",
    "\n",
    "class QuotedAnswer(BaseModel):\n",
    "    \"\"\"Responde la pregunta del usuario basado solo en el `contexto` dado y cita las fuentes empleadas en la respuesta\"\"\"\n",
    "\n",
    "    answer: str = Field(\n",
    "        ...,\n",
    "        description=\"Respuesta concisa y veraz a la pregunta del usuario, basada solo en el `contexto` proporcionado y más concretamente en las `citas` relevantes identificadas\",\n",
    "    )\n",
    "    citations: List[Citation] = Field(\n",
    "        ..., description=\"Citation de los `contextos` sobre las que se apoya la respuesta, mencionando el Id de la fuente y VERBATIM\"\n",
    "    )\n",
    "\n",
    "\n",
    "chain_grounding_quotes = prompt | llm.with_structured_output(QuotedAnswer)\n",
    "resp = chain_grounding_quotes.invoke({\"question\": question, \"context\": contexts})"
   ]
  },
  {
   "cell_type": "code",
   "execution_count": 143,
   "id": "b548bbd3",
   "metadata": {},
   "outputs": [
    {
     "data": {
      "text/plain": [
       "\"No se proporciona información en el contexto que relacione directamente al asteroide interestelar 1I/'Oumuamua con el sistema binario Althéra (HD 4579 AB). 'Oumuamua es descrito como un objeto interestelar, pero no se menciona su origen específico, y Althéra fue detectado en un estudio diferente sin conexión explícita con 'Oumuamua.\""
      ]
     },
     "execution_count": 143,
     "metadata": {},
     "output_type": "execute_result"
    }
   ],
   "source": [
    "resp.answer"
   ]
  },
  {
   "cell_type": "code",
   "execution_count": 144,
   "id": "4799f79b",
   "metadata": {},
   "outputs": [
    {
     "data": {
      "image/png": "[encoded data removed]",
      "text/plain": [
       "<langgraph.graph.state.CompiledStateGraph object at 0x0000021761E65540>"
      ]
     },
     "execution_count": 144,
     "metadata": {},
     "output_type": "execute_result"
    }
   ],
   "source": [
    "from langgraph.graph import START, StateGraph\n",
    "\n",
    "class State(TypedDict):\n",
    "    question: str\n",
    "    context: List[Document]\n",
    "    answer: QuotedAnswer\n",
    "\n",
    "def format_docs(docs):\n",
    "    lst_context = []\n",
    "\n",
    "\n",
    "    for i, doc in enumerate(docs):\n",
    "\n",
    "        assert isinstance(doc, Document)\n",
    "        content = doc.page_content\n",
    "        source = doc.metadata['source']\n",
    "        lst_context.append(\n",
    "            f\"contexto {i}:\\n{content}\\nfuente: {source}\"\n",
    "        )\n",
    "    return \"\\n\\n\".join(lst_context)\n",
    "\n",
    "def retrieve(state: State):\n",
    "    return {\"context\": contexts}\n",
    "\n",
    "def grounder(state: State):\n",
    "\n",
    "    docs_content = format_docs(state[\"context\"])\n",
    "    structured_llm = llm.with_structured_output(QuotedAnswer)\n",
    "\n",
    "    messages = prompt.invoke({\"question\": state[\"question\"], \"context\": docs_content})\n",
    "    response = structured_llm.invoke(messages)  # QuotedAnswer\n",
    "    return {\"answer\": response}\n",
    "\n",
    "g = StateGraph(State).add_sequence([retrieve, grounder])\n",
    "g.add_edge(START, \"retrieve\")\n",
    "rag = g.compile()\n",
    "rag\n"
   ]
  },
  {
   "cell_type": "code",
   "execution_count": 145,
   "id": "d1a18240",
   "metadata": {},
   "outputs": [
    {
     "data": {
      "text/plain": [
       "{'question': 'El asteroide Ouamua puede venir del sistema Althera?',\n",
       " 'context': [Document(metadata={'source': 'Divulgacion-Planetaria'}, page_content='\\n## 1.1 Primeras observaciones y sospechas iniciales\\n\\nEl sistema binario Althéra ( HD 4579 AB ) fue detectado por primera vez en el año 2032 durante una campaña de observación del Observatorio Espacial James Webb , dirigida por la astrofísica chilena Dra. Mariela Estay . La misión principal era estudiar la composición atmosférica de exoplanetas candidatos a la habitabilidad, pero un patrón anómalo en el flujo luminoso proveniente de la constelación de Orión llamó la atención del equipo. El análisis de curvas de luz reveló oscilaciones periódicas dobles, un indicio claro de la presencia de dos estrellas en órbita mutua y varios cuerpos orbitando de forma circumbinaria.\\n'),\n",
       "  Document(metadata={'source': 'Blog Naukas'}, page_content='\\nOumuamua se convirtió en 2017 en el primer objeto interestelar conocido que pasaba por el sistema solar. En un primer momento no mostró ninguna actividad cometaria, aunque, luego, analizando los cambios de su trayectoria, se comprobó que había expulsado algo de material. Pese a todo, la naturaleza de ‘Oumuamua ha sido motivo de controversia desde su descubrimiento. Lo más lógico es que los cuerpos interestelares como 1I/‘Oumuamua se hayan formado lejos del pozo gravitatorio de sus estrellas, lo que facilita que escapen al espacio interestelar.\\n'),\n",
       "  Document(metadata={'source': 'Blog Nukas'}, page_content='\\nNo obstante, desde 2019 no habíamos vuelto a detectar ningún otro visitante interestelar y no teníamos más objetos que comparar. Afortunadamente, la espera ha terminado y ya conocemos un tercer objeto interestelar: 3I/ATLAS. Descubierto el 1 de julio por un telescopio robótico de la red ATLAS (Asteroid Terrestrial-impact Last Alert System) situado en Río Hurtado (Chile), se denominó originalmente A11pl3Z, siendo bautizado 3I/ATLAS o C/2025 N1 (ATLAS) hace tan solo dos días.\\n')],\n",
       " 'answer': QuotedAnswer(answer=\"No hay evidencia en el contexto proporcionado que indique que el asteroide 'Oumuamua provenga del sistema binario Althéra. 'Oumuamua es un objeto interestelar que apareció en nuestro sistema solar en 2017 y se considera que estos cuerpos se forman lejos de sus estrellas, lo que facilita su escape al espacio interestelar. Por otro lado, Althéra es un sistema binario detectado en 2032 y no se menciona relación alguna con 'Oumuamua.\", citations=[Citation(source_id=1, verbatim='Oumuamua se convirti\\x00 en 2017 en el primer objeto interestelar conocido que pasaba por el sistema solar. En un primer momento no mostr\\x00 ninguna actividad cometaria, aunque, luego, analizando los cambios de su trayectoria, se comprob\\x00 que hab\\x00 expulsado algo de material. Pese a todo, la naturaleza de \\x18Oumuamua ha sido motivo de controversia desde su descubrimiento. Lo m\\x00s l\\x00gico es que los cuerpos interestelares como 1I/\\x18Oumuamua se hayan formado lejos del pozo gravitatorio de sus estrellas, lo que facilita que escapen al espacio interestelar.'), Citation(source_id=0, verbatim='El sistema binario Alth\\x00ra ( HD 4579 AB ) fue detectado por primera vez en el a\\x00o 2032 durante una campa\\x00a de observaci\\x00n del Observatorio Espacial James Webb , dirigida por la astrof\\x00sica chilena Dra. Mariela Estay . La misi\\x00n principal era estudiar la composici\\x00n atmosf\\x00rica de exoplanetas candidatos a la habitabilidad, pero un patr\\x00n an\\x00malo en el flujo luminoso proveniente de la constelaci\\x00n de Ori\\x00n llam\\x00 la atenci\\x00n del equipo.')])}"
      ]
     },
     "execution_count": 145,
     "metadata": {},
     "output_type": "execute_result"
    }
   ],
   "source": [
    "resp = rag.invoke({\"question\": question})\n",
    "\n",
    "resp"
   ]
  },
  {
   "cell_type": "code",
   "execution_count": 146,
   "id": "6069da7f",
   "metadata": {},
   "outputs": [
    {
     "name": "stdout",
     "output_type": "stream",
     "text": [
      "Answer: No hay evidencia en el contexto proporcionado que indique que el asteroide 'Oumuamua provenga del sistema binario Althéra. 'Oumuamua es un objeto interestelar que apareció en nuestro sistema solar en 2017 y se considera que estos cuerpos se forman lejos de sus estrellas, lo que facilita su escape al espacio interestelar. Por otro lado, Althéra es un sistema binario detectado en 2032 y no se menciona relación alguna con 'Oumuamua.\n",
      "------------------------------\n",
      "source: Blog Naukas\n",
      "cite: Oumuamua se convirti\u0000 en 2017 en el primer objeto interestelar conocido que pasaba por el sistema solar. En un primer momento no mostr\u0000 ninguna actividad cometaria, aunque, luego, analizando los cambios de su trayectoria, se comprob\u0000 que hab\u0000 expulsado algo de material. Pese a todo, la naturaleza de \u0018Oumuamua ha sido motivo de controversia desde su descubrimiento. Lo m\u0000s l\u0000gico es que los cuerpos interestelares como 1I/\u0018Oumuamua se hayan formado lejos del pozo gravitatorio de sus estrellas, lo que facilita que escapen al espacio interestelar.\n",
      "------------------------------\n",
      "source: Divulgacion-Planetaria\n",
      "cite: El sistema binario Alth\u0000ra ( HD 4579 AB ) fue detectado por primera vez en el a\u0000o 2032 durante una campa\u0000a de observaci\u0000n del Observatorio Espacial James Webb , dirigida por la astrof\u0000sica chilena Dra. Mariela Estay . La misi\u0000n principal era estudiar la composici\u0000n atmosf\u0000rica de exoplanetas candidatos a la habitabilidad, pero un patr\u0000n an\u0000malo en el flujo luminoso proveniente de la constelaci\u0000n de Ori\u0000n llam\u0000 la atenci\u0000n del equipo.\n"
     ]
    }
   ],
   "source": [
    "print(f\"Answer: {resp['answer'].answer}\")\n",
    "\n",
    "for cite in resp['answer'].citations:\n",
    "    source_id = cite.source_id\n",
    "    source_name = resp['context'][source_id].metadata['source']\n",
    "    print(\"-\"*30)\n",
    "    print(f\"source: {source_name}\")\n",
    "    print(f\"cite: {cite.verbatim}\")"
   ]
  },
  {
   "cell_type": "code",
   "execution_count": null,
   "id": "33241cce",
   "metadata": {},
   "outputs": [],
   "source": []
  }
 ],
 "metadata": {
  "kernelspec": {
   "display_name": "dslab-rag-e2e",
   "language": "python",
   "name": "python3"
  },
  "language_info": {
   "codemirror_mode": {
    "name": "ipython",
    "version": 3
   },
   "file_extension": ".py",
   "mimetype": "text/x-python",
   "name": "python",
   "nbconvert_exporter": "python",
   "pygments_lexer": "ipython3",
   "version": "3.10.9"
  }
 },
 "nbformat": 4,
 "nbformat_minor": 5
}
