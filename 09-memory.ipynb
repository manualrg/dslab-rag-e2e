{
 "cells": [
  {
   "cell_type": "markdown",
   "id": "3a80179e",
   "metadata": {},
   "source": [
    "# Memory and Query repharsing\n",
    "\n",
    "To provide a smooth conversational experience, it is necessary remember key information  \n",
    "To do so, several strategies are followed, the main ones:\n",
    "* Maintain a diciontary of extracted key data, like main concepts, and so on\n",
    "* Rephrase incoming message with proxy chat history so it can be synthetized a new query version\n",
    "\n"
   ]
  },
  {
   "cell_type": "code",
   "execution_count": 2,
   "id": "048ab727",
   "metadata": {},
   "outputs": [],
   "source": [
    "%load_ext autoreload\n",
    "%autoreload 2"
   ]
  },
  {
   "cell_type": "code",
   "execution_count": 1,
   "id": "bba54eca",
   "metadata": {},
   "outputs": [
    {
     "name": "stderr",
     "output_type": "stream",
     "text": [
      "c:\\Users\\manuelalberto.romero\\Documents\\repos\\dslabs\\dslab-rag-e2e\\.venv\\lib\\site-packages\\tqdm\\auto.py:21: TqdmWarning: IProgress not found. Please update jupyter and ipywidgets. See https://ipywidgets.readthedocs.io/en/stable/user_install.html\n",
      "  from .autonotebook import tqdm as notebook_tqdm\n"
     ]
    }
   ],
   "source": [
    "import os\n",
    "from typing import List, TypedDict\n",
    "from dotenv import load_dotenv\n",
    "\n",
    "from langchain.schema import Document\n",
    "from langchain_openai import OpenAIEmbeddings, ChatOpenAI\n",
    "from langchain_qdrant import QdrantVectorStore\n",
    "from langchain_core.prompts import ChatPromptTemplate\n",
    "\n",
    "from src import utils, conf"
   ]
  },
  {
   "cell_type": "markdown",
   "id": "cc10d594",
   "metadata": {},
   "source": [
    "# Params"
   ]
  },
  {
   "cell_type": "code",
   "execution_count": 3,
   "id": "b8eb5797",
   "metadata": {},
   "outputs": [],
   "source": [
    "conf_settings = conf.load(file=\"settings.yaml\")\n",
    "conf_infra = conf.load(file=\"infra.yaml\")    \n",
    "\n",
    "LLM_WORKHORSE = conf_settings.llm_workhorse\n",
    "LLM_FLAGSHIP = conf_settings.llm_flagship\n",
    "EMBEDDINGS = conf_settings.embeddings\n",
    "VDB_URL = conf_infra.vdb_url\n",
    "INDEX_NAME = conf_settings.vdb_index\n"
   ]
  },
  {
   "cell_type": "markdown",
   "id": "1c2cf4c6",
   "metadata": {},
   "source": [
    "# Environment Variables"
   ]
  },
  {
   "cell_type": "code",
   "execution_count": 4,
   "id": "d76475a0",
   "metadata": {},
   "outputs": [],
   "source": [
    "load_dotenv()\n",
    "OPENAI_API_KEY = os.getenv(\"OPENAI_API_KEY\")\n",
    "QDRANT_API_KEY = os.getenv(\"QDRANT_API_KEY\")"
   ]
  },
  {
   "cell_type": "markdown",
   "id": "6077a74e",
   "metadata": {},
   "source": [
    "# Clients"
   ]
  },
  {
   "cell_type": "code",
   "execution_count": 5,
   "id": "92ad2b3a",
   "metadata": {},
   "outputs": [],
   "source": [
    "llm = ChatOpenAI(\n",
    "    api_key=OPENAI_API_KEY,\n",
    "    model=LLM_WORKHORSE,\n",
    "    )\n",
    "try:\n",
    "    _ = llm.invoke(\"tell me a joke about devops\")\n",
    "except Exception as err:\n",
    "    print(err)\n",
    "    \n",
    "embeddings = OpenAIEmbeddings(api_key=OPENAI_API_KEY, model=EMBEDDINGS)\n",
    "try:\n",
    "    _ = embeddings.embed_query(\"healthcheck\")\n",
    "\n",
    "except Exception as err:\n",
    "    print(err)\n",
    "\n",
    "\n",
    "\n",
    "vector_store = QdrantVectorStore.from_existing_collection(\n",
    "    embedding=embeddings,\n",
    "    collection_name=INDEX_NAME,\n",
    "    url=VDB_URL,\n",
    "    api_key=QDRANT_API_KEY,\n",
    ")\n",
    "try:\n",
    "    _ = vector_store.asimilarity_search(\"healthcheck\")\n",
    "except Exception as err:\n",
    "    print(err)\n"
   ]
  },
  {
   "cell_type": "code",
   "execution_count": 6,
   "id": "00a8bfdf",
   "metadata": {},
   "outputs": [],
   "source": [
    "llm = ChatOpenAI(\n",
    "    api_key=OPENAI_API_KEY,\n",
    "    model=LLM_WORKHORSE,\n",
    "    )\n",
    "\n"
   ]
  },
  {
   "cell_type": "markdown",
   "id": "d2abfa0f",
   "metadata": {},
   "source": [
    "# ChatGPT under the hood"
   ]
  },
  {
   "cell_type": "code",
   "execution_count": 14,
   "id": "7d8389ee",
   "metadata": {},
   "outputs": [
    {
     "data": {
      "text/plain": [
       "'Geoffrey Hinton is famous for his pioneering contributions to the field of artificial intelligence, particularly in developing and advancing artificial neural networks and deep learning. His work has been fundamental in enabling machines to learn and recognize patterns, which has significantly impacted technologies such as speech recognition, image processing, and natural language understanding. Often called one of the \"godfathers of deep learning,\" Hinton\\'s research laid the groundwork for many modern AI applications.'"
      ]
     },
     "execution_count": 14,
     "metadata": {},
     "output_type": "execute_result"
    }
   ],
   "source": [
    "from langchain_core.messages import AIMessage, HumanMessage\n",
    "from langchain_core.output_parsers import StrOutputParser\n",
    "\n",
    "chain = llm | StrOutputParser()\n",
    "\n",
    "chain.invoke(\n",
    "        [\n",
    "        HumanMessage(content=\"How won the Physics Nobel price in 2024?\"),\n",
    "        AIMessage(content=\"John J. Hopfield and Geoffrey Hinton won the Nobel Prize in Physics in 2024 for their groundbreaking work on artificial neural networks.\"),\n",
    "        HumanMessage(content=\"Why is the second one mentioned famous?\"),\n",
    "    ]\n",
    ")"
   ]
  },
  {
   "cell_type": "markdown",
   "id": "0e968c21",
   "metadata": {},
   "source": [
    "# Context Example"
   ]
  },
  {
   "cell_type": "code",
   "execution_count": 21,
   "id": "4ba891d1",
   "metadata": {},
   "outputs": [],
   "source": [
    "docs = [\n",
    "    Document(\n",
    "        page_content=\"John J. Hopfield and Geoffrey Hinton received the Nobel Prize in Physics in 2024 for their groundbreaking work on artificial neural networks, a foundation of modern AI. Hopfield developed an associative memory model in the 1980s that allows networks to store and reconstruct patterns. Building on this, Hinton developed the Boltzmann machine, which uses statistical physics principles to recognize and classify data. These pioneering contributions are essential for today's machine learning technologies, enhancing applications from medical imaging to material science.\",\n",
    "        metadata={\"source\": \"wikipedia\"}\n",
    "    ),\n",
    "    Document(\n",
    "        page_content=\"In Chemistry, David Baker, Demis Hassabis, and John Jumper were honored win Nobel Prize in 2024 for their breakthroughs in protein structure prediction. Baker’s work in computational protein design enables the creation of novel proteins, while Hassabis and Jumper, known for their work with DeepMind's AlphaFold, developed an AI that accurately predicts protein structures—a long-standing challenge in biology. This advancement could lead to transformative applications in drug development and synthetic biology.\",\n",
    "        metadata={\"source\": \"wikipedia\"}\n",
    "    ),\n",
    "]\n"
   ]
  },
  {
   "cell_type": "code",
   "execution_count": 10,
   "id": "c2c66bf6",
   "metadata": {},
   "outputs": [],
   "source": [
    "from langchain_core.messages import AIMessage, HumanMessage\n",
    "\n",
    "chat_history = [\n",
    "            HumanMessage(content=\"How won the Physics Nobel price in 2024?\"),\n",
    "            AIMessage(content=\"John J. Hopfield and Geoffrey Hinton won the Nobel Prize in Physics in 2024 for their groundbreaking work on artificial neural networks.\"),\n",
    "        ]\n",
    "\n",
    "incoming_question = \"Why is the second one mentioned famous?\""
   ]
  },
  {
   "cell_type": "markdown",
   "id": "36552259",
   "metadata": {},
   "source": [
    "# Memory Rephrase"
   ]
  },
  {
   "cell_type": "code",
   "execution_count": null,
   "id": "0c251434",
   "metadata": {},
   "outputs": [
    {
     "data": {
      "text/plain": [
       "'Why is Geoffrey Hinton famous?'"
      ]
     },
     "execution_count": 11,
     "metadata": {},
     "output_type": "execute_result"
    }
   ],
   "source": [
    "from langchain_core.prompts import ChatPromptTemplate\n",
    "from langchain_core.output_parsers import StrOutputParser\n",
    "\n",
    "\n",
    "rephrase_template = \"\"\"Given the following conversation and a follow up question, rephrase the follow up question to be a standalone question, in its original language.\n",
    "\n",
    "Chat History:\n",
    "{chat_history}\n",
    "Follow Up Input: {question}\n",
    "Standalone question:\"\"\"\n",
    "\n",
    "prompt_rephrase = ChatPromptTemplate.from_template(rephrase_template)\n",
    "chain_rephrase = prompt_rephrase | llm | StrOutputParser()\n",
    "\n",
    "resp = chain_rephrase.invoke(\n",
    "    {\n",
    "        \"question\": incoming_question,\n",
    "        \"chat_history\": chat_history\n",
    "    }\n",
    ")\n",
    "\n",
    "resp"
   ]
  },
  {
   "cell_type": "code",
   "execution_count": null,
   "id": "9251eafc",
   "metadata": {},
   "outputs": [
    {
     "data": {
      "image/png": "[encoded data removed]",
      "text/plain": [
       "<langgraph.graph.state.CompiledStateGraph object at 0x000001AC0015B640>"
      ]
     },
     "execution_count": 31,
     "metadata": {},
     "output_type": "execute_result"
    }
   ],
   "source": [
    "from langgraph.checkpoint.memory import MemorySaver\n",
    "from langgraph.graph import START, MessagesState, StateGraph\n",
    "\n",
    "\n",
    "# Built-in in memory manager\n",
    "# Can be subsituted by a remote DB, like PG\n",
    "# from langgraph.checkpoint.postgres import PostgresSaver\n",
    "memory = MemorySaver()\n",
    "\n",
    "# MessagesState is a built-in State specific for managed conversation\n",
    "# https://langchain-ai.github.io/langgraph/how-tos/graph-api/#messagesstate\n",
    "class State(MessagesState):\n",
    "    # messages already there and with an reducing strategy\n",
    "    q_star: str\n",
    "    context: List[Document]\n",
    "    answer: str\n",
    "\n",
    "# Define a new graph\n",
    "workflow = StateGraph(state_schema=MessagesState)\n",
    "\n",
    "\n",
    "def format_docs(docs):\n",
    "    return \"\\n\\n\".join([d.page_content for d in docs])\n",
    "\n",
    "\n",
    "def query_rephrasing(state: State):\n",
    "    relevant_hist = state[\"messages\"][-5:]\n",
    "    print(f\"Relevant history size: {len(relevant_hist)}\")\n",
    "    question = relevant_hist.pop(-1)\n",
    "    print(f\"{len(relevant_hist)=}\")\n",
    "\n",
    "    resp = chain_rephrase.invoke(\n",
    "        {\"question\": question,\n",
    "         \"chat_history\":relevant_hist }\n",
    "    )\n",
    "\n",
    "    return {\"q_star\": resp}\n",
    "\n",
    "def retrieve(state: State):\n",
    "    return {\"context\": docs}\n",
    "\n",
    "prompt_template = \"\"\"Answer the question based only on the following context:\n",
    "```\n",
    "{context}\n",
    "```\n",
    "Question: {question}\n",
    "\"\"\"\n",
    "prompt_rag = ChatPromptTemplate.from_template(prompt_template)\n",
    "chain_rag = prompt_rag | llm\n",
    "\n",
    "\n",
    "def generate(state: State):\n",
    "    question = state['q_star']\n",
    "    docs_content = format_docs(state[\"context\"])\n",
    "\n",
    "    resp = chain_rag.invoke({\n",
    "        \"context\": docs_content,\n",
    "        \"question\": question\n",
    "        }\n",
    "    )\n",
    "\n",
    "    return {\"messages\": [resp], \"answer\": resp }\n",
    "\n",
    "\n",
    "# Define the (single) node in the graph\n",
    "workflow.add_node(\"query_rephrasing\", query_rephrasing)\n",
    "workflow.add_node(\"retrieve\", retrieve)\n",
    "workflow.add_node(\"generate\", generate)\n",
    "workflow.add_edge(START, \"query_rephrasing\")\n",
    "workflow.add_edge(\"query_rephrasing\", \"retrieve\")\n",
    "workflow.add_edge(\"retrieve\", \"generate\")\n",
    "\n",
    "\n",
    "\n",
    "app = workflow.compile(checkpointer=memory)\n",
    "app"
   ]
  },
  {
   "cell_type": "code",
   "execution_count": 32,
   "id": "1b22ea19",
   "metadata": {},
   "outputs": [
    {
     "name": "stdout",
     "output_type": "stream",
     "text": [
      "Relevant history size: 1\n",
      "len(relevant_hist)=0\n",
      "==================================\u001b[1m Ai Message \u001b[0m==================================\n",
      "\n",
      "John J. Hopfield and Geoffrey Hinton won the Nobel Prize in Physics in 2024.\n"
     ]
    }
   ],
   "source": [
    "config = {\"configurable\": {\"thread_id\": \"abc123\"}}\n",
    "\n",
    "\n",
    "query = \"How won the Physics Nobel price in 2024?\"\n",
    "\n",
    "input_messages = [HumanMessage(query)]\n",
    "output = app.invoke({\"messages\": input_messages}, config)\n",
    "output[\"messages\"][-1].pretty_print()  # output contains all messages in state"
   ]
  },
  {
   "cell_type": "code",
   "execution_count": 33,
   "id": "3d46d732",
   "metadata": {},
   "outputs": [
    {
     "name": "stdout",
     "output_type": "stream",
     "text": [
      "Relevant history size: 3\n",
      "len(relevant_hist)=2\n",
      "==================================\u001b[1m Ai Message \u001b[0m==================================\n",
      "\n",
      "El segundo mencionado, Geoffrey Hinton, es famoso por desarrollar la máquina de Boltzmann, que utiliza principios de la física estadística para reconocer y clasificar datos, contribuyendo significativamente al campo de las redes neuronales artificiales y al desarrollo de tecnologías modernas de aprendizaje automático.\n"
     ]
    }
   ],
   "source": [
    "query = \"Why is the second one mentioned famous?\"\n",
    "\n",
    "input_messages = [HumanMessage(query)]\n",
    "output = app.invoke({\"messages\": input_messages}, config)\n",
    "output[\"messages\"][-1].pretty_print()  # output contains all messages in state"
   ]
  },
  {
   "cell_type": "code",
   "execution_count": 34,
   "id": "6069da7f",
   "metadata": {},
   "outputs": [
    {
     "name": "stdout",
     "output_type": "stream",
     "text": [
      "================================\u001b[1m Human Message \u001b[0m=================================\n",
      "\n",
      "How won the Physics Nobel price in 2024?\n",
      "==================================\u001b[1m Ai Message \u001b[0m==================================\n",
      "\n",
      "John J. Hopfield and Geoffrey Hinton won the Nobel Prize in Physics in 2024.\n",
      "================================\u001b[1m Human Message \u001b[0m=================================\n",
      "\n",
      "Why is the second one mentioned famous?\n",
      "==================================\u001b[1m Ai Message \u001b[0m==================================\n",
      "\n",
      "El segundo mencionado, Geoffrey Hinton, es famoso por desarrollar la máquina de Boltzmann, que utiliza principios de la física estadística para reconocer y clasificar datos, contribuyendo significativamente al campo de las redes neuronales artificiales y al desarrollo de tecnologías modernas de aprendizaje automático.\n"
     ]
    }
   ],
   "source": [
    "for msg in output['messages']:\n",
    "    msg.pretty_print()"
   ]
  },
  {
   "cell_type": "code",
   "execution_count": null,
   "id": "33241cce",
   "metadata": {},
   "outputs": [],
   "source": []
  }
 ],
 "metadata": {
  "kernelspec": {
   "display_name": "dslab-rag-e2e",
   "language": "python",
   "name": "python3"
  },
  "language_info": {
   "codemirror_mode": {
    "name": "ipython",
    "version": 3
   },
   "file_extension": ".py",
   "mimetype": "text/x-python",
   "name": "python",
   "nbconvert_exporter": "python",
   "pygments_lexer": "ipython3",
   "version": "3.10.9"
  }
 },
 "nbformat": 4,
 "nbformat_minor": 5
}
