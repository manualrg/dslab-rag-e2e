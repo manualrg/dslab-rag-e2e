{
 "cells": [
  {
   "cell_type": "markdown",
   "id": "3a80179e",
   "metadata": {},
   "source": [
    "# Grading\n",
    "\n",
    "Give a relevance score to every retrieved chunk by instructing an LLM with a structured output and a precise rubric\n",
    "\n",
    "Optionally, add a filter and an ordering, so a `reranking` effect may take place\n",
    "\n",
    "![Self-RAG](docs/selfrag.png)\n"
   ]
  },
  {
   "cell_type": "code",
   "execution_count": 1,
   "id": "048ab727",
   "metadata": {},
   "outputs": [],
   "source": [
    "%load_ext autoreload\n",
    "%autoreload 2"
   ]
  },
  {
   "cell_type": "code",
   "execution_count": 2,
   "id": "bba54eca",
   "metadata": {},
   "outputs": [
    {
     "name": "stderr",
     "output_type": "stream",
     "text": [
      "c:\\Users\\manua\\Documents\\repos\\dslabs\\dslab-rag-e2e\\.venv\\lib\\site-packages\\tqdm\\auto.py:21: TqdmWarning: IProgress not found. Please update jupyter and ipywidgets. See https://ipywidgets.readthedocs.io/en/stable/user_install.html\n",
      "  from .autonotebook import tqdm as notebook_tqdm\n"
     ]
    }
   ],
   "source": [
    "import os\n",
    "from typing import List, TypedDict\n",
    "from dotenv import load_dotenv\n",
    "\n",
    "from langchain.schema import Document\n",
    "from langchain_openai import OpenAIEmbeddings, ChatOpenAI\n",
    "from langchain_qdrant import QdrantVectorStore\n",
    "from langchain_core.prompts import ChatPromptTemplate\n",
    "\n",
    "from src import utils, conf"
   ]
  },
  {
   "cell_type": "markdown",
   "id": "cc10d594",
   "metadata": {},
   "source": [
    "# Params"
   ]
  },
  {
   "cell_type": "code",
   "execution_count": 3,
   "id": "b8eb5797",
   "metadata": {},
   "outputs": [],
   "source": [
    "conf_settings = conf.load(file=\"settings.yaml\")\n",
    "conf_infra = conf.load(file=\"infra.yaml\")    \n",
    "\n",
    "LLM_WORKHORSE = conf_settings.llm_workhorse\n",
    "LLM_FLAGSHIP = conf_settings.llm_flagship\n",
    "EMBEDDINGS = conf_settings.embeddings\n",
    "VDB_URL = conf_infra.vdb_url\n",
    "INDEX_NAME = conf_settings.vdb_index\n"
   ]
  },
  {
   "cell_type": "markdown",
   "id": "1c2cf4c6",
   "metadata": {},
   "source": [
    "# Environment Variables"
   ]
  },
  {
   "cell_type": "code",
   "execution_count": 4,
   "id": "d76475a0",
   "metadata": {},
   "outputs": [],
   "source": [
    "load_dotenv()\n",
    "OPENAI_API_KEY = os.getenv(\"OPENAI_API_KEY\")\n",
    "QDRANT_API_KEY = os.getenv(\"QDRANT_API_KEY\")"
   ]
  },
  {
   "cell_type": "markdown",
   "id": "6077a74e",
   "metadata": {},
   "source": [
    "# Clients"
   ]
  },
  {
   "cell_type": "code",
   "execution_count": 5,
   "id": "92ad2b3a",
   "metadata": {},
   "outputs": [],
   "source": [
    "llm = ChatOpenAI(\n",
    "    api_key=OPENAI_API_KEY,\n",
    "    model=LLM_WORKHORSE,\n",
    "    )\n",
    "try:\n",
    "    _ = llm.invoke(\"tell me a joke about devops\")\n",
    "except Exception as err:\n",
    "    print(err)\n",
    "    \n",
    "embeddings = OpenAIEmbeddings(api_key=OPENAI_API_KEY, model=EMBEDDINGS)\n",
    "try:\n",
    "    _ = embeddings.embed_query(\"healthcheck\")\n",
    "\n",
    "except Exception as err:\n",
    "    print(err)\n",
    "\n",
    "\n",
    "\n",
    "vector_store = QdrantVectorStore.from_existing_collection(\n",
    "    embedding=embeddings,\n",
    "    collection_name=INDEX_NAME,\n",
    "    url=VDB_URL,\n",
    "    api_key=QDRANT_API_KEY,\n",
    ")\n",
    "try:\n",
    "    _ = vector_store.asimilarity_search(\"healthcheck\")\n",
    "except Exception as err:\n",
    "    print(err)\n"
   ]
  },
  {
   "cell_type": "code",
   "execution_count": 6,
   "id": "00a8bfdf",
   "metadata": {},
   "outputs": [],
   "source": [
    "llm = ChatOpenAI(\n",
    "    api_key=OPENAI_API_KEY,\n",
    "    model=LLM_WORKHORSE,\n",
    "    )\n",
    "\n"
   ]
  },
  {
   "cell_type": "markdown",
   "id": "0e968c21",
   "metadata": {},
   "source": [
    "# Context Example"
   ]
  },
  {
   "cell_type": "code",
   "execution_count": 7,
   "id": "4ba891d1",
   "metadata": {},
   "outputs": [],
   "source": [
    "docs = [\n",
    "    Document(\n",
    "        page_content=\"John J. Hopfield and Geoffrey Hinton received the Nobel Prize in Physics in 2024 for their groundbreaking work on artificial neural networks, a foundation of modern AI. Hopfield developed an associative memory model in the 1980s that allows networks to store and reconstruct patterns. Building on this, Hinton developed the Boltzmann machine, which uses statistical physics principles to recognize and classify data. These pioneering contributions are essential for today's machine learning technologies, enhancing applications from medical imaging to material science.\",\n",
    "        metadata={\"source\": \"wikipedia\"}\n",
    "    ),\n",
    "    Document(\n",
    "        page_content=\"In Chemistry, David Baker, Demis Hassabis, and John Jumper were honored win Nobel Prize in 2024 for their breakthroughs in protein structure prediction. Baker’s work in computational protein design enables the creation of novel proteins, while Hassabis and Jumper, known for their work with DeepMind's AlphaFold, developed an AI that accurately predicts protein structures—a long-standing challenge in biology. This advancement could lead to transformative applications in drug development and synthetic biology.\",\n",
    "        metadata={\"source\": \"wikipedia\"}\n",
    "    ),\n",
    "]\n"
   ]
  },
  {
   "cell_type": "markdown",
   "id": "36552259",
   "metadata": {},
   "source": [
    "# Grading"
   ]
  },
  {
   "cell_type": "code",
   "execution_count": 8,
   "id": "0c251434",
   "metadata": {},
   "outputs": [
    {
     "data": {
      "text/plain": [
       "RelevancyScore(assessment='The document directly identifies habitat loss, pesticide use, and climate change as primary causes of global bee population decline, providing a comprehensive answer.', score=3)"
      ]
     },
     "execution_count": 8,
     "metadata": {},
     "output_type": "execute_result"
    }
   ],
   "source": [
    "from langchain_core.prompts import ChatPromptTemplate\n",
    "from langchain_core.output_parsers import StrOutputParser\n",
    "\n",
    "from pydantic import BaseModel, Field\n",
    "from enum import Enum\n",
    "\n",
    "class RelevancyScore(BaseModel):\n",
    "    \"\"\"\n",
    "    **Scoring Relevancy Rubric:**\n",
    "    * 3: Highly Relevant. The document directly and comprehensively answers the query. It contains key facts, data, or arguments that are essential for a complete response. It is a primary source of information for the query.\n",
    "    * 2: Partially Relevant. The document contains some useful information related to the query, but it is not a direct or complete answer. It may provide background, related context, or a partial answer that needs to be supplemented by other sources.\n",
    "    * 1: Tangentially Relevant. The document mentions a keyword or a related concept from the query, but it does not provide any substantive information that would help answer the query. Its content is not useful for generating a response.\n",
    "    * 0: Not Relevant. The document has no connection to the query whatsoever. It is completely unrelated.\n",
    "    \"\"\"\n",
    "    assessment: str = Field(..., description=\"Concise, one-sentence relevancy assessment\")  # little CoT\n",
    "    score: int  = Field(..., description=\"Relevancy Score following the rubric\")\n",
    "    \n",
    "\n",
    "\n",
    "grader_template = \"\"\"You are a highly specialized document relevance grader. Your task is to evaluate a document's relevance to a given query.\\\n",
    "    Provide a concise, one-sentence relevancy assessment, focusing on facts\n",
    "    You must output a single integer score from 0 to 3 based on the following scale\n",
    "    User message: {question}\n",
    "    Document: {chunk}\n",
    "\"\"\"\n",
    "\n",
    "llm_grading = llm.with_structured_output(RelevancyScore)\n",
    "prompt_grading= ChatPromptTemplate.from_template(grader_template)\n",
    "chain_grading = prompt_grading | llm_grading\n",
    "\n",
    "chain_grading.invoke(\n",
    "    {\n",
    "        \"question\": \"What are the primary causes of the decline in bee populations globally?\",\n",
    "        \"chunk\": \"A recent study by the EPA highlights the multifaceted causes of global bee population decline.\\\n",
    "            The report identifies habitat loss due to monoculture farming and urbanization as a major factor.\\\n",
    "            The widespread use of neonicotinoid pesticides, which impair the bees' neurological functions and navigation, is another critical issue.\\\n",
    "            Climate change also plays a role by disrupting flowering seasons and increasing the prevalence of bee-specific parasites like the Varroa mite. \\\n",
    "            The study emphasizes that these factors often interact, creating a synergistic negative effect on bee health.\"\n",
    "    }\n",
    ")\n"
   ]
  },
  {
   "cell_type": "code",
   "execution_count": 9,
   "id": "c95c6df0",
   "metadata": {},
   "outputs": [
    {
     "data": {
      "text/plain": [
       "RelevancyScore(assessment='The document discusses agricultural techniques and biodiversity but does not directly address the causes of the global decline in bee populations.', score=1)"
      ]
     },
     "execution_count": 9,
     "metadata": {},
     "output_type": "execute_result"
    }
   ],
   "source": [
    "chain_grading.invoke(\n",
    "    {\n",
    "        \"question\": \"What are the primary causes of the decline in bee populations globally?\",\n",
    "        \"chunk\": \"The agricultural industry is increasingly adopting precision farming techniques to improve crop yields.\\\n",
    "            These technologies, which include GPS-guided tractors and drone-based crop monitoring, help farmers use resources more efficiently. \\\n",
    "            While these methods are designed to be more sustainable, their implementation in large-scale operations often relies on a single crop, which can reduce biodiversity.\"\n",
    "    }\n",
    ")"
   ]
  },
  {
   "cell_type": "code",
   "execution_count": 10,
   "id": "9783a419",
   "metadata": {},
   "outputs": [
    {
     "data": {
      "text/plain": [
       "RelevancyScore(assessment='The document mentions bees and pollinators but does not address causes of the global decline in bee populations.', score=1)"
      ]
     },
     "execution_count": 10,
     "metadata": {},
     "output_type": "execute_result"
    }
   ],
   "source": [
    "\n",
    "chain_grading.invoke(\n",
    "    {\n",
    "        \"question\": \"What are the primary causes of the decline in bee populations globally?\",\n",
    "        \"chunk\": \"In the spring, many flowers begin to bloom, attracting various insects. \\\n",
    "            Pollinators, such as bees and butterflies, are essential for the reproduction of many plant species. \\\n",
    "            The honey produced by bees is a valuable commodity and has been used by humans for centuries for its nutritional and medicinal properties.\"\n",
    "    }\n",
    ")"
   ]
  },
  {
   "cell_type": "code",
   "execution_count": null,
   "id": "89228d20",
   "metadata": {},
   "outputs": [],
   "source": []
  }
 ],
 "metadata": {
  "kernelspec": {
   "display_name": "dslab-rag-e2e",
   "language": "python",
   "name": "python3"
  },
  "language_info": {
   "codemirror_mode": {
    "name": "ipython",
    "version": 3
   },
   "file_extension": ".py",
   "mimetype": "text/x-python",
   "name": "python",
   "nbconvert_exporter": "python",
   "pygments_lexer": "ipython3",
   "version": "3.10.18"
  }
 },
 "nbformat": 4,
 "nbformat_minor": 5
}
