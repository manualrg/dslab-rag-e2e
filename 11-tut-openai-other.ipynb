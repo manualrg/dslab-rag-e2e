{
 "cells": [
  {
   "cell_type": "code",
   "execution_count": 1,
   "id": "910dac7d",
   "metadata": {},
   "outputs": [],
   "source": [
    "%load_ext autoreload\n",
    "%autoreload 2"
   ]
  },
  {
   "cell_type": "code",
   "execution_count": 2,
   "id": "2cb8ad4d",
   "metadata": {},
   "outputs": [
    {
     "name": "stderr",
     "output_type": "stream",
     "text": [
      "c:\\Users\\manuelalberto.romero\\Documents\\repos\\dslabs\\dslab-rag-e2e\\.venv\\lib\\site-packages\\tqdm\\auto.py:21: TqdmWarning: IProgress not found. Please update jupyter and ipywidgets. See https://ipywidgets.readthedocs.io/en/stable/user_install.html\n",
      "  from .autonotebook import tqdm as notebook_tqdm\n"
     ]
    }
   ],
   "source": [
    "import os\n",
    "from pathlib import Path\n",
    "from dotenv import load_dotenv\n",
    "from openai import OpenAI\n",
    "from langchain_qdrant import QdrantVectorStore\n",
    "from qdrant_client import QdrantClient\n",
    "from langchain_openai import OpenAIEmbeddings\n",
    "\n",
    "\n",
    "from src import conf"
   ]
  },
  {
   "cell_type": "code",
   "execution_count": 3,
   "id": "10be9b9c",
   "metadata": {},
   "outputs": [],
   "source": [
    "load_dotenv()\n",
    "\n",
    "OPENAI_API_KEY = os.environ[\"OPENAI_API_KEY\"]\n",
    "MISTRAL_API_KEY = os.environ[\"MISTRAL_API_KEY\"]\n",
    "OPENAI_API_KEY = os.environ[\"OPENAI_API_KEY\"]\n",
    "QDRANT_API_KEY = os.environ[\"QDRANT_API_KEY\"]"
   ]
  },
  {
   "cell_type": "code",
   "execution_count": 4,
   "id": "8849ae3c",
   "metadata": {},
   "outputs": [],
   "source": [
    "conf_settings = conf.load(file=\"settings.yaml\")\n",
    "\n",
    "LLM_WORKHORSE = conf_settings.llm_workhorse\n",
    "LLM_FLAGSHIP = conf_settings.llm_flagship\n",
    "EMBEDDINGS = conf_settings.embeddings\n",
    "EMB_DIM = conf_settings.embeddings_dim"
   ]
  },
  {
   "cell_type": "code",
   "execution_count": 5,
   "id": "81e028f3",
   "metadata": {},
   "outputs": [],
   "source": [
    "conf_infra = conf.load(file=\"infra.yaml\")\n",
    "\n",
    "VDB_URL = conf_infra.vdb_url"
   ]
  },
  {
   "cell_type": "code",
   "execution_count": null,
   "metadata": {},
   "outputs": [
    {
     "name": "stdout",
     "output_type": "stream",
     "text": [
      "The capital of France is Paris.\n"
     ]
    }
   ],
   "source": [
    "from openai import OpenAI\n",
    "\n",
    "\n",
    "client = OpenAI(\n",
    "    api_key=MISTRAL_API_KEY,\n",
    "    base_url=\"https://api.mistral.ai/v1/\",\n",
    ")\n",
    "\n",
    "try:\n",
    "    chat_completion = client.chat.completions.create(\n",
    "        model=\"mistral-small-latest\",\n",
    "        messages=[\n",
    "            {\"role\": \"system\", \"content\": \"You are a helpful AI assistant.\"},\n",
    "            {\"role\": \"user\", \"content\": \"What is the capital of France?\"},\n",
    "        ],\n",
    "    )\n",
    "\n",
    "    print(chat_completion.choices[0].message.content)\n",
    "\n",
    "except Exception as e:\n",
    "    print(f\"An error occurred: {e}\")"
   ]
  },
  {
   "cell_type": "markdown",
   "id": "806a397b",
   "metadata": {},
   "source": [
    "![MMR](docs/mmr.png)\n",
    "\n",
    "\n",
    "[Qdrant MMR](https://qdrant.tech/blog/qdrant-1.15.x/#mmr-reranking)"
   ]
  },
  {
   "cell_type": "code",
   "execution_count": 7,
   "id": "ea355389",
   "metadata": {},
   "outputs": [],
   "source": [
    "client_qdrant = QdrantClient(\n",
    "    api_key=QDRANT_API_KEY,\n",
    "    url=VDB_URL\n",
    "    )\n",
    "\n",
    "try:\n",
    "    client_qdrant.get_collections()\n",
    "except Exception as err:\n",
    "    print(err)\n",
    "\n",
    "embeddings = OpenAIEmbeddings(\n",
    "    api_key=OPENAI_API_KEY,\n",
    "    model=EMBEDDINGS\n",
    "    )\n",
    "\n",
    "try:\n",
    "    embeddings.embed_query(\"abc\")\n",
    "except Exception as err:\n",
    "    print(err)\n",
    "\n",
    "\n",
    "\n",
    "\n",
    "if client_qdrant.collection_exists(\"space\"):\n",
    "    vector_store = QdrantVectorStore.from_existing_collection(\n",
    "        embedding=embeddings,\n",
    "        collection_name=\"space\",\n",
    "        url=VDB_URL,\n",
    "        api_key=QDRANT_API_KEY\n",
    "    )"
   ]
  },
  {
   "cell_type": "code",
   "execution_count": 12,
   "id": "a2b64c80",
   "metadata": {},
   "outputs": [
    {
     "name": "stdout",
     "output_type": "stream",
     "text": [
      "0\n",
      "page_content='## 6.3 Sistemas de anillos y lunas notables  \n",
      "Tanto Zephyros IV como Krion V presentan estructuras de anillos visibles, aunque los de Krion son más delgados y oscuros, compuestos mayoritariamente por polvo carbonáceo. Las lunas interiores de Zephyros interactúan gravitacionalmente con el sistema de anillos, generando ondas espirales similares a las observadas en Saturno.' metadata={'Header 1': '6. Planetas exteriores', 'Header 2': '6.3 Sistemas de anillos y lunas notables', '_id': '3874bf9d-d16d-423e-a0b4-95cd933a3462', '_collection_name': 'space'}\n",
      "\n",
      "1\n",
      "page_content='## 2.2 Disposición y dinámica de un sistema binario' metadata={'Header 1': '2. Conoce a Althéra', 'Header 2': '2.2 Disposición y dinámica de un sistema binario', '_id': 'd4bf1036-0a1c-4683-bdfe-b1d663f5ef6a', '_collection_name': 'space'}\n",
      "\n",
      "2\n",
      "page_content='## Anexo: Miscelánea\n",
      "image_content: & Bellatrix\\n\\n*Betalgeuse\\n\\nCampoin 13 oct-2034\\n- Oscilaciones periódicas\\ndobles\\n- Posible sistema binario\\n- Explanadas?\\n× Rigel\\n× Suph\\n× Rigel\n",
      "Figure 2 Notas de Mariela Estay el día del descubrimiento  \n",
      "<!-- image -->' metadata={'Header 1': '10. Conclusiones y perspectivas futuras', 'Header 2': 'Anexo: Miscelánea', '_id': '9a419c71-c5f7-4575-8ee9-b461d9394ddc', '_collection_name': 'space'}\n",
      "\n",
      "3\n",
      "page_content='## Adéndum: Debate científico sobre la habitabilidad de Aurelia III  \n",
      "La comunidad científica se encuentra dividida respecto a las implicaciones de los datos de Aurelia III. Por un lado, investigadores como la Dra. Mariela Estay sostienen que el desequilibrio químico de su atmósfera constituye una 'firma biológica sólida' y que su ubicación estable en la zona habitable circumbinaria refuerza la probabilidad de vida. Por otro, expertos más cautelosos, como el Dr. Jonathan Kepler-Saunders, advierten que procesos abióticos complejos -incluyendo fotólisis catalizada por la radiación combinada de las dos estrellas- podrían generar patrones gaseosos que imitan señales biológicas. Entre ambos extremos, un grupo intermedio propone que Aurelia III podría estar en una 'pre-biosfera', una etapa química avanzada previa al  \n",
      "surgimiento de organismos, lo que la haría igualmente valiosa para comprender el origen de la vida.' metadata={'Header 1': '8. Fenómenos destacados', 'Header 2': 'Adéndum: Debate científico sobre la habitabilidad de Aurelia III', '_id': 'b79cd0d6-49fd-49b2-96d2-b01112bd9252', '_collection_name': 'space'}\n",
      "\n"
     ]
    }
   ],
   "source": [
    "retriever= vector_store.as_retriever(search_type=\"mmr\")\n",
    "\n",
    "docs = retriever.invoke(\"what did the president say about ketanji brown jackson?\")\n",
    "for i, doc in enumerate(docs):\n",
    "    print(i)\n",
    "    print(doc)\n",
    "    print()"
   ]
  },
  {
   "cell_type": "code",
   "execution_count": 11,
   "id": "a1f7a4f7",
   "metadata": {},
   "outputs": [
    {
     "name": "stdout",
     "output_type": "stream",
     "text": [
      "0\n",
      "page_content='## 6.3 Sistemas de anillos y lunas notables  \n",
      "Tanto Zephyros IV como Krion V presentan estructuras de anillos visibles, aunque los de Krion son más delgados y oscuros, compuestos mayoritariamente por polvo carbonáceo. Las lunas interiores de Zephyros interactúan gravitacionalmente con el sistema de anillos, generando ondas espirales similares a las observadas en Saturno.' metadata={'Header 1': '6. Planetas exteriores', 'Header 2': '6.3 Sistemas de anillos y lunas notables', '_id': '3874bf9d-d16d-423e-a0b4-95cd933a3462', '_collection_name': 'space'}\n",
      "\n",
      "1\n",
      "page_content='## Anexo: Miscelánea\n",
      "image_content: & Bellatrix\\n\\n*Betalgeuse\\n\\nCampoin 13 oct-2034\\n- Oscilaciones periódicas\\ndobles\\n- Posible sistema binario\\n- Explanadas?\\n× Rigel\\n× Suph\\n× Rigel\n",
      "Figure 2 Notas de Mariela Estay el día del descubrimiento  \n",
      "<!-- image -->' metadata={'Header 1': '10. Conclusiones y perspectivas futuras', 'Header 2': 'Anexo: Miscelánea', '_id': '9a419c71-c5f7-4575-8ee9-b461d9394ddc', '_collection_name': 'space'}\n",
      "\n",
      "2\n",
      "page_content='## 2.2 Disposición y dinámica de un sistema binario' metadata={'Header 1': '2. Conoce a Althéra', 'Header 2': '2.2 Disposición y dinámica de un sistema binario', '_id': 'd4bf1036-0a1c-4683-bdfe-b1d663f5ef6a', '_collection_name': 'space'}\n",
      "\n",
      "3\n",
      "page_content='## 1.2 Confirmación mediante técnicas combinadas  \n",
      "En los meses siguientes, un consorcio internacional liderado por la Agencia Espacial Europea (ESA) y el Instituto Max Planck de Astronomía desplegó observaciones complementarias utilizando:  \n",
      "- ELT (Extremely Large Telescope) en el Desierto de Atacama para espectroscopía de alta resolución.\n",
      "- Telescopio Espacial Nancy Grace Roman para fotometría de gran precisión en tránsitos.\n",
      "- Interferometría de radio desde la red Very Long Baseline Array (VLBA) para afinar la distancia y parámetros orbitales del sistema.  \n",
      "Fue el equipo del astrónomo estadounidense Dr. Jonathan Kepler-Saunders quien confirmó, mediante el método de velocidad radial ultraestable, la existencia de cinco planetas principales y varios cinturones de escombros.' metadata={'Header 1': '1. Historia del descubrimiento', 'Header 2': '1.2 Confirmación mediante técnicas combinadas', '_id': 'ef1949a3-3b45-4907-9927-9072a28aad83', '_collection_name': 'space'}\n",
      "\n"
     ]
    }
   ],
   "source": [
    "res = vector_store.similarity_search(\"what did the president say about ketanji brown jackson?\")\n",
    "\n",
    "for i, doc in enumerate(res):\n",
    "    print(i)\n",
    "    print(doc)\n",
    "    print()"
   ]
  },
  {
   "cell_type": "markdown",
   "id": "0cfbe240",
   "metadata": {},
   "source": [
    "[Balancing Relevance and Diversity with MMR Search](https://qdrant.tech/blog/mmr-diversity-aware-reranking/)"
   ]
  },
  {
   "cell_type": "code",
   "execution_count": null,
   "id": "ae741062",
   "metadata": {},
   "outputs": [],
   "source": []
  }
 ],
 "metadata": {
  "kernelspec": {
   "display_name": "dslab-rag-e2e",
   "language": "python",
   "name": "python3"
  },
  "language_info": {
   "codemirror_mode": {
    "name": "ipython",
    "version": 3
   },
   "file_extension": ".py",
   "mimetype": "text/x-python",
   "name": "python",
   "nbconvert_exporter": "python",
   "pygments_lexer": "ipython3",
   "version": "3.10.9"
  }
 },
 "nbformat": 4,
 "nbformat_minor": 5
}
