{
 "cells": [
  {
   "cell_type": "markdown",
   "id": "3a80179e",
   "metadata": {},
   "source": [
    "# Query rewriting"
   ]
  },
  {
   "cell_type": "code",
   "execution_count": 62,
   "id": "048ab727",
   "metadata": {},
   "outputs": [
    {
     "name": "stdout",
     "output_type": "stream",
     "text": [
      "The autoreload extension is already loaded. To reload it, use:\n",
      "  %reload_ext autoreload\n"
     ]
    }
   ],
   "source": [
    "%load_ext autoreload\n",
    "%autoreload 2"
   ]
  },
  {
   "cell_type": "code",
   "execution_count": 63,
   "id": "bba54eca",
   "metadata": {},
   "outputs": [],
   "source": [
    "import os\n",
    "from typing import List, TypedDict\n",
    "from dotenv import load_dotenv\n",
    "\n",
    "from langchain.schema import Document\n",
    "from langchain_openai import OpenAIEmbeddings, ChatOpenAI\n",
    "from langchain_qdrant import QdrantVectorStore\n",
    "from langchain_core.prompts import ChatPromptTemplate\n",
    "\n",
    "from src import utils, conf"
   ]
  },
  {
   "cell_type": "markdown",
   "id": "cc10d594",
   "metadata": {},
   "source": [
    "# Params"
   ]
  },
  {
   "cell_type": "code",
   "execution_count": 64,
   "id": "b8eb5797",
   "metadata": {},
   "outputs": [],
   "source": [
    "conf_settings = conf.load(file=\"settings.yaml\")\n",
    "conf_infra = conf.load(file=\"infra.yaml\")    \n",
    "\n",
    "LLM_WORKHORSE = conf_settings.llm_workhorse\n",
    "LLM_FLAGSHIP = conf_settings.llm_flagship\n",
    "EMBEDDINGS = conf_settings.embeddings\n",
    "VDB_URL = conf_infra.vdb_url\n",
    "INDEX_NAME = conf_settings.vdb_index\n"
   ]
  },
  {
   "cell_type": "markdown",
   "id": "1c2cf4c6",
   "metadata": {},
   "source": [
    "# Environment Variables"
   ]
  },
  {
   "cell_type": "code",
   "execution_count": 65,
   "id": "d76475a0",
   "metadata": {},
   "outputs": [],
   "source": [
    "load_dotenv()\n",
    "OPENAI_API_KEY = os.getenv(\"OPENAI_API_KEY\")\n",
    "QDRANT_API_KEY = os.getenv(\"QDRANT_API_KEY\")"
   ]
  },
  {
   "cell_type": "markdown",
   "id": "6077a74e",
   "metadata": {},
   "source": [
    "# Clients"
   ]
  },
  {
   "cell_type": "code",
   "execution_count": 66,
   "id": "92ad2b3a",
   "metadata": {},
   "outputs": [
    {
     "name": "stderr",
     "output_type": "stream",
     "text": [
      "C:\\Users\\manua\\AppData\\Local\\Temp\\ipykernel_2412\\2808977317.py:6: RuntimeWarning: coroutine 'VectorStore.asimilarity_search' was never awaited\n",
      "  _ = llm.invoke(\"tell me a joke about devops\")\n",
      "RuntimeWarning: Enable tracemalloc to get the object allocation traceback\n"
     ]
    }
   ],
   "source": [
    "llm = ChatOpenAI(\n",
    "    api_key=OPENAI_API_KEY,\n",
    "    model=LLM_WORKHORSE,\n",
    "    )\n",
    "try:\n",
    "    _ = llm.invoke(\"tell me a joke about devops\")\n",
    "except Exception as err:\n",
    "    print(err)\n",
    "\n",
    "    \n",
    "embeddings = OpenAIEmbeddings(api_key=OPENAI_API_KEY, model=EMBEDDINGS)\n",
    "try:\n",
    "    _ = embeddings.embed_query(\"healthcheck\")\n",
    "\n",
    "except Exception as err:\n",
    "    print(err)\n",
    "\n",
    "\n",
    "\n",
    "vector_store = QdrantVectorStore.from_existing_collection(\n",
    "    embedding=embeddings,\n",
    "    collection_name=INDEX_NAME,\n",
    "    url=VDB_URL,\n",
    "    api_key=QDRANT_API_KEY,\n",
    ")\n",
    "try:\n",
    "    _ = vector_store.asimilarity_search(\"healthcheck\")\n",
    "except Exception as err:\n",
    "    print(err)\n",
    "\n",
    "\n"
   ]
  },
  {
   "cell_type": "code",
   "execution_count": 67,
   "id": "00a8bfdf",
   "metadata": {},
   "outputs": [],
   "source": [
    "llm = ChatOpenAI(\n",
    "    api_key=OPENAI_API_KEY,\n",
    "    model=LLM_WORKHORSE,\n",
    "    )\n",
    "\n"
   ]
  },
  {
   "cell_type": "markdown",
   "id": "36552259",
   "metadata": {},
   "source": [
    "# Cleaning"
   ]
  },
  {
   "cell_type": "code",
   "execution_count": 68,
   "id": "0c251434",
   "metadata": {},
   "outputs": [
    {
     "data": {
      "text/plain": [
       "AIMessage(content='What are the primary causes of the decline in bee populations globally?', additional_kwargs={'refusal': None}, response_metadata={'token_usage': {'completion_tokens': 13, 'prompt_tokens': 111, 'total_tokens': 124, 'completion_tokens_details': {'accepted_prediction_tokens': 0, 'audio_tokens': 0, 'reasoning_tokens': 0, 'rejected_prediction_tokens': 0}, 'prompt_tokens_details': {'audio_tokens': 0, 'cached_tokens': 0}}, 'model_name': 'gpt-4.1-mini-2025-04-14', 'system_fingerprint': 'fp_6d7dcc9a98', 'id': 'chatcmpl-CF7OBv93pOn23NHXQGnNVmXRHgbOp', 'service_tier': 'default', 'finish_reason': 'stop', 'logprobs': None}, id='run--18cf9ab4-26a7-41ac-a0d9-3446f02d52bc-0', usage_metadata={'input_tokens': 111, 'output_tokens': 13, 'total_tokens': 124, 'input_token_details': {'audio': 0, 'cache_read': 0}, 'output_token_details': {'audio': 0, 'reasoning': 0}})"
      ]
     },
     "execution_count": 68,
     "metadata": {},
     "output_type": "execute_result"
    }
   ],
   "source": [
    "from langchain_core.prompts import ChatPromptTemplate\n",
    "from langchain_core.output_parsers import StrOutputParser\n",
    "\n",
    "from pydantic import BaseModel, Field\n",
    "from enum import Enum\n",
    "\n",
    "    \n",
    "\n",
    "\n",
    "qrewrite_template = \"\"\"You are an assistant tasked with taking a natural languge query from a user\n",
    "    and converting it into a query for a vectorstore. In the process, strip out all \n",
    "    infohrmation that is not relevant for te retrieval task and return a new, simplified\n",
    "    question for vectorstore retrieval.\n",
    "    For example:\n",
    "    * Fix typing mistakes\n",
    "    * Remove irrelevant information for the retrieval task\n",
    "    Question: {question} \"\"\"\n",
    "\n",
    "prompt_qrewrite= ChatPromptTemplate.from_template(qrewrite_template)\n",
    "chain_qrewrite = prompt_qrewrite | llm\n",
    "\n",
    "chain_qrewrite.invoke(\n",
    "    {\n",
    "        \"question\": \"I love nature. What are the primary causes of the decline in bee populations globally?\",\n",
    "    }\n",
    ")\n"
   ]
  },
  {
   "cell_type": "code",
   "execution_count": 69,
   "id": "c95c6df0",
   "metadata": {},
   "outputs": [
    {
     "data": {
      "text/plain": [
       "AIMessage(content='Qué telescopio descubrió Althera y de qué tipo era (óptico, infrarrojo u otro).', additional_kwargs={'refusal': None}, response_metadata={'token_usage': {'completion_tokens': 24, 'prompt_tokens': 119, 'total_tokens': 143, 'completion_tokens_details': {'accepted_prediction_tokens': 0, 'audio_tokens': 0, 'reasoning_tokens': 0, 'rejected_prediction_tokens': 0}, 'prompt_tokens_details': {'audio_tokens': 0, 'cached_tokens': 0}}, 'model_name': 'gpt-4.1-mini-2025-04-14', 'system_fingerprint': 'fp_4fce0778af', 'id': 'chatcmpl-CF7ODYdXFXdvz3nZyuZj6EbzM6vNM', 'service_tier': 'default', 'finish_reason': 'stop', 'logprobs': None}, id='run--15bb98bd-303d-46d8-a63b-2cf46805e4cf-0', usage_metadata={'input_tokens': 119, 'output_tokens': 24, 'total_tokens': 143, 'input_token_details': {'audio': 0, 'cache_read': 0}, 'output_token_details': {'audio': 0, 'reasoning': 0}})"
      ]
     },
     "execution_count": 69,
     "metadata": {},
     "output_type": "execute_result"
    }
   ],
   "source": [
    "q_raw1 = \"Que telescopio descubrio Althera. Di si fue un telescopio optico o infrarrojo o de otra clase\"\n",
    "\n",
    "q_ref1 = chain_qrewrite.invoke({\"question\": q_raw1})\n",
    "q_ref1"
   ]
  },
  {
   "cell_type": "code",
   "execution_count": 70,
   "id": "e8b49d88",
   "metadata": {},
   "outputs": [
    {
     "data": {
      "text/plain": [
       "AIMessage(content='Who discovered Althera?', additional_kwargs={'refusal': None}, response_metadata={'token_usage': {'completion_tokens': 6, 'prompt_tokens': 107, 'total_tokens': 113, 'completion_tokens_details': {'accepted_prediction_tokens': 0, 'audio_tokens': 0, 'reasoning_tokens': 0, 'rejected_prediction_tokens': 0}, 'prompt_tokens_details': {'audio_tokens': 0, 'cached_tokens': 0}}, 'model_name': 'gpt-4.1-mini-2025-04-14', 'system_fingerprint': 'fp_4fce0778af', 'id': 'chatcmpl-CF7OE57x2hsAKHXpeEqsX791F1a1m', 'service_tier': 'default', 'finish_reason': 'stop', 'logprobs': None}, id='run--95707c0a-2217-4182-915b-0623ddd61b84-0', usage_metadata={'input_tokens': 107, 'output_tokens': 6, 'total_tokens': 113, 'input_token_details': {'audio': 0, 'cache_read': 0}, 'output_token_details': {'audio': 0, 'reasoning': 0}})"
      ]
     },
     "execution_count": 70,
     "metadata": {},
     "output_type": "execute_result"
    }
   ],
   "source": [
    "q_raw2 = \"Quien descubrió Althera, la NASA o la ESA\"\n",
    "\n",
    "q_ref2 = chain_qrewrite.invoke({\"question\": q_raw2})\n",
    "q_ref2"
   ]
  },
  {
   "cell_type": "code",
   "execution_count": 71,
   "id": "89228d20",
   "metadata": {},
   "outputs": [
    {
     "name": "stderr",
     "output_type": "stream",
     "text": [
      "C:\\Users\\manua\\AppData\\Local\\Temp\\ipykernel_2412\\2193883185.py:3: RuntimeWarning: coroutine 'VectorStore.asimilarity_search' was never awaited\n",
      "  rag_graph = rag_agent_builder(\"space\", 3)\n",
      "RuntimeWarning: Enable tracemalloc to get the object allocation traceback\n"
     ]
    },
    {
     "data": {
      "text/plain": [
       "'El telescopio que descubrió el sistema binario Althéra fue el Observatorio Espacial James Webb. Este es un telescopio principalmente de infrarrojo.'"
      ]
     },
     "execution_count": 71,
     "metadata": {},
     "output_type": "execute_result"
    }
   ],
   "source": [
    "from rag import main as rag_agent_builder\n",
    "\n",
    "rag_graph = rag_agent_builder(\"space\", 3)\n",
    "\n",
    "\n",
    "resp = rag_graph.invoke({\"question\": q_raw1})\n",
    "resp['answer']"
   ]
  },
  {
   "cell_type": "code",
   "execution_count": 72,
   "id": "70215603",
   "metadata": {},
   "outputs": [
    {
     "data": {
      "text/plain": [
       "'El sistema binario Althéra fue detectado por primera vez en el año 2032 durante una campaña de observación del Observatorio Espacial James Webb. Este observatorio es un telescopio espacial de tipo infrarrojo.'"
      ]
     },
     "execution_count": 72,
     "metadata": {},
     "output_type": "execute_result"
    }
   ],
   "source": [
    "resp = rag_graph.invoke({\"question\": q_ref1.content})\n",
    "resp['answer']"
   ]
  },
  {
   "cell_type": "markdown",
   "id": "04dac836",
   "metadata": {},
   "source": [
    "# Follow up"
   ]
  },
  {
   "cell_type": "code",
   "execution_count": 73,
   "id": "e26974ea",
   "metadata": {},
   "outputs": [
    {
     "data": {
      "text/plain": [
       "Contextualizer(is_contextualized=False, query_examples='How to convert string to datetime in Python?; Function to parse string into datetime object; String to datetime conversion function in JavaScript.')"
      ]
     },
     "execution_count": 73,
     "metadata": {},
     "output_type": "execute_result"
    }
   ],
   "source": [
    "from typing import Optional  \n",
    "from pydantic import BaseModel, Field\n",
    "\n",
    "\n",
    "class Contextualizer(BaseModel):\n",
    "    \"\"\" \n",
    "    Determine whether a user query is properly contextualized for retrieval.\n",
    "    \"\"\"\n",
    "    is_contextualized: bool = Field(..., description=\"True if the query is properly contextualized, False otherwise\")\n",
    "    query_examples: Optional[str]  = Field(..., description=\"If not properly contextualized, provide a list of similar questions that you consider properly contextualized\")\n",
    "    \n",
    "\n",
    "\n",
    "qfollowup_template = \"\"\"You are an assistant tasked with taking a natural languge query from a user\n",
    "    and evaluating whether it is properly contextualized to perform a retrieval task.\n",
    "    -----\n",
    "    Examples:\n",
    "    Question: ¿Que seguro es más barato?\n",
    "    is_contextualized: False\n",
    "    query_examples: [¿Que seguro de coche es más barato?, ¿Que seguro de autos es más barato?]\n",
    "    ------\n",
    "    Question: {question} \"\"\"\n",
    "\n",
    "prompt_qfollowup= ChatPromptTemplate.from_template(qfollowup_template)\n",
    "chain_qfollowup = prompt_qfollowup | llm.with_structured_output(Contextualizer )\n",
    "\n",
    "chain_qfollowup.invoke(\n",
    "    {\n",
    "        \"question\": \"function string to datetime\",\n",
    "    }\n",
    ")\n"
   ]
  },
  {
   "cell_type": "markdown",
   "id": "584ee9e9",
   "metadata": {},
   "source": [
    "# MultiQuery Retrieval\n",
    "\n",
    "\n",
    "![multiqueryrewrite.png](docs/multiqueryrewrite.png)"
   ]
  },
  {
   "cell_type": "code",
   "execution_count": 74,
   "id": "f6d9d3d7",
   "metadata": {},
   "outputs": [
    {
     "name": "stderr",
     "output_type": "stream",
     "text": [
      "INFO:langchain.retrievers.multi_query:Generated queries: ['1. ¿Cuál institución científica verificó la presencia de cinco planetas principales?', '2. ¿Qué centro de investigación validó la existencia de cinco planetas principales?', '3. ¿Qué organización astronómica confirmó la presencia de cinco planetas principales?']\n"
     ]
    },
    {
     "data": {
      "text/plain": [
       "[Document(metadata={'Header 1': '1. Historia del descubrimiento', 'Header 2': '1.2 Confirmación mediante técnicas combinadas', '_id': 'ef1949a3-3b45-4907-9927-9072a28aad83', '_collection_name': 'space'}, page_content='## 1.2 Confirmación mediante técnicas combinadas  \\nEn los meses siguientes, un consorcio internacional liderado por la Agencia Espacial Europea (ESA) y el Instituto Max Planck de Astronomía desplegó observaciones complementarias utilizando:  \\n- ELT (Extremely Large Telescope) en el Desierto de Atacama para espectroscopía de alta resolución.\\n- Telescopio Espacial Nancy Grace Roman para fotometría de gran precisión en tránsitos.\\n- Interferometría de radio desde la red Very Long Baseline Array (VLBA) para afinar la distancia y parámetros orbitales del sistema.  \\nFue el equipo del astrónomo estadounidense Dr. Jonathan Kepler-Saunders quien confirmó, mediante el método de velocidad radial ultraestable, la existencia de cinco planetas principales y varios cinturones de escombros.'),\n",
       " Document(metadata={'Header 1': '4. Estructura general del sistema planetario', 'Header 2': '5. Planetas interiores', '_id': '1ca8208c-dfa3-440b-925b-65534c0f580e', '_collection_name': 'space'}, page_content='## 5. Planetas interiores  \\nEn el sistema Althéra , los tres planetas interiores orbitan completamente fuera de la influencia gravitacional directa de cada estrella individual y giran en torno al centro de masa binario. La información disponible procede de una combinación de espectroscopía de transmisión, curvas de luz de tránsito y modelado teórico, por lo que algunos detalles siguen siendo objeto de debate en la comunidad científica.'),\n",
       " Document(metadata={'Header 1': '6. Planetas exteriores', '_id': '4f140e49-4539-4bda-923e-4f28b2a29ced', '_collection_name': 'space'}, page_content='# 6. Planetas exteriores  \\nLos dos planetas exteriores de Althéra , Zephyros IV y Krion V , ejercen una influencia gravitacional decisiva en la estabilidad del sistema circumbinario. Ambos muestran características que los convierten en auténticos mundos exóticos, y sus sistemas de lunas ofrecen laboratorios naturales para la exploración futura.'),\n",
       " Document(metadata={'Header 1': '4. Estructura general del sistema planetario', 'Header 2': '4.1 Distribución de órbitas y distancias medias', '_id': '420dcceb-2759-4b4c-915a-916e42e849be', '_collection_name': 'space'}, page_content='# 4. Estructura general del sistema planetario  \\n## 4.1 Distribución de órbitas y distancias medias  \\nEl sistema circumbinario de Althéra alberga cinco planetas principales, múltiples lunas y un cinturón de asteroides prominente. Las órbitas son relativamente coplanares, con inclinaciones menores a 3°, lo que sugiere una formación a partir de un disco protoplanetario bien definido.  \\n<!-- image -->\\nimage_content: Planetas del sistema Althéra: distancia vs masa\\\\n\\\\n|  Masa (M) | Distancia al baricentro (UA)  |\\\\n| --- | --- |\\\\n|  1 | 7  |\\\\n|  2 | 6  |\\\\n|  3 | 5  |\\\\n|  4 | 4  |\\\\n|  5 | 5  |\\\\n|  6 | 6  |\\\\n|  7 | 7  |\\\\n|  8 | 8  |\\\\n\\\\n  \\nA continuación se muestran las distancias medias al baricentro binario y los períodos orbitales:  \\n| Cuerpo                     | Tipo                 | Distancia media (UA)   | Periodo orbital (días terrestres)   |\\n|----------------------------|----------------------|------------------------|-------------------------------------|\\n| Thyros I ( HD 4579 Ab )    | Rocoso               | 0,78                   | 215                                 |\\n| Névalis II ( HD 4579 Ac )  | Rocoso               | 1,36                   | 397                                 |\\n| Cinturón de Arges          | Asteroides metálicos | 1,65 - 1,85            |                                     |\\n| Aurelia III ( HD 4579 Ad ) | Rocoso, habitable    | 2,21                   | 589                                 |\\n| Zephyros IV ( HD 4579 Ae ) | Gigante gaseoso      | 4,92                   | 2.689                               |\\n| Krion V ( HD 4579 Af )     | Gigante helado       | 8,14                   | 6.873                               |')]"
      ]
     },
     "execution_count": 74,
     "metadata": {},
     "output_type": "execute_result"
    }
   ],
   "source": [
    "from langchain.retrievers.multi_query import MultiQueryRetriever\n",
    "from langchain_openai import ChatOpenAI\n",
    "\n",
    "question = \"¿Qué observatorio confirmó la existencia de cinco planetas principales?\"\n",
    "llm = ChatOpenAI(temperature=0.4)\n",
    "retriever_from_llm = MultiQueryRetriever.from_llm(\n",
    "    retriever=vector_store.as_retriever(),\n",
    "    llm=llm,\n",
    "    include_original=True\n",
    ")\n",
    "\n",
    "import logging\n",
    "\n",
    "logging.basicConfig()\n",
    "logging.getLogger(\"langchain.retrievers.multi_query\").setLevel(logging.INFO)\n",
    "\n",
    "retriever_from_llm.invoke(question)"
   ]
  },
  {
   "cell_type": "code",
   "execution_count": 75,
   "id": "4353ab7e",
   "metadata": {},
   "outputs": [
    {
     "name": "stderr",
     "output_type": "stream",
     "text": [
      "INFO:langchain.retrievers.multi_query:Generated queries: ['1. ¿Cuál fue el instrumento utilizado para verificar la presencia de cinco planetas principales?', '2. ¿Qué dispositivo se utilizó para confirmar la existencia de cinco planetas principales?', '3. ¿Qué herramienta científica se empleó para corroborar la presencia de cinco planetas principales?']\n"
     ]
    },
    {
     "data": {
      "text/plain": [
       "[Document(metadata={'Header 1': '1. Historia del descubrimiento', 'Header 2': '1.2 Confirmación mediante técnicas combinadas', '_id': 'ef1949a3-3b45-4907-9927-9072a28aad83', '_collection_name': 'space'}, page_content='## 1.2 Confirmación mediante técnicas combinadas  \\nEn los meses siguientes, un consorcio internacional liderado por la Agencia Espacial Europea (ESA) y el Instituto Max Planck de Astronomía desplegó observaciones complementarias utilizando:  \\n- ELT (Extremely Large Telescope) en el Desierto de Atacama para espectroscopía de alta resolución.\\n- Telescopio Espacial Nancy Grace Roman para fotometría de gran precisión en tránsitos.\\n- Interferometría de radio desde la red Very Long Baseline Array (VLBA) para afinar la distancia y parámetros orbitales del sistema.  \\nFue el equipo del astrónomo estadounidense Dr. Jonathan Kepler-Saunders quien confirmó, mediante el método de velocidad radial ultraestable, la existencia de cinco planetas principales y varios cinturones de escombros.'),\n",
       " Document(metadata={'Header 1': '4. Estructura general del sistema planetario', 'Header 2': '5. Planetas interiores', '_id': '1ca8208c-dfa3-440b-925b-65534c0f580e', '_collection_name': 'space'}, page_content='## 5. Planetas interiores  \\nEn el sistema Althéra , los tres planetas interiores orbitan completamente fuera de la influencia gravitacional directa de cada estrella individual y giran en torno al centro de masa binario. La información disponible procede de una combinación de espectroscopía de transmisión, curvas de luz de tránsito y modelado teórico, por lo que algunos detalles siguen siendo objeto de debate en la comunidad científica.'),\n",
       " Document(metadata={'Header 1': '4. Estructura general del sistema planetario', 'Header 2': '4.1 Distribución de órbitas y distancias medias', '_id': '420dcceb-2759-4b4c-915a-916e42e849be', '_collection_name': 'space'}, page_content='# 4. Estructura general del sistema planetario  \\n## 4.1 Distribución de órbitas y distancias medias  \\nEl sistema circumbinario de Althéra alberga cinco planetas principales, múltiples lunas y un cinturón de asteroides prominente. Las órbitas son relativamente coplanares, con inclinaciones menores a 3°, lo que sugiere una formación a partir de un disco protoplanetario bien definido.  \\n<!-- image -->\\nimage_content: Planetas del sistema Althéra: distancia vs masa\\\\n\\\\n|  Masa (M) | Distancia al baricentro (UA)  |\\\\n| --- | --- |\\\\n|  1 | 7  |\\\\n|  2 | 6  |\\\\n|  3 | 5  |\\\\n|  4 | 4  |\\\\n|  5 | 5  |\\\\n|  6 | 6  |\\\\n|  7 | 7  |\\\\n|  8 | 8  |\\\\n\\\\n  \\nA continuación se muestran las distancias medias al baricentro binario y los períodos orbitales:  \\n| Cuerpo                     | Tipo                 | Distancia media (UA)   | Periodo orbital (días terrestres)   |\\n|----------------------------|----------------------|------------------------|-------------------------------------|\\n| Thyros I ( HD 4579 Ab )    | Rocoso               | 0,78                   | 215                                 |\\n| Névalis II ( HD 4579 Ac )  | Rocoso               | 1,36                   | 397                                 |\\n| Cinturón de Arges          | Asteroides metálicos | 1,65 - 1,85            |                                     |\\n| Aurelia III ( HD 4579 Ad ) | Rocoso, habitable    | 2,21                   | 589                                 |\\n| Zephyros IV ( HD 4579 Ae ) | Gigante gaseoso      | 4,92                   | 2.689                               |\\n| Krion V ( HD 4579 Af )     | Gigante helado       | 8,14                   | 6.873                               |'),\n",
       " Document(metadata={'Header 1': '1. Historia del descubrimiento', 'Header 2': '1.1 Primeras observaciones y sospechas iniciales', '_id': '911f10a5-60ed-4b0d-a557-e7e6ad36128a', '_collection_name': 'space'}, page_content='# 1. Historia del descubrimiento  \\n## 1.1 Primeras observaciones y sospechas iniciales  \\nEl sistema binario Althéra ( HD 4579 AB ) fue detectado por primera vez en el año 2032 durante una campaña de observación del Observatorio Espacial James Webb , dirigida por la astrofísica chilena Dra. Mariela Estay . La misión principal era estudiar la composición atmosférica de exoplanetas candidatos a la habitabilidad, pero un patrón anómalo en el flujo luminoso proveniente de la constelación de Orión llamó la atención del equipo. El análisis de curvas de luz reveló oscilaciones periódicas dobles, un indicio claro de la presencia de dos estrellas en órbita mutua y varios cuerpos orbitando de forma circumbinaria.'),\n",
       " Document(metadata={'Header 1': '6. Planetas exteriores', '_id': '4f140e49-4539-4bda-923e-4f28b2a29ced', '_collection_name': 'space'}, page_content='# 6. Planetas exteriores  \\nLos dos planetas exteriores de Althéra , Zephyros IV y Krion V , ejercen una influencia gravitacional decisiva en la estabilidad del sistema circumbinario. Ambos muestran características que los convierten en auténticos mundos exóticos, y sus sistemas de lunas ofrecen laboratorios naturales para la exploración futura.'),\n",
       " Document(metadata={'Header 1': '4. Estructura general del sistema planetario', 'Header 2': '4.2 Tipología de planetas', '_id': 'b8a3784e-0b60-4309-b96e-f8b914178e4c', '_collection_name': 'space'}, page_content='## 4.2 Tipología de planetas  \\n- Rocosos interiores: Thyros I y Névalis II presentan composiciones basadas en silicatos y metales, con escasa o nula actividad atmosférica en el primero y atmósfera densa de CO₂ en el segundo.\\n- Planeta habitable: Aurelia III , en la zona habitable circumbinaria, combina océanos líquidos y atmósfera respirable, con una climatología compleja debido al doble ciclo solar.\\n- Gigantes exteriores: Zephyros IV y Krion V ejercen un papel protector al desviar cometas y asteroides, estabilizando el entorno interior.')]"
      ]
     },
     "execution_count": 75,
     "metadata": {},
     "output_type": "execute_result"
    }
   ],
   "source": [
    "question = \"¿Qué instrumento confirmó la existencia de cinco planetas principales?\"\n",
    "\n",
    "retriever_from_llm.invoke(question)"
   ]
  },
  {
   "cell_type": "code",
   "execution_count": 76,
   "id": "37e7b735",
   "metadata": {},
   "outputs": [
    {
     "name": "stderr",
     "output_type": "stream",
     "text": [
      "INFO:langchain.retrievers.multi_query:Generated queries: ['1. What is the relationship between Directed Acyclic Graphs (DAGs) and Airflow?', '2. How does Airflow utilize Directed Acyclic Graphs (DAGs) in its workflow management system?', '3. Can you explain the integration of DAGs and Airflow in data pipeline orchestration?']\n"
     ]
    },
    {
     "data": {
      "text/plain": [
       "[Document(metadata={'Header 1': '2. Conoce a Althéra', 'Header 2': '2.2 Disposición y dinámica de un sistema binario', '_id': 'd4bf1036-0a1c-4683-bdfe-b1d663f5ef6a', '_collection_name': 'space'}, page_content='## 2.2 Disposición y dinámica de un sistema binario'),\n",
       " Document(metadata={'Header 1': '8. Fenómenos destacados', '_id': 'c0b37e44-9b92-475a-981d-c9f0054e2b50', '_collection_name': 'space'}, page_content=\"# 8. Fenómenos destacados  \\nEl sistema Althéra es un escenario dinámico donde los fenómenos astronómicos se manifiestan con una belleza y complejidad difícil de encontrar en sistemas de una sola estrella. Entre ellos, uno de los más notables es la interacción constante entre el Cinturón de Arges y los planetas interiores, que da lugar a lluvias de meteoros dobles visibles desde Aurelia III. Debido a la iluminación combinada de Althéra A y B, estos meteoros generan estelas de colores inusuales: plateadas bajo la luz dorada de Althéra A y anaranjadas bajo la luz más cálida de Althéra B, un espectáculo que ha sido registrado en imágenes de alta resolución por el telescopio espacial James Webb .  \\nOtro fenómeno fascinante son las auroras polares dobles en Zephyros IV. El potente campo magnético del gigante gaseoso interactúa no solo con el viento estelar, sino con las variaciones periódicas del flujo de plasma generadas por la rotación y actividad de ambas estrellas. El resultado es un ballet de cortinas luminosas que puede extenderse miles de kilómetros por encima de la atmósfera superior, cambiando de tonalidades verde-azuladas a magentas intensos. Estas auroras se reflejan en los anillos helados del planeta, creando destellos visibles desde la órbita de Aurelia III.  \\nLas resonancias orbitales juegan también un papel clave en la estructura del sistema. Los movimientos sincronizados entre las lunas de Zephyros y Krion, junto con la influencia gravitatoria combinada de ambos gigantes, mantienen despejadas regiones enteras del disco de escombros exterior. Este 'barrido' gravitacional, sin embargo, no es perfecto: de cuando en cuando, un objeto helado es lanzado hacia el interior, cruzando la zona habitable y provocando espectaculares pasos cercanos a Aurelia III, sin llegar a impactar gracias a la protección gravitatoria de Zephyros IV.\"),\n",
       " Document(metadata={'Header 1': '3. Los soles de Althéra', 'Header 2': 'Adéndum: Althéra A y B: Una danza de luz y gravedad', '_id': 'eee5bb0f-23c6-49a0-8a86-f718e0c46f29', '_collection_name': 'space'}, page_content='## Adéndum: Althéra A y B: Una danza de luz y gravedad  \\nCuando Althéra A agote el hidrógeno de su núcleo y entre en su fase de gigante roja , su radio podría expandirse hasta abarcar más de 1 UA , envolviendo potencialmente las órbitas interiores y alterando drásticamente la estabilidad de cualquier planeta cercano. Durante este proceso, perderá gran parte de su masa por vientos estelares intensos, lo que provocará una expansión general de las órbitas circumbinarias. La disminución de masa en el sistema reducirá la atracción gravitatoria sobre Althéra B , aumentando la separación media entre ambas y debilitando su interacción. Una vez que Althéra A expulse sus capas exteriores y se transforme en una enana blanca caliente, su contribución luminosa será mínima, dejando a Althéra B como la principal fuente de energía para los planetas supervivientes. Este cambio podría desplazar la zona habitable hacia el interior y, en consecuencia, modificar radicalmente la habitabilidad de mundos como Aurelia III .'),\n",
       " Document(metadata={'Header 1': '8. Fenómenos destacados', 'Header 2': 'Adéndum: Debate científico sobre la habitabilidad de Aurelia III', '_id': 'b79cd0d6-49fd-49b2-96d2-b01112bd9252', '_collection_name': 'space'}, page_content=\"## Adéndum: Debate científico sobre la habitabilidad de Aurelia III  \\nLa comunidad científica se encuentra dividida respecto a las implicaciones de los datos de Aurelia III. Por un lado, investigadores como la Dra. Mariela Estay sostienen que el desequilibrio químico de su atmósfera constituye una 'firma biológica sólida' y que su ubicación estable en la zona habitable circumbinaria refuerza la probabilidad de vida. Por otro, expertos más cautelosos, como el Dr. Jonathan Kepler-Saunders, advierten que procesos abióticos complejos -incluyendo fotólisis catalizada por la radiación combinada de las dos estrellas- podrían generar patrones gaseosos que imitan señales biológicas. Entre ambos extremos, un grupo intermedio propone que Aurelia III podría estar en una 'pre-biosfera', una etapa química avanzada previa al  \\nsurgimiento de organismos, lo que la haría igualmente valiosa para comprender el origen de la vida.\"),\n",
       " Document(metadata={'Header 1': '6. Planetas exteriores', 'Header 2': '6.3 Sistemas de anillos y lunas notables', '_id': '3874bf9d-d16d-423e-a0b4-95cd933a3462', '_collection_name': 'space'}, page_content='## 6.3 Sistemas de anillos y lunas notables  \\nTanto Zephyros IV como Krion V presentan estructuras de anillos visibles, aunque los de Krion son más delgados y oscuros, compuestos mayoritariamente por polvo carbonáceo. Las lunas interiores de Zephyros interactúan gravitacionalmente con el sistema de anillos, generando ondas espirales similares a las observadas en Saturno.'),\n",
       " Document(metadata={'Header 1': '1. Historia del descubrimiento', 'Header 2': '1.4 Importancia científica y proyección futura', '_id': 'dea169aa-22d8-42e7-b722-fe80677ccf90', '_collection_name': 'space'}, page_content='## 1.4 Importancia científica y proyección futura  \\nEl descubrimiento de Althéra revolucionó la astrobiología y la física orbital por tres razones clave:  \\n1. Dinámica circumbinaria estable - demostró que los planetas pueden mantener órbitas estables y climas equilibrados alrededor de dos soles, desafiando modelos anteriores.\\n2. Química atmosférica compleja - Aurelia III presenta una mezcla de gases que, en equilibrio fotoquímico, sugieren procesos biológicos o geoquímicos activos.\\n3. Proximidad relativa - su cercanía permite observaciones directas en la próxima década con telescopios como el Habitable Worlds Observatory (HWO) y misiones de espectrometría directa de superficie como Starshot Spectra .  \\nEn 2036, la Unión Astronómica Internacional otorgó a este hallazgo el Premio Messier de Descubrimiento Astronómico y estableció el Programa Althéra , un plan coordinado de investigación que combina observaciones remotas, simulaciones climáticas y diseño de futuras sondas interestelares.'),\n",
       " Document(metadata={'Header 2': 'Un nuevo y fascinante vecino: Althéra', '_id': '0747288a-a9e0-402f-9b4c-f89686cd3dd6', '_collection_name': 'space'}, page_content='## Un nuevo y fascinante vecino: Althéra'),\n",
       " Document(metadata={'Header 1': '6. Planetas exteriores', 'Header 2': '6.1 Zephyros IV - El gigante anillado de los destellos polares ( HD 4579 Ae )', '_id': 'a94062cd-4f56-4754-a79b-c0d8cd71b6ea', '_collection_name': 'space'}, page_content='## 6.1 Zephyros IV - El gigante anillado de los destellos polares ( HD 4579 Ae )  \\n- Tipo: Gigante gaseoso.\\n- Distancia media: 4,92 UA.\\n- Periodo orbital: 2.689 días terrestres (~7,36 años).\\n- Radio estimado: 1,07 R ♃ .\\n- Composición atmosférica: Hidrógeno, helio, amoníaco y trazas de hidrocarburos.')]"
      ]
     },
     "execution_count": 76,
     "metadata": {},
     "output_type": "execute_result"
    }
   ],
   "source": [
    "question = \"DAG en Airflow\"\n",
    "\n",
    "retriever_from_llm.invoke(question)"
   ]
  },
  {
   "cell_type": "markdown",
   "id": "fb69936a",
   "metadata": {},
   "source": [
    "```python \n",
    "\n",
    "# Default prompt\n",
    "DEFAULT_QUERY_PROMPT = PromptTemplate(\n",
    "    input_variables=[\"question\"],\n",
    "    template=\"\"\"You are an AI language model assistant. Your task is\n",
    "    to generate 3 different versions of the given user\n",
    "    question to retrieve relevant documents from a vector  database.\n",
    "    By generating multiple perspectives on the user question,\n",
    "    your goal is to help the user overcome some of the limitations\n",
    "    of distance-based similarity search. Provide these alternative\n",
    "    questions separated by newlines. Original question: {question}\"\"\",\n",
    ")\n",
    "\n",
    "\n",
    "```\n",
    "\n",
    "\n",
    "https://python.langchain.com/api_reference/_modules/langchain/retrievers/multi_query.html#MultiQueryRetriever"
   ]
  },
  {
   "cell_type": "code",
   "execution_count": 77,
   "id": "e716f2c6",
   "metadata": {},
   "outputs": [
    {
     "name": "stderr",
     "output_type": "stream",
     "text": [
      "INFO:langchain.retrievers.multi_query:Generated queries: ['query_examples: [¿Qué observatorio validó la existencia de cinco planetas principales?, ¿Qué institución confirmó la presencia de cinco planetas principales?, ¿Qué entidad verificó la existencia de cinco planetas principales?]']\n"
     ]
    },
    {
     "data": {
      "text/plain": [
       "[Document(metadata={'Header 1': '1. Historia del descubrimiento', 'Header 2': '1.2 Confirmación mediante técnicas combinadas', '_id': 'ef1949a3-3b45-4907-9927-9072a28aad83', '_collection_name': 'space'}, page_content='## 1.2 Confirmación mediante técnicas combinadas  \\nEn los meses siguientes, un consorcio internacional liderado por la Agencia Espacial Europea (ESA) y el Instituto Max Planck de Astronomía desplegó observaciones complementarias utilizando:  \\n- ELT (Extremely Large Telescope) en el Desierto de Atacama para espectroscopía de alta resolución.\\n- Telescopio Espacial Nancy Grace Roman para fotometría de gran precisión en tránsitos.\\n- Interferometría de radio desde la red Very Long Baseline Array (VLBA) para afinar la distancia y parámetros orbitales del sistema.  \\nFue el equipo del astrónomo estadounidense Dr. Jonathan Kepler-Saunders quien confirmó, mediante el método de velocidad radial ultraestable, la existencia de cinco planetas principales y varios cinturones de escombros.'),\n",
       " Document(metadata={'Header 1': '4. Estructura general del sistema planetario', 'Header 2': '5. Planetas interiores', '_id': '1ca8208c-dfa3-440b-925b-65534c0f580e', '_collection_name': 'space'}, page_content='## 5. Planetas interiores  \\nEn el sistema Althéra , los tres planetas interiores orbitan completamente fuera de la influencia gravitacional directa de cada estrella individual y giran en torno al centro de masa binario. La información disponible procede de una combinación de espectroscopía de transmisión, curvas de luz de tránsito y modelado teórico, por lo que algunos detalles siguen siendo objeto de debate en la comunidad científica.'),\n",
       " Document(metadata={'Header 1': '6. Planetas exteriores', '_id': '4f140e49-4539-4bda-923e-4f28b2a29ced', '_collection_name': 'space'}, page_content='# 6. Planetas exteriores  \\nLos dos planetas exteriores de Althéra , Zephyros IV y Krion V , ejercen una influencia gravitacional decisiva en la estabilidad del sistema circumbinario. Ambos muestran características que los convierten en auténticos mundos exóticos, y sus sistemas de lunas ofrecen laboratorios naturales para la exploración futura.'),\n",
       " Document(metadata={'Header 1': '4. Estructura general del sistema planetario', 'Header 2': '4.1 Distribución de órbitas y distancias medias', '_id': '420dcceb-2759-4b4c-915a-916e42e849be', '_collection_name': 'space'}, page_content='# 4. Estructura general del sistema planetario  \\n## 4.1 Distribución de órbitas y distancias medias  \\nEl sistema circumbinario de Althéra alberga cinco planetas principales, múltiples lunas y un cinturón de asteroides prominente. Las órbitas son relativamente coplanares, con inclinaciones menores a 3°, lo que sugiere una formación a partir de un disco protoplanetario bien definido.  \\n<!-- image -->\\nimage_content: Planetas del sistema Althéra: distancia vs masa\\\\n\\\\n|  Masa (M) | Distancia al baricentro (UA)  |\\\\n| --- | --- |\\\\n|  1 | 7  |\\\\n|  2 | 6  |\\\\n|  3 | 5  |\\\\n|  4 | 4  |\\\\n|  5 | 5  |\\\\n|  6 | 6  |\\\\n|  7 | 7  |\\\\n|  8 | 8  |\\\\n\\\\n  \\nA continuación se muestran las distancias medias al baricentro binario y los períodos orbitales:  \\n| Cuerpo                     | Tipo                 | Distancia media (UA)   | Periodo orbital (días terrestres)   |\\n|----------------------------|----------------------|------------------------|-------------------------------------|\\n| Thyros I ( HD 4579 Ab )    | Rocoso               | 0,78                   | 215                                 |\\n| Névalis II ( HD 4579 Ac )  | Rocoso               | 1,36                   | 397                                 |\\n| Cinturón de Arges          | Asteroides metálicos | 1,65 - 1,85            |                                     |\\n| Aurelia III ( HD 4579 Ad ) | Rocoso, habitable    | 2,21                   | 589                                 |\\n| Zephyros IV ( HD 4579 Ae ) | Gigante gaseoso      | 4,92                   | 2.689                               |\\n| Krion V ( HD 4579 Af )     | Gigante helado       | 8,14                   | 6.873                               |')]"
      ]
     },
     "execution_count": 77,
     "metadata": {},
     "output_type": "execute_result"
    }
   ],
   "source": [
    "qexpa_template = \"\"\"You are an assistant tasked with taking a natural languge query from a user\n",
    "    and generating more suitable candidates to perform a retrieval task.\n",
    "    Generate 3 different versions withouth changing the main goal of the question\n",
    "    Focus on:\n",
    "    * looking synonyms, related terms or adding explanations of key concepts in the query\n",
    "    * Resolve well known acronyms\n",
    "    * Translate terms to the original query language\n",
    "    Provide these alternative questions separated by newlines. \n",
    "    -----\n",
    "    Examples:\n",
    "    Question: Is Python a good programming language?\n",
    "    query_examples: [Is Python a performant programming language?, Does Python manages memory efficiently?, Is Python a good programming language for data science?]\n",
    "    ------\n",
    "    Original question: {question} \"\"\"\n",
    "\n",
    "# a good example\n",
    "# https://smith.langchain.com/hub/smithing-gold/question-decomposition\n",
    "\n",
    "prompt_qexpa = ChatPromptTemplate.from_template(qexpa_template)\n",
    "\n",
    "\n",
    "question = \"¿Qué observatorio confirmó la existencia de cinco planetas principales?\"\n",
    "retriever_from_llm_custom = MultiQueryRetriever.from_llm(\n",
    "    retriever=vector_store.as_retriever(),\n",
    "    llm=llm,\n",
    "    include_original=True,\n",
    "    prompt=prompt_qexpa\n",
    "\n",
    ")\n",
    "\n",
    "retriever_from_llm_custom.invoke(question)"
   ]
  },
  {
   "cell_type": "code",
   "execution_count": 78,
   "id": "377ae5d3",
   "metadata": {},
   "outputs": [
    {
     "name": "stderr",
     "output_type": "stream",
     "text": [
      "INFO:langchain.retrievers.multi_query:Generated queries: ['Alternative questions:', '¿Qué instrumento validó la existencia de cinco planetas principales?', '¿Qué instrumento demostró la existencia de cinco planetas principales?', '¿Qué instrumento corroboró la existencia de cinco planetas principales?']\n"
     ]
    },
    {
     "data": {
      "text/plain": [
       "[Document(metadata={'Header 1': '6. Planetas exteriores', 'Header 2': 'Adéndum: ¿Son las lunas exteriores superhabitables?', '_id': '9f16ad07-b5b0-4021-b771-0a848e8f5b25', '_collection_name': 'space'}, page_content='## Adéndum: ¿Son las lunas exteriores superhabitables?  \\nSi bien los planetas gigantes exteriores no son habitables, varias de sus lunas ofrecen escenarios tentadores para la astrobiología. Selvaris , con su océano interno protegido por hielo, podría albergar ecosistemas impulsados por calor geotérmico y reacciones químicas entre agua y minerales del núcleo. Calther , a pesar de su superficie gélida y órbita inestable, podría contener bolsas internas de amoníaco líquido que actúen como anticongelante natural, manteniendo microambientes habitables durante parte de su órbita.'),\n",
       " Document(metadata={'Header 1': '7. Lunas y satélites menores', 'Header 2': 'Adéndum: ¿Y si la vida se esconde?', '_id': '142249ea-030d-4e27-9fdd-40bb544c5c12', '_collection_name': 'space'}, page_content=\"## Adéndum: ¿Y si la vida se esconde?  \\nAunque la atención se centra en Selvaris por su océano interno, algunos investigadores -como el equipo de la Dra. Mariela Estay- plantean que Calther podría presentar 'puntos calientes' temporales en su subsuelo, impulsados por flexión mareal durante su órbita excéntrica. Incluso lunas menores como Nydra podrían contener depósitos de hielo mezclado con compuestos orgánicos complejos, potencial semilla para futuras colonizaciones humanas o bases de reabastecimiento en exploraciones interestelares.\"),\n",
       " Document(metadata={'Header 1': '2. Conoce a Althéra', 'Header 2': '2.3 Singularidades astronómicas', '_id': '4d0b5fec-6010-4666-8c0b-e26e24b1b8ba', '_collection_name': 'space'}, page_content='## 2.3 Singularidades astronómicas  \\nLo que hace a Althéra excepcional frente a otros sistemas binarios conocidos es la estabilidad térmica en su zona habitable circumbinaria . Simulaciones realizadas con el Centro de Modelado Planetario de la NASA indican que Aurelia III recibe un flujo de radiación promedio similar al de la Tierra, pero con variaciones estacionales más complejas debido a los ciclos combinados de ambas estrellas.  \\nEntre sus rasgos distintivos:  \\n- Luminiscencia variable combinada: las diferencias de color y brillo entre Althéra A y B generan amaneceres y atardeceres dobles de tonalidades doradas y anaranjadas.\\n- Influencia gravitacional múltiple: la presencia de dos gigantes gaseosos exteriores, Zephyros IV y Krion V, ayuda a limpiar el espacio interior de objetos errantes, protegiendo a los planetas habitables de impactos masivos frecuentes.\\n- Cinturón de Arges activo: región rica en asteroides metálicos, con colisiones frecuentes que producen brillantes lluvias de meteoros observables desde Aurelia III.  \\nEn conjunto, Althéra constituye un laboratorio natural para estudiar cómo la vida -si existe o llegara a desarrollarse- podría adaptarse a condiciones lumínicas, gravitacionales y climáticas mucho más complejas que las de nuestro sistema solar.'),\n",
       " Document(metadata={'Header 1': '8. Fenómenos destacados', 'Header 2': 'Adéndum: Debate científico sobre la habitabilidad de Aurelia III', '_id': 'b79cd0d6-49fd-49b2-96d2-b01112bd9252', '_collection_name': 'space'}, page_content=\"## Adéndum: Debate científico sobre la habitabilidad de Aurelia III  \\nLa comunidad científica se encuentra dividida respecto a las implicaciones de los datos de Aurelia III. Por un lado, investigadores como la Dra. Mariela Estay sostienen que el desequilibrio químico de su atmósfera constituye una 'firma biológica sólida' y que su ubicación estable en la zona habitable circumbinaria refuerza la probabilidad de vida. Por otro, expertos más cautelosos, como el Dr. Jonathan Kepler-Saunders, advierten que procesos abióticos complejos -incluyendo fotólisis catalizada por la radiación combinada de las dos estrellas- podrían generar patrones gaseosos que imitan señales biológicas. Entre ambos extremos, un grupo intermedio propone que Aurelia III podría estar en una 'pre-biosfera', una etapa química avanzada previa al  \\nsurgimiento de organismos, lo que la haría igualmente valiosa para comprender el origen de la vida.\"),\n",
       " Document(metadata={'Header 1': '1. Historia del descubrimiento', 'Header 2': '1.2 Confirmación mediante técnicas combinadas', '_id': 'ef1949a3-3b45-4907-9927-9072a28aad83', '_collection_name': 'space'}, page_content='## 1.2 Confirmación mediante técnicas combinadas  \\nEn los meses siguientes, un consorcio internacional liderado por la Agencia Espacial Europea (ESA) y el Instituto Max Planck de Astronomía desplegó observaciones complementarias utilizando:  \\n- ELT (Extremely Large Telescope) en el Desierto de Atacama para espectroscopía de alta resolución.\\n- Telescopio Espacial Nancy Grace Roman para fotometría de gran precisión en tránsitos.\\n- Interferometría de radio desde la red Very Long Baseline Array (VLBA) para afinar la distancia y parámetros orbitales del sistema.  \\nFue el equipo del astrónomo estadounidense Dr. Jonathan Kepler-Saunders quien confirmó, mediante el método de velocidad radial ultraestable, la existencia de cinco planetas principales y varios cinturones de escombros.'),\n",
       " Document(metadata={'Header 1': '4. Estructura general del sistema planetario', 'Header 2': '5. Planetas interiores', '_id': '1ca8208c-dfa3-440b-925b-65534c0f580e', '_collection_name': 'space'}, page_content='## 5. Planetas interiores  \\nEn el sistema Althéra , los tres planetas interiores orbitan completamente fuera de la influencia gravitacional directa de cada estrella individual y giran en torno al centro de masa binario. La información disponible procede de una combinación de espectroscopía de transmisión, curvas de luz de tránsito y modelado teórico, por lo que algunos detalles siguen siendo objeto de debate en la comunidad científica.'),\n",
       " Document(metadata={'Header 1': '4. Estructura general del sistema planetario', 'Header 2': '4.1 Distribución de órbitas y distancias medias', '_id': '420dcceb-2759-4b4c-915a-916e42e849be', '_collection_name': 'space'}, page_content='# 4. Estructura general del sistema planetario  \\n## 4.1 Distribución de órbitas y distancias medias  \\nEl sistema circumbinario de Althéra alberga cinco planetas principales, múltiples lunas y un cinturón de asteroides prominente. Las órbitas son relativamente coplanares, con inclinaciones menores a 3°, lo que sugiere una formación a partir de un disco protoplanetario bien definido.  \\n<!-- image -->\\nimage_content: Planetas del sistema Althéra: distancia vs masa\\\\n\\\\n|  Masa (M) | Distancia al baricentro (UA)  |\\\\n| --- | --- |\\\\n|  1 | 7  |\\\\n|  2 | 6  |\\\\n|  3 | 5  |\\\\n|  4 | 4  |\\\\n|  5 | 5  |\\\\n|  6 | 6  |\\\\n|  7 | 7  |\\\\n|  8 | 8  |\\\\n\\\\n  \\nA continuación se muestran las distancias medias al baricentro binario y los períodos orbitales:  \\n| Cuerpo                     | Tipo                 | Distancia media (UA)   | Periodo orbital (días terrestres)   |\\n|----------------------------|----------------------|------------------------|-------------------------------------|\\n| Thyros I ( HD 4579 Ab )    | Rocoso               | 0,78                   | 215                                 |\\n| Névalis II ( HD 4579 Ac )  | Rocoso               | 1,36                   | 397                                 |\\n| Cinturón de Arges          | Asteroides metálicos | 1,65 - 1,85            |                                     |\\n| Aurelia III ( HD 4579 Ad ) | Rocoso, habitable    | 2,21                   | 589                                 |\\n| Zephyros IV ( HD 4579 Ae ) | Gigante gaseoso      | 4,92                   | 2.689                               |\\n| Krion V ( HD 4579 Af )     | Gigante helado       | 8,14                   | 6.873                               |'),\n",
       " Document(metadata={'Header 1': '4. Estructura general del sistema planetario', 'Header 2': '4.2 Tipología de planetas', '_id': 'b8a3784e-0b60-4309-b96e-f8b914178e4c', '_collection_name': 'space'}, page_content='## 4.2 Tipología de planetas  \\n- Rocosos interiores: Thyros I y Névalis II presentan composiciones basadas en silicatos y metales, con escasa o nula actividad atmosférica en el primero y atmósfera densa de CO₂ en el segundo.\\n- Planeta habitable: Aurelia III , en la zona habitable circumbinaria, combina océanos líquidos y atmósfera respirable, con una climatología compleja debido al doble ciclo solar.\\n- Gigantes exteriores: Zephyros IV y Krion V ejercen un papel protector al desviar cometas y asteroides, estabilizando el entorno interior.'),\n",
       " Document(metadata={'Header 1': '6. Planetas exteriores', '_id': '4f140e49-4539-4bda-923e-4f28b2a29ced', '_collection_name': 'space'}, page_content='# 6. Planetas exteriores  \\nLos dos planetas exteriores de Althéra , Zephyros IV y Krion V , ejercen una influencia gravitacional decisiva en la estabilidad del sistema circumbinario. Ambos muestran características que los convierten en auténticos mundos exóticos, y sus sistemas de lunas ofrecen laboratorios naturales para la exploración futura.')]"
      ]
     },
     "execution_count": 78,
     "metadata": {},
     "output_type": "execute_result"
    }
   ],
   "source": [
    "question = \"¿Qué instrumento confirmó la existencia de cinco planetas principales?\"\n",
    "retriever_from_llm_custom.invoke(question)"
   ]
  },
  {
   "cell_type": "code",
   "execution_count": 79,
   "id": "ab866967",
   "metadata": {},
   "outputs": [
    {
     "name": "stderr",
     "output_type": "stream",
     "text": [
      "INFO:langchain.retrievers.multi_query:Generated queries: ['query_examples: [¿Fue la NASA la organización que descubrió Althera?, ¿Fue la NASA responsable del descubrimiento de Althera?, ¿Fue la NASA quien encontró Althera?]']\n"
     ]
    },
    {
     "data": {
      "text/plain": [
       "[Document(metadata={'Header 1': '1. Historia del descubrimiento', 'Header 2': '1.4 Importancia científica y proyección futura', '_id': 'dea169aa-22d8-42e7-b722-fe80677ccf90', '_collection_name': 'space'}, page_content='## 1.4 Importancia científica y proyección futura  \\nEl descubrimiento de Althéra revolucionó la astrobiología y la física orbital por tres razones clave:  \\n1. Dinámica circumbinaria estable - demostró que los planetas pueden mantener órbitas estables y climas equilibrados alrededor de dos soles, desafiando modelos anteriores.\\n2. Química atmosférica compleja - Aurelia III presenta una mezcla de gases que, en equilibrio fotoquímico, sugieren procesos biológicos o geoquímicos activos.\\n3. Proximidad relativa - su cercanía permite observaciones directas en la próxima década con telescopios como el Habitable Worlds Observatory (HWO) y misiones de espectrometría directa de superficie como Starshot Spectra .  \\nEn 2036, la Unión Astronómica Internacional otorgó a este hallazgo el Premio Messier de Descubrimiento Astronómico y estableció el Programa Althéra , un plan coordinado de investigación que combina observaciones remotas, simulaciones climáticas y diseño de futuras sondas interestelares.'),\n",
       " Document(metadata={'Header 2': 'Índice', '_id': '1ed8ae53-48ca-4323-b5a7-6f3bb7677879', '_collection_name': 'space'}, page_content='## Índice  \\n1. Historia del descubrimiento\\n2. Conoce a Althéra\\n3. Los soles de Althéra\\n4. Estructura general de Althéra\\n5. Planetas interiores\\n6. Planetas exteriores\\n7. Lunas y satélites menores\\n8. Fenómenos destacados\\n9. Habitabilidad y astrobiología\\n10. Conclusiones y perspectivas futuras'),\n",
       " Document(metadata={'Header 1': '10. Conclusiones y perspectivas futuras', '_id': 'a24d2123-7bf6-4f19-923b-2d97605b1fe3', '_collection_name': 'space'}, page_content='Si los indicios actuales se confirman, Althéra podría convertirse en el primer ejemplo documentado de un mundo con vida más allá del Sistema Solar. Y aun si la vida no está presente, sus particularidades físicas y orbitales nos permitirán refinar nuestros modelos de formación planetaria y habitabilidad, preparándonos para interpretar con mayor precisión los hallazgos que nos esperan en las próximas décadas. En cualquier caso, el cielo doble de Althéra seguirá siendo un faro para la exploración humana, recordándonos que la diversidad del cosmos siempre supera nuestras expectativas.'),\n",
       " Document(metadata={'Header 1': '10. Conclusiones y perspectivas futuras', '_id': 'de82cd0e-5d82-4650-92a1-7de9a076201a', '_collection_name': 'space'}, page_content='# 10. Conclusiones y perspectivas futuras  \\nEl sistema binario Althéra se ha consolidado como uno de los laboratorios naturales más fascinantes para la astronomía y la astrobiología contemporáneas. Su combinación de una zona habitable circumbinaria estable, un planeta potencialmente habitable Aurelia III - y lunas ricas en agua, lo convierten en un caso de estudio único para explorar cómo la vida podría surgir y adaptarse en entornos con condiciones estelares complejas.  \\nLa dinámica orbital de sus planetas y lunas, modelada con precisión gracias a la cooperación de telescopios espaciales como el James Webb , el LUVOIR-B y el próximo Habitable Worlds Observatory , ha permitido trazar un mapa detallado del sistema, aunque aún persisten incertidumbres sobre la composición interna de varios cuerpos. La interacción gravitatoria y radiativa de sus dos estrellas plantea preguntas fundamentales sobre la estabilidad climática a escalas de millones de años, un aspecto crucial para evaluar la habitabilidad a largo plazo.  \\nEn el futuro, el Programa Althéra prevé varias líneas de investigación prioritarias: observaciones de espectroscopía directa de superficie en Aurelia III, estudios de plumas en Selvaris mediante ocultaciones estelares, y simulaciones avanzadas sobre la resiliencia de biosferas en entornos circumbinarios. En el plano más ambicioso, se discuten misiones interestelares de tipo Breakthrough Starshot adaptadas para sondas científicas, capaces de alcanzar el sistema en menos de medio siglo.'),\n",
       " Document(metadata={'Header 1': '2. Conoce a Althéra', 'Header 2': 'Althéra está compuesto por dos estrellas principales :', '_id': 'de3a91a8-024a-4a21-b69b-5e996448f86b', '_collection_name': 'space'}, page_content='## Althéra está compuesto por dos estrellas principales :  \\n- Althéra A ( HD 4579 A ), una enana amarilla-blanca de tipo F7V, más masiva y luminosa que el Sol.  \\n- Althéra B ( HD 4579 B ), una enana naranja de tipo K2V, algo más fría y longeva.  \\nAmbas estrellas orbitan alrededor de un centro de masa común en un periodo de 83 días , con una separación media de 0,42 UA (Unidades Astronómicas). La interacción gravitatoria entre ellas crea un campo de fuerzas complejo que condiciona la estabilidad de los planetas circumbinarios.  \\nA diferencia de los sistemas planetarios con una única estrella, en Althéra la zona habitable se desplaza hacia órbitas más amplias para evitar los efectos térmicos extremos que se producirían en regiones cercanas a cualquiera de las dos estrellas.'),\n",
       " Document(metadata={'Header 1': '1. Historia del descubrimiento', 'Header 2': '1.1 Primeras observaciones y sospechas iniciales', '_id': '911f10a5-60ed-4b0d-a557-e7e6ad36128a', '_collection_name': 'space'}, page_content='# 1. Historia del descubrimiento  \\n## 1.1 Primeras observaciones y sospechas iniciales  \\nEl sistema binario Althéra ( HD 4579 AB ) fue detectado por primera vez en el año 2032 durante una campaña de observación del Observatorio Espacial James Webb , dirigida por la astrofísica chilena Dra. Mariela Estay . La misión principal era estudiar la composición atmosférica de exoplanetas candidatos a la habitabilidad, pero un patrón anómalo en el flujo luminoso proveniente de la constelación de Orión llamó la atención del equipo. El análisis de curvas de luz reveló oscilaciones periódicas dobles, un indicio claro de la presencia de dos estrellas en órbita mutua y varios cuerpos orbitando de forma circumbinaria.')]"
      ]
     },
     "execution_count": 79,
     "metadata": {},
     "output_type": "execute_result"
    }
   ],
   "source": [
    "question = \"¿Fue la NASA quein descubrió Althera?\"\n",
    "retriever_from_llm_custom.invoke(question)"
   ]
  },
  {
   "cell_type": "code",
   "execution_count": 80,
   "id": "ed89ca80",
   "metadata": {},
   "outputs": [
    {
     "name": "stderr",
     "output_type": "stream",
     "text": [
      "INFO:langchain.retrievers.multi_query:Generated queries: ['query_examples: [¿Fue la Agencia Espacial Europea la que descubrió Althera?, ¿Quién fue responsable del descubrimiento de Althera por parte de la ESA?, ¿La ESA fue la entidad que encontró Althera?]']\n"
     ]
    },
    {
     "data": {
      "text/plain": [
       "[Document(metadata={'Header 1': '1. Historia del descubrimiento', 'Header 2': '1.4 Importancia científica y proyección futura', '_id': 'dea169aa-22d8-42e7-b722-fe80677ccf90', '_collection_name': 'space'}, page_content='## 1.4 Importancia científica y proyección futura  \\nEl descubrimiento de Althéra revolucionó la astrobiología y la física orbital por tres razones clave:  \\n1. Dinámica circumbinaria estable - demostró que los planetas pueden mantener órbitas estables y climas equilibrados alrededor de dos soles, desafiando modelos anteriores.\\n2. Química atmosférica compleja - Aurelia III presenta una mezcla de gases que, en equilibrio fotoquímico, sugieren procesos biológicos o geoquímicos activos.\\n3. Proximidad relativa - su cercanía permite observaciones directas en la próxima década con telescopios como el Habitable Worlds Observatory (HWO) y misiones de espectrometría directa de superficie como Starshot Spectra .  \\nEn 2036, la Unión Astronómica Internacional otorgó a este hallazgo el Premio Messier de Descubrimiento Astronómico y estableció el Programa Althéra , un plan coordinado de investigación que combina observaciones remotas, simulaciones climáticas y diseño de futuras sondas interestelares.'),\n",
       " Document(metadata={'Header 2': 'Índice', '_id': '1ed8ae53-48ca-4323-b5a7-6f3bb7677879', '_collection_name': 'space'}, page_content='## Índice  \\n1. Historia del descubrimiento\\n2. Conoce a Althéra\\n3. Los soles de Althéra\\n4. Estructura general de Althéra\\n5. Planetas interiores\\n6. Planetas exteriores\\n7. Lunas y satélites menores\\n8. Fenómenos destacados\\n9. Habitabilidad y astrobiología\\n10. Conclusiones y perspectivas futuras'),\n",
       " Document(metadata={'Header 1': '10. Conclusiones y perspectivas futuras', '_id': 'a24d2123-7bf6-4f19-923b-2d97605b1fe3', '_collection_name': 'space'}, page_content='Si los indicios actuales se confirman, Althéra podría convertirse en el primer ejemplo documentado de un mundo con vida más allá del Sistema Solar. Y aun si la vida no está presente, sus particularidades físicas y orbitales nos permitirán refinar nuestros modelos de formación planetaria y habitabilidad, preparándonos para interpretar con mayor precisión los hallazgos que nos esperan en las próximas décadas. En cualquier caso, el cielo doble de Althéra seguirá siendo un faro para la exploración humana, recordándonos que la diversidad del cosmos siempre supera nuestras expectativas.'),\n",
       " Document(metadata={'Header 1': '10. Conclusiones y perspectivas futuras', '_id': 'de82cd0e-5d82-4650-92a1-7de9a076201a', '_collection_name': 'space'}, page_content='# 10. Conclusiones y perspectivas futuras  \\nEl sistema binario Althéra se ha consolidado como uno de los laboratorios naturales más fascinantes para la astronomía y la astrobiología contemporáneas. Su combinación de una zona habitable circumbinaria estable, un planeta potencialmente habitable Aurelia III - y lunas ricas en agua, lo convierten en un caso de estudio único para explorar cómo la vida podría surgir y adaptarse en entornos con condiciones estelares complejas.  \\nLa dinámica orbital de sus planetas y lunas, modelada con precisión gracias a la cooperación de telescopios espaciales como el James Webb , el LUVOIR-B y el próximo Habitable Worlds Observatory , ha permitido trazar un mapa detallado del sistema, aunque aún persisten incertidumbres sobre la composición interna de varios cuerpos. La interacción gravitatoria y radiativa de sus dos estrellas plantea preguntas fundamentales sobre la estabilidad climática a escalas de millones de años, un aspecto crucial para evaluar la habitabilidad a largo plazo.  \\nEn el futuro, el Programa Althéra prevé varias líneas de investigación prioritarias: observaciones de espectroscopía directa de superficie en Aurelia III, estudios de plumas en Selvaris mediante ocultaciones estelares, y simulaciones avanzadas sobre la resiliencia de biosferas en entornos circumbinarios. En el plano más ambicioso, se discuten misiones interestelares de tipo Breakthrough Starshot adaptadas para sondas científicas, capaces de alcanzar el sistema en menos de medio siglo.'),\n",
       " Document(metadata={'Header 1': '2. Conoce a Althéra', 'Header 2': '2.3 Singularidades astronómicas', '_id': '4d0b5fec-6010-4666-8c0b-e26e24b1b8ba', '_collection_name': 'space'}, page_content='## 2.3 Singularidades astronómicas  \\nLo que hace a Althéra excepcional frente a otros sistemas binarios conocidos es la estabilidad térmica en su zona habitable circumbinaria . Simulaciones realizadas con el Centro de Modelado Planetario de la NASA indican que Aurelia III recibe un flujo de radiación promedio similar al de la Tierra, pero con variaciones estacionales más complejas debido a los ciclos combinados de ambas estrellas.  \\nEntre sus rasgos distintivos:  \\n- Luminiscencia variable combinada: las diferencias de color y brillo entre Althéra A y B generan amaneceres y atardeceres dobles de tonalidades doradas y anaranjadas.\\n- Influencia gravitacional múltiple: la presencia de dos gigantes gaseosos exteriores, Zephyros IV y Krion V, ayuda a limpiar el espacio interior de objetos errantes, protegiendo a los planetas habitables de impactos masivos frecuentes.\\n- Cinturón de Arges activo: región rica en asteroides metálicos, con colisiones frecuentes que producen brillantes lluvias de meteoros observables desde Aurelia III.  \\nEn conjunto, Althéra constituye un laboratorio natural para estudiar cómo la vida -si existe o llegara a desarrollarse- podría adaptarse a condiciones lumínicas, gravitacionales y climáticas mucho más complejas que las de nuestro sistema solar.'),\n",
       " Document(metadata={'Header 2': 'Un nuevo y fascinante vecino: Althéra', '_id': '0747288a-a9e0-402f-9b4c-f89686cd3dd6', '_collection_name': 'space'}, page_content='## Un nuevo y fascinante vecino: Althéra')]"
      ]
     },
     "execution_count": 80,
     "metadata": {},
     "output_type": "execute_result"
    }
   ],
   "source": [
    "question = \"¿Fue la ESA quein descubrió Althera?\"\n",
    "retriever_from_llm_custom.invoke(question)"
   ]
  },
  {
   "cell_type": "code",
   "execution_count": null,
   "id": "6790e089",
   "metadata": {},
   "outputs": [],
   "source": []
  }
 ],
 "metadata": {
  "kernelspec": {
   "display_name": "dslab-rag-e2e",
   "language": "python",
   "name": "python3"
  },
  "language_info": {
   "codemirror_mode": {
    "name": "ipython",
    "version": 3
   },
   "file_extension": ".py",
   "mimetype": "text/x-python",
   "name": "python",
   "nbconvert_exporter": "python",
   "pygments_lexer": "ipython3",
   "version": "3.10.18"
  }
 },
 "nbformat": 4,
 "nbformat_minor": 5
}
