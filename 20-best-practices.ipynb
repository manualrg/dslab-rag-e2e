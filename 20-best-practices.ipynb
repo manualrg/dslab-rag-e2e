{
 "cells": [
  {
   "cell_type": "markdown",
   "id": "0ace2e56",
   "metadata": {},
   "source": [
    "![best-pract](docs/best-pract.png)\n",
    "\n",
    "\n",
    "from: [Seven Failure Points When Engineering a Retrieval Augmented Generation System](https://arxiv.org/pdf/2401.05856)\n",
    "and [12 RAG Pain Points and Proposed Solutions. LlamaIndex](https://x.com/llama_index/status/1753829824484065625)\n",
    "\n"
   ]
  },
  {
   "cell_type": "markdown",
   "id": "6965061f",
   "metadata": {},
   "source": [
    "# The hidden technical Debt\n",
    "\n",
    "![hidden-td.png](docs/hidden-td.png)\n",
    "\n",
    "from: [Machine Learning: The High Interest Credit Card of Technical Debt. Google Research](https://research.google/pubs/machine-learning-the-high-interest-credit-card-of-technical-debt/)"
   ]
  },
  {
   "cell_type": "markdown",
   "id": "30c55a39",
   "metadata": {},
   "source": []
  }
 ],
 "metadata": {
  "language_info": {
   "name": "python"
  }
 },
 "nbformat": 4,
 "nbformat_minor": 5
}
