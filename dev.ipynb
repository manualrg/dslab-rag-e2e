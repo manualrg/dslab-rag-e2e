{
 "cells": [
  {
   "cell_type": "code",
   "execution_count": 1,
   "id": "5f56b3be",
   "metadata": {},
   "outputs": [
    {
     "ename": "ModuleNotFoundError",
     "evalue": "No module named 'markdown'",
     "output_type": "error",
     "traceback": [
      "\u001b[1;31m---------------------------------------------------------------------------\u001b[0m",
      "\u001b[1;31mModuleNotFoundError\u001b[0m                       Traceback (most recent call last)",
      "Cell \u001b[1;32mIn[1], line 1\u001b[0m\n\u001b[1;32m----> 1\u001b[0m \u001b[38;5;28;01mimport\u001b[39;00m\u001b[38;5;250m \u001b[39m\u001b[38;5;21;01mmarkdown\u001b[39;00m\n\u001b[0;32m      2\u001b[0m f \u001b[38;5;241m=\u001b[39m \u001b[38;5;28mopen\u001b[39m(\u001b[38;5;124m'\u001b[39m\u001b[38;5;124mdata/pipeline/Divulgacion-Planetaria-Althera.md\u001b[39m\u001b[38;5;124m'\u001b[39m, \u001b[38;5;124m'\u001b[39m\u001b[38;5;124mr\u001b[39m\u001b[38;5;124m'\u001b[39m)\n\u001b[0;32m      3\u001b[0m htmlmarkdown\u001b[38;5;241m=\u001b[39mmarkdown\u001b[38;5;241m.\u001b[39mmarkdown( f\u001b[38;5;241m.\u001b[39mread() )\n",
      "\u001b[1;31mModuleNotFoundError\u001b[0m: No module named 'markdown'"
     ]
    }
   ],
   "source": [
    "import markdown\n",
    "f = open('data/pipeline/Divulgacion-Planetaria-Althera.md', 'r')\n",
    "htmlmarkdown=markdown.markdown( f.read() )\n"
   ]
  },
  {
   "cell_type": "code",
   "execution_count": 2,
   "id": "6028e13c",
   "metadata": {},
   "outputs": [],
   "source": [
    "with open(\"data/pipeline/Divulgacion-Planetaria-Althera.md\", \"r\", encoding=\"utf-8\") as f:\n",
    "    markdown_string = f.read()"
   ]
  },
  {
   "cell_type": "code",
   "execution_count": null,
   "id": "0ee51cbd",
   "metadata": {},
   "outputs": [
    {
     "ename": "SyntaxError",
     "evalue": "invalid syntax (1128428707.py, line 8)",
     "output_type": "error",
     "traceback": [
      "\u001b[1;36m  Cell \u001b[1;32mIn[4], line 8\u001b[1;36m\u001b[0m\n\u001b[1;33m    \"date\": \"2025-07\"\u001b[0m\n\u001b[1;37m          ^\u001b[0m\n\u001b[1;31mSyntaxError\u001b[0m\u001b[1;31m:\u001b[0m invalid syntax\n"
     ]
    }
   ],
   "source": [
    "from langchain_core.documents import Document\n",
    "\n",
    "docc = Document(\n",
    "    page_content=markdown_string,\n",
    "    metadata={  # optional\n",
    "        \"title\": \"Divulgacion-Planetaria-Althera.md\",\n",
    "        \"source\": \"Divulgacion Planetaria\",\n",
    "        \"date\": \"2025-07\"\n",
    "    }\n",
    ")"
   ]
  },
  {
   "cell_type": "code",
   "execution_count": null,
   "id": "6520b5ef",
   "metadata": {},
   "outputs": [],
   "source": []
  }
 ],
 "metadata": {
  "kernelspec": {
   "display_name": "dslab-rag-e2e",
   "language": "python",
   "name": "python3"
  },
  "language_info": {
   "codemirror_mode": {
    "name": "ipython",
    "version": 3
   },
   "file_extension": ".py",
   "mimetype": "text/x-python",
   "name": "python",
   "nbconvert_exporter": "python",
   "pygments_lexer": "ipython3",
   "version": "3.10.9"
  }
 },
 "nbformat": 4,
 "nbformat_minor": 5
}
